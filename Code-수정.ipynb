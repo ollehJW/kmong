{
 "cells": [
  {
   "cell_type": "markdown",
   "metadata": {
    "id": "rYqEW4uYWZg8"
   },
   "source": [
    "## 1. 사용할 패키지 불러오기"
   ]
  },
  {
   "cell_type": "code",
   "execution_count": 50,
   "metadata": {
    "id": "1UtyKD-WWcwZ"
   },
   "outputs": [],
   "source": [
    "import pandas as pd\n",
    "import numpy as np\n",
    "from sklearn.preprocessing import MinMaxScaler\n",
    "from sklearn.metrics import mean_absolute_percentage_error, mean_squared_error, r2_score\n",
    "from sklearn.ensemble import RandomForestRegressor\n",
    "import xgboost\n",
    "from sklearn.model_selection import train_test_split\n",
    "import seaborn as sns\n",
    "import matplotlib.pyplot as plt\n",
    "from sklearn.linear_model import LinearRegression\n",
    "from sklearn.tree import DecisionTreeRegressor\n",
    "from sklearn.svm import SVR"
   ]
  },
  {
   "cell_type": "code",
   "execution_count": 5,
   "metadata": {},
   "outputs": [],
   "source": [
    "import matplotlib.font_manager as fm\n",
    "from matplotlib import rc\n",
    "font_name = fm.FontProperties(fname=\"c:/Windows/Fonts/H2GTRE.ttf\").get_name()\n",
    "rc('font', family=font_name)"
   ]
  },
  {
   "cell_type": "markdown",
   "metadata": {
    "id": "9DiItT7tWfhF"
   },
   "source": [
    "## 2. 데이터 불러오기"
   ]
  },
  {
   "cell_type": "code",
   "execution_count": 6,
   "metadata": {},
   "outputs": [
    {
     "data": {
      "text/html": [
       "<div>\n",
       "<style scoped>\n",
       "    .dataframe tbody tr th:only-of-type {\n",
       "        vertical-align: middle;\n",
       "    }\n",
       "\n",
       "    .dataframe tbody tr th {\n",
       "        vertical-align: top;\n",
       "    }\n",
       "\n",
       "    .dataframe thead th {\n",
       "        text-align: right;\n",
       "    }\n",
       "</style>\n",
       "<table border=\"1\" class=\"dataframe\">\n",
       "  <thead>\n",
       "    <tr style=\"text-align: right;\">\n",
       "      <th></th>\n",
       "      <th>HUMAN ID</th>\n",
       "      <th>성별</th>\n",
       "      <th>ISO나이</th>\n",
       "      <th>나이</th>\n",
       "      <th>오른쪽어깨경사각</th>\n",
       "      <th>왼쪽어깨경사각</th>\n",
       "      <th>머리위로뻗은주먹높이</th>\n",
       "      <th>키</th>\n",
       "      <th>눈높이</th>\n",
       "      <th>목뒤높이</th>\n",
       "      <th>...</th>\n",
       "      <th>왼쪽상체근육발달</th>\n",
       "      <th>오른쪽상체근육발달</th>\n",
       "      <th>왼쪽하체근육발달</th>\n",
       "      <th>오른쪽하체근육발달</th>\n",
       "      <th>몸통근육발달</th>\n",
       "      <th>왼쪽상체체지방</th>\n",
       "      <th>오른쪽상체체지방</th>\n",
       "      <th>왼쪽하체체지방</th>\n",
       "      <th>오른쪽하체체지방</th>\n",
       "      <th>몸통체지방</th>\n",
       "    </tr>\n",
       "  </thead>\n",
       "  <tbody>\n",
       "    <tr>\n",
       "      <th>0</th>\n",
       "      <td>120100196</td>\n",
       "      <td>남</td>\n",
       "      <td>7.48</td>\n",
       "      <td>7</td>\n",
       "      <td>18.0</td>\n",
       "      <td>22.0</td>\n",
       "      <td>1543.0</td>\n",
       "      <td>1330.0</td>\n",
       "      <td>1215.0</td>\n",
       "      <td>1111.0</td>\n",
       "      <td>...</td>\n",
       "      <td>표하</td>\n",
       "      <td>표하</td>\n",
       "      <td>표하</td>\n",
       "      <td>표하</td>\n",
       "      <td>표하</td>\n",
       "      <td>표상</td>\n",
       "      <td>표상</td>\n",
       "      <td>표상</td>\n",
       "      <td>표상</td>\n",
       "      <td>표상</td>\n",
       "    </tr>\n",
       "    <tr>\n",
       "      <th>1</th>\n",
       "      <td>120100197</td>\n",
       "      <td>남</td>\n",
       "      <td>7.07</td>\n",
       "      <td>7</td>\n",
       "      <td>24.0</td>\n",
       "      <td>26.0</td>\n",
       "      <td>1305.0</td>\n",
       "      <td>1160.0</td>\n",
       "      <td>1053.0</td>\n",
       "      <td>970.0</td>\n",
       "      <td>...</td>\n",
       "      <td>표준</td>\n",
       "      <td>표준</td>\n",
       "      <td>표상</td>\n",
       "      <td>표상</td>\n",
       "      <td>표준</td>\n",
       "      <td>표준</td>\n",
       "      <td>표준</td>\n",
       "      <td>표준</td>\n",
       "      <td>표준</td>\n",
       "      <td>표하</td>\n",
       "    </tr>\n",
       "    <tr>\n",
       "      <th>2</th>\n",
       "      <td>120100198</td>\n",
       "      <td>남</td>\n",
       "      <td>7.49</td>\n",
       "      <td>7</td>\n",
       "      <td>16.0</td>\n",
       "      <td>26.0</td>\n",
       "      <td>1487.0</td>\n",
       "      <td>1243.0</td>\n",
       "      <td>1131.0</td>\n",
       "      <td>1021.0</td>\n",
       "      <td>...</td>\n",
       "      <td>표하</td>\n",
       "      <td>표준</td>\n",
       "      <td>표하</td>\n",
       "      <td>표하</td>\n",
       "      <td>표준</td>\n",
       "      <td>표상</td>\n",
       "      <td>표준</td>\n",
       "      <td>표준</td>\n",
       "      <td>표준</td>\n",
       "      <td>표하</td>\n",
       "    </tr>\n",
       "    <tr>\n",
       "      <th>3</th>\n",
       "      <td>120100199</td>\n",
       "      <td>남</td>\n",
       "      <td>7.32</td>\n",
       "      <td>7</td>\n",
       "      <td>31.0</td>\n",
       "      <td>26.0</td>\n",
       "      <td>1280.0</td>\n",
       "      <td>1144.0</td>\n",
       "      <td>1020.0</td>\n",
       "      <td>913.0</td>\n",
       "      <td>...</td>\n",
       "      <td>표하</td>\n",
       "      <td>표하</td>\n",
       "      <td>표하</td>\n",
       "      <td>표하</td>\n",
       "      <td>표상</td>\n",
       "      <td>표상</td>\n",
       "      <td>표상</td>\n",
       "      <td>표상</td>\n",
       "      <td>표상</td>\n",
       "      <td>표하</td>\n",
       "    </tr>\n",
       "    <tr>\n",
       "      <th>4</th>\n",
       "      <td>120100200</td>\n",
       "      <td>남</td>\n",
       "      <td>6.71</td>\n",
       "      <td>7</td>\n",
       "      <td>19.0</td>\n",
       "      <td>24.0</td>\n",
       "      <td>1480.0</td>\n",
       "      <td>1277.0</td>\n",
       "      <td>1165.0</td>\n",
       "      <td>1055.0</td>\n",
       "      <td>...</td>\n",
       "      <td>표준</td>\n",
       "      <td>표준</td>\n",
       "      <td>표하</td>\n",
       "      <td>표하</td>\n",
       "      <td>표준</td>\n",
       "      <td>표상</td>\n",
       "      <td>표상</td>\n",
       "      <td>표상</td>\n",
       "      <td>표상</td>\n",
       "      <td>표상</td>\n",
       "    </tr>\n",
       "  </tbody>\n",
       "</table>\n",
       "<p>5 rows × 157 columns</p>\n",
       "</div>"
      ],
      "text/plain": [
       "    HUMAN ID 성별  ISO나이  나이  오른쪽어깨경사각  왼쪽어깨경사각  머리위로뻗은주먹높이       키     눈높이  \\\n",
       "0  120100196  남   7.48   7      18.0     22.0      1543.0  1330.0  1215.0   \n",
       "1  120100197  남   7.07   7      24.0     26.0      1305.0  1160.0  1053.0   \n",
       "2  120100198  남   7.49   7      16.0     26.0      1487.0  1243.0  1131.0   \n",
       "3  120100199  남   7.32   7      31.0     26.0      1280.0  1144.0  1020.0   \n",
       "4  120100200  남   6.71   7      19.0     24.0      1480.0  1277.0  1165.0   \n",
       "\n",
       "     목뒤높이  ...  왼쪽상체근육발달  오른쪽상체근육발달  왼쪽하체근육발달  오른쪽하체근육발달  몸통근육발달  왼쪽상체체지방  \\\n",
       "0  1111.0  ...        표하         표하        표하         표하      표하       표상   \n",
       "1   970.0  ...        표준         표준        표상         표상      표준       표준   \n",
       "2  1021.0  ...        표하         표준        표하         표하      표준       표상   \n",
       "3   913.0  ...        표하         표하        표하         표하      표상       표상   \n",
       "4  1055.0  ...        표준         표준        표하         표하      표준       표상   \n",
       "\n",
       "   오른쪽상체체지방  왼쪽하체체지방  오른쪽하체체지방  몸통체지방  \n",
       "0        표상       표상        표상     표상  \n",
       "1        표준       표준        표준     표하  \n",
       "2        표준       표준        표준     표하  \n",
       "3        표상       표상        표상     표하  \n",
       "4        표상       표상        표상     표상  \n",
       "\n",
       "[5 rows x 157 columns]"
      ]
     },
     "execution_count": 6,
     "metadata": {},
     "output_type": "execute_result"
    }
   ],
   "source": [
    "data = pd.read_csv('data.csv')\n",
    "data.head()"
   ]
  },
  {
   "cell_type": "markdown",
   "metadata": {
    "id": "bTvVBqp0ZoWQ"
   },
   "source": [
    "## 3. 데이터 전처리"
   ]
  },
  {
   "cell_type": "markdown",
   "metadata": {},
   "source": [
    "### (1) 결측치가 있는 ID 제거"
   ]
  },
  {
   "cell_type": "code",
   "execution_count": 7,
   "metadata": {},
   "outputs": [
    {
     "data": {
      "text/plain": [
       "HUMAN ID       0\n",
       "성별             0\n",
       "ISO나이          0\n",
       "나이             0\n",
       "오른쪽어깨경사각       0\n",
       "            ... \n",
       "왼쪽상체체지방     1122\n",
       "오른쪽상체체지방    1122\n",
       "왼쪽하체체지방     1122\n",
       "오른쪽하체체지방    1122\n",
       "몸통체지방       1122\n",
       "Length: 157, dtype: int64"
      ]
     },
     "execution_count": 7,
     "metadata": {},
     "output_type": "execute_result"
    }
   ],
   "source": [
    "data.isnull().sum()"
   ]
  },
  {
   "cell_type": "markdown",
   "metadata": {},
   "source": [
    "#### 5000개 이상 결측치가 있는 변수 제거"
   ]
  },
  {
   "cell_type": "code",
   "execution_count": 8,
   "metadata": {},
   "outputs": [],
   "source": [
    "del data['젖꼭지사이수평길이']\n",
    "del data['젖가슴아래둘레']\n",
    "del data['목옆젖꼭지길이']"
   ]
  },
  {
   "cell_type": "markdown",
   "metadata": {},
   "source": [
    "#### 결측치 제거"
   ]
  },
  {
   "cell_type": "code",
   "execution_count": 9,
   "metadata": {},
   "outputs": [],
   "source": [
    "data = data.dropna().reset_index(drop = True)"
   ]
  },
  {
   "cell_type": "markdown",
   "metadata": {
    "id": "u-0zZm57ZuW6"
   },
   "source": [
    "### (2) 독립 변수와 종속 변수 분할"
   ]
  },
  {
   "cell_type": "code",
   "execution_count": 10,
   "metadata": {},
   "outputs": [],
   "source": [
    "independent_variable = ['키','몸무게','BMI','가슴너비','허리너비','엉덩이너비','목둘레','가슴둘레','배둘레','허리둘레','엉덩이둘레','장딴지둘레','종아리최소둘레']\n",
    "target_variable = ['체지방률', '체지방률평가']"
   ]
  },
  {
   "cell_type": "markdown",
   "metadata": {
    "id": "ygf2DlO-dgo7"
   },
   "source": [
    "### (3) 변수 사이의 상관관계 확인"
   ]
  },
  {
   "cell_type": "code",
   "execution_count": 12,
   "metadata": {},
   "outputs": [
    {
     "data": {
      "text/plain": [
       "<seaborn.matrix.ClusterGrid at 0x2709de7c400>"
      ]
     },
     "execution_count": 12,
     "metadata": {},
     "output_type": "execute_result"
    },
    {
     "data": {
      "image/png": "[encoded data removed]",
      "text/plain": [
       "<Figure size 720x720 with 4 Axes>"
      ]
     },
     "metadata": {
      "needs_background": "light"
     },
     "output_type": "display_data"
    }
   ],
   "source": [
    "corr_data = data.loc[:, independent_variable + ['체지방률']]\n",
    "corr_data = corr_data.corr()\n",
    "\n",
    "sns.clustermap(corr_data, \n",
    "               annot = True,      # 실제 값 화면에 나타내기\n",
    "               cmap = 'RdYlBu_r',  # Red, Yellow, Blue 색상으로 표시\n",
    "               vmin = -1, vmax = 1, #컬러차트 -1 ~ 1 범위로 표시\n",
    "              )"
   ]
  },
  {
   "cell_type": "markdown",
   "metadata": {
    "id": "cVgdlINQcCAy"
   },
   "source": [
    "### (4) 연속형 변수 정규화 (Min-max 정규화)"
   ]
  },
  {
   "cell_type": "code",
   "execution_count": 17,
   "metadata": {
    "colab": {
     "base_uri": "https://localhost:8080/",
     "height": 206
    },
    "id": "EF32tLPNcbj0",
    "outputId": "12ba89f7-44b2-4946-ebec-9b24e94fdac0"
   },
   "outputs": [
    {
     "data": {
      "text/html": [
       "<div>\n",
       "<style scoped>\n",
       "    .dataframe tbody tr th:only-of-type {\n",
       "        vertical-align: middle;\n",
       "    }\n",
       "\n",
       "    .dataframe tbody tr th {\n",
       "        vertical-align: top;\n",
       "    }\n",
       "\n",
       "    .dataframe thead th {\n",
       "        text-align: right;\n",
       "    }\n",
       "</style>\n",
       "<table border=\"1\" class=\"dataframe\">\n",
       "  <thead>\n",
       "    <tr style=\"text-align: right;\">\n",
       "      <th></th>\n",
       "      <th>키</th>\n",
       "      <th>몸무게</th>\n",
       "      <th>BMI</th>\n",
       "      <th>가슴너비</th>\n",
       "      <th>허리너비</th>\n",
       "      <th>엉덩이너비</th>\n",
       "      <th>목둘레</th>\n",
       "      <th>가슴둘레</th>\n",
       "      <th>배둘레</th>\n",
       "      <th>허리둘레</th>\n",
       "      <th>엉덩이둘레</th>\n",
       "      <th>장딴지둘레</th>\n",
       "      <th>종아리최소둘레</th>\n",
       "    </tr>\n",
       "  </thead>\n",
       "  <tbody>\n",
       "    <tr>\n",
       "      <th>0</th>\n",
       "      <td>0.318058</td>\n",
       "      <td>0.169143</td>\n",
       "      <td>0.261468</td>\n",
       "      <td>0.203791</td>\n",
       "      <td>0.254851</td>\n",
       "      <td>0.303896</td>\n",
       "      <td>0.226244</td>\n",
       "      <td>0.252308</td>\n",
       "      <td>0.317147</td>\n",
       "      <td>0.289969</td>\n",
       "      <td>0.344715</td>\n",
       "      <td>0.311787</td>\n",
       "      <td>0.311085</td>\n",
       "    </tr>\n",
       "    <tr>\n",
       "      <th>1</th>\n",
       "      <td>0.124923</td>\n",
       "      <td>0.029714</td>\n",
       "      <td>0.100917</td>\n",
       "      <td>0.075829</td>\n",
       "      <td>0.035152</td>\n",
       "      <td>0.102932</td>\n",
       "      <td>0.149321</td>\n",
       "      <td>0.115385</td>\n",
       "      <td>0.065250</td>\n",
       "      <td>0.092476</td>\n",
       "      <td>0.092683</td>\n",
       "      <td>0.110266</td>\n",
       "      <td>0.075874</td>\n",
       "    </tr>\n",
       "    <tr>\n",
       "      <th>2</th>\n",
       "      <td>0.219219</td>\n",
       "      <td>0.077714</td>\n",
       "      <td>0.146789</td>\n",
       "      <td>0.213270</td>\n",
       "      <td>0.241669</td>\n",
       "      <td>0.191160</td>\n",
       "      <td>0.180995</td>\n",
       "      <td>0.170769</td>\n",
       "      <td>0.154780</td>\n",
       "      <td>0.163009</td>\n",
       "      <td>0.182114</td>\n",
       "      <td>0.231939</td>\n",
       "      <td>0.159336</td>\n",
       "    </tr>\n",
       "    <tr>\n",
       "      <th>3</th>\n",
       "      <td>0.106746</td>\n",
       "      <td>0.035429</td>\n",
       "      <td>0.142202</td>\n",
       "      <td>0.203791</td>\n",
       "      <td>0.145002</td>\n",
       "      <td>0.112735</td>\n",
       "      <td>0.226244</td>\n",
       "      <td>0.110769</td>\n",
       "      <td>0.078907</td>\n",
       "      <td>0.095611</td>\n",
       "      <td>0.141463</td>\n",
       "      <td>0.133080</td>\n",
       "      <td>0.151749</td>\n",
       "    </tr>\n",
       "    <tr>\n",
       "      <th>4</th>\n",
       "      <td>0.257846</td>\n",
       "      <td>0.232000</td>\n",
       "      <td>0.481651</td>\n",
       "      <td>0.345643</td>\n",
       "      <td>0.432208</td>\n",
       "      <td>0.382320</td>\n",
       "      <td>0.330317</td>\n",
       "      <td>0.352308</td>\n",
       "      <td>0.438311</td>\n",
       "      <td>0.414546</td>\n",
       "      <td>0.414634</td>\n",
       "      <td>0.395437</td>\n",
       "      <td>0.447659</td>\n",
       "    </tr>\n",
       "  </tbody>\n",
       "</table>\n",
       "</div>"
      ],
      "text/plain": [
       "          키       몸무게       BMI      가슴너비      허리너비     엉덩이너비       목둘레  \\\n",
       "0  0.318058  0.169143  0.261468  0.203791  0.254851  0.303896  0.226244   \n",
       "1  0.124923  0.029714  0.100917  0.075829  0.035152  0.102932  0.149321   \n",
       "2  0.219219  0.077714  0.146789  0.213270  0.241669  0.191160  0.180995   \n",
       "3  0.106746  0.035429  0.142202  0.203791  0.145002  0.112735  0.226244   \n",
       "4  0.257846  0.232000  0.481651  0.345643  0.432208  0.382320  0.330317   \n",
       "\n",
       "       가슴둘레       배둘레      허리둘레     엉덩이둘레     장딴지둘레   종아리최소둘레  \n",
       "0  0.252308  0.317147  0.289969  0.344715  0.311787  0.311085  \n",
       "1  0.115385  0.065250  0.092476  0.092683  0.110266  0.075874  \n",
       "2  0.170769  0.154780  0.163009  0.182114  0.231939  0.159336  \n",
       "3  0.110769  0.078907  0.095611  0.141463  0.133080  0.151749  \n",
       "4  0.352308  0.438311  0.414546  0.414634  0.395437  0.447659  "
      ]
     },
     "execution_count": 17,
     "metadata": {},
     "output_type": "execute_result"
    }
   ],
   "source": [
    "X = data.loc[:, independent_variable]\n",
    "\n",
    "minmax_scaler = MinMaxScaler()\n",
    "minmax_scaler = minmax_scaler.fit_transform(X)\n",
    "X.loc[:, independent_variable] = minmax_scaler\n",
    "X.head()"
   ]
  },
  {
   "cell_type": "markdown",
   "metadata": {
    "id": "wTlss9ZctfZO"
   },
   "source": [
    "### (5) Train Test 분할"
   ]
  },
  {
   "cell_type": "code",
   "execution_count": 21,
   "metadata": {},
   "outputs": [],
   "source": [
    "train_X, test_X, train_y, test_y = train_test_split(X, data['체지방률'], test_size=0.3, random_state=17)"
   ]
  },
  {
   "cell_type": "markdown",
   "metadata": {},
   "source": [
    "## 4. 머신러닝 모델"
   ]
  },
  {
   "cell_type": "code",
   "execution_count": null,
   "metadata": {},
   "outputs": [],
   "source": [
    "RMSE_list = []\n",
    "R2_list = []"
   ]
  },
  {
   "cell_type": "markdown",
   "metadata": {},
   "source": [
    "### (1) 선형 회귀 분석"
   ]
  },
  {
   "cell_type": "code",
   "execution_count": 40,
   "metadata": {},
   "outputs": [],
   "source": [
    "reg_model = LinearRegression().fit(train_X, train_y)"
   ]
  },
  {
   "cell_type": "markdown",
   "metadata": {},
   "source": [
    "#### - Test 성능 관찰"
   ]
  },
  {
   "cell_type": "code",
   "execution_count": 41,
   "metadata": {},
   "outputs": [
    {
     "name": "stdout",
     "output_type": "stream",
     "text": [
      "RMSE: 3.7646907622766266\n",
      "R2: 0.7409732356978098\n"
     ]
    }
   ],
   "source": [
    "test_predict = reg_model.predict(test_X)\n",
    "\n",
    "RMSE_list.append(np.sqrt(mean_squared_error(test_y, test_predict)))\n",
    "R2_list.append(r2_score(test_y, test_predict))\n",
    "\n",
    "print(\"RMSE: {}\".format(np.sqrt(mean_squared_error(test_y, test_predict))))\n",
    "print(\"R2: {}\".format(r2_score(test_y, test_predict)))"
   ]
  },
  {
   "cell_type": "code",
   "execution_count": null,
   "metadata": {},
   "outputs": [],
   "source": [
    "plt.scatter(test_y, test_predict, alpha=0.3)\n",
    "plt.ylim([5, 50])\n",
    "plt.xlim([5, 50])\n",
    "plt.ylabel('predict')\n",
    "plt.xlabel('true')"
   ]
  },
  {
   "cell_type": "markdown",
   "metadata": {},
   "source": [
    "### (2) 의사결정 나무"
   ]
  },
  {
   "cell_type": "markdown",
   "metadata": {},
   "source": [
    "#### - 하이퍼 파라미터 튜닝"
   ]
  },
  {
   "cell_type": "code",
   "execution_count": 44,
   "metadata": {},
   "outputs": [
    {
     "data": {
      "text/html": [
       "<div>\n",
       "<style scoped>\n",
       "    .dataframe tbody tr th:only-of-type {\n",
       "        vertical-align: middle;\n",
       "    }\n",
       "\n",
       "    .dataframe tbody tr th {\n",
       "        vertical-align: top;\n",
       "    }\n",
       "\n",
       "    .dataframe thead th {\n",
       "        text-align: right;\n",
       "    }\n",
       "</style>\n",
       "<table border=\"1\" class=\"dataframe\">\n",
       "  <thead>\n",
       "    <tr style=\"text-align: right;\">\n",
       "      <th></th>\n",
       "      <th>max_depth</th>\n",
       "      <th>min_samples_split</th>\n",
       "      <th>Train Score</th>\n",
       "      <th>Test Score</th>\n",
       "    </tr>\n",
       "  </thead>\n",
       "  <tbody>\n",
       "    <tr>\n",
       "      <th>0</th>\n",
       "      <td>3</td>\n",
       "      <td>5</td>\n",
       "      <td>5.153799</td>\n",
       "      <td>5.169130</td>\n",
       "    </tr>\n",
       "    <tr>\n",
       "      <th>1</th>\n",
       "      <td>3</td>\n",
       "      <td>7</td>\n",
       "      <td>5.153799</td>\n",
       "      <td>5.169130</td>\n",
       "    </tr>\n",
       "    <tr>\n",
       "      <th>2</th>\n",
       "      <td>3</td>\n",
       "      <td>9</td>\n",
       "      <td>5.153799</td>\n",
       "      <td>5.169130</td>\n",
       "    </tr>\n",
       "    <tr>\n",
       "      <th>3</th>\n",
       "      <td>3</td>\n",
       "      <td>11</td>\n",
       "      <td>5.153799</td>\n",
       "      <td>5.169130</td>\n",
       "    </tr>\n",
       "    <tr>\n",
       "      <th>4</th>\n",
       "      <td>3</td>\n",
       "      <td>13</td>\n",
       "      <td>5.153799</td>\n",
       "      <td>5.169130</td>\n",
       "    </tr>\n",
       "    <tr>\n",
       "      <th>5</th>\n",
       "      <td>5</td>\n",
       "      <td>5</td>\n",
       "      <td>4.251826</td>\n",
       "      <td>4.368733</td>\n",
       "    </tr>\n",
       "    <tr>\n",
       "      <th>6</th>\n",
       "      <td>5</td>\n",
       "      <td>7</td>\n",
       "      <td>4.251826</td>\n",
       "      <td>4.368733</td>\n",
       "    </tr>\n",
       "    <tr>\n",
       "      <th>7</th>\n",
       "      <td>5</td>\n",
       "      <td>9</td>\n",
       "      <td>4.251826</td>\n",
       "      <td>4.368733</td>\n",
       "    </tr>\n",
       "    <tr>\n",
       "      <th>8</th>\n",
       "      <td>5</td>\n",
       "      <td>11</td>\n",
       "      <td>4.251826</td>\n",
       "      <td>4.368733</td>\n",
       "    </tr>\n",
       "    <tr>\n",
       "      <th>9</th>\n",
       "      <td>5</td>\n",
       "      <td>13</td>\n",
       "      <td>4.251826</td>\n",
       "      <td>4.368733</td>\n",
       "    </tr>\n",
       "    <tr>\n",
       "      <th>10</th>\n",
       "      <td>7</td>\n",
       "      <td>5</td>\n",
       "      <td>3.699491</td>\n",
       "      <td>4.156674</td>\n",
       "    </tr>\n",
       "    <tr>\n",
       "      <th>11</th>\n",
       "      <td>7</td>\n",
       "      <td>7</td>\n",
       "      <td>3.699491</td>\n",
       "      <td>4.156674</td>\n",
       "    </tr>\n",
       "    <tr>\n",
       "      <th>12</th>\n",
       "      <td>7</td>\n",
       "      <td>9</td>\n",
       "      <td>3.701440</td>\n",
       "      <td>4.154514</td>\n",
       "    </tr>\n",
       "    <tr>\n",
       "      <th>13</th>\n",
       "      <td>7</td>\n",
       "      <td>11</td>\n",
       "      <td>3.701440</td>\n",
       "      <td>4.154514</td>\n",
       "    </tr>\n",
       "    <tr>\n",
       "      <th>14</th>\n",
       "      <td>7</td>\n",
       "      <td>13</td>\n",
       "      <td>3.701440</td>\n",
       "      <td>4.154514</td>\n",
       "    </tr>\n",
       "    <tr>\n",
       "      <th>15</th>\n",
       "      <td>9</td>\n",
       "      <td>5</td>\n",
       "      <td>3.220030</td>\n",
       "      <td>4.220240</td>\n",
       "    </tr>\n",
       "    <tr>\n",
       "      <th>16</th>\n",
       "      <td>9</td>\n",
       "      <td>7</td>\n",
       "      <td>3.224779</td>\n",
       "      <td>4.192623</td>\n",
       "    </tr>\n",
       "    <tr>\n",
       "      <th>17</th>\n",
       "      <td>9</td>\n",
       "      <td>9</td>\n",
       "      <td>3.234907</td>\n",
       "      <td>4.189629</td>\n",
       "    </tr>\n",
       "    <tr>\n",
       "      <th>18</th>\n",
       "      <td>9</td>\n",
       "      <td>11</td>\n",
       "      <td>3.237547</td>\n",
       "      <td>4.188824</td>\n",
       "    </tr>\n",
       "    <tr>\n",
       "      <th>19</th>\n",
       "      <td>9</td>\n",
       "      <td>13</td>\n",
       "      <td>3.247115</td>\n",
       "      <td>4.181591</td>\n",
       "    </tr>\n",
       "    <tr>\n",
       "      <th>20</th>\n",
       "      <td>11</td>\n",
       "      <td>5</td>\n",
       "      <td>2.660717</td>\n",
       "      <td>4.420931</td>\n",
       "    </tr>\n",
       "    <tr>\n",
       "      <th>21</th>\n",
       "      <td>11</td>\n",
       "      <td>7</td>\n",
       "      <td>2.703489</td>\n",
       "      <td>4.388679</td>\n",
       "    </tr>\n",
       "    <tr>\n",
       "      <th>22</th>\n",
       "      <td>11</td>\n",
       "      <td>9</td>\n",
       "      <td>2.744726</td>\n",
       "      <td>4.364522</td>\n",
       "    </tr>\n",
       "    <tr>\n",
       "      <th>23</th>\n",
       "      <td>11</td>\n",
       "      <td>11</td>\n",
       "      <td>2.781832</td>\n",
       "      <td>4.357939</td>\n",
       "    </tr>\n",
       "    <tr>\n",
       "      <th>24</th>\n",
       "      <td>11</td>\n",
       "      <td>13</td>\n",
       "      <td>2.811842</td>\n",
       "      <td>4.327267</td>\n",
       "    </tr>\n",
       "  </tbody>\n",
       "</table>\n",
       "</div>"
      ],
      "text/plain": [
       "    max_depth  min_samples_split  Train Score  Test Score\n",
       "0           3                  5     5.153799    5.169130\n",
       "1           3                  7     5.153799    5.169130\n",
       "2           3                  9     5.153799    5.169130\n",
       "3           3                 11     5.153799    5.169130\n",
       "4           3                 13     5.153799    5.169130\n",
       "5           5                  5     4.251826    4.368733\n",
       "6           5                  7     4.251826    4.368733\n",
       "7           5                  9     4.251826    4.368733\n",
       "8           5                 11     4.251826    4.368733\n",
       "9           5                 13     4.251826    4.368733\n",
       "10          7                  5     3.699491    4.156674\n",
       "11          7                  7     3.699491    4.156674\n",
       "12          7                  9     3.701440    4.154514\n",
       "13          7                 11     3.701440    4.154514\n",
       "14          7                 13     3.701440    4.154514\n",
       "15          9                  5     3.220030    4.220240\n",
       "16          9                  7     3.224779    4.192623\n",
       "17          9                  9     3.234907    4.189629\n",
       "18          9                 11     3.237547    4.188824\n",
       "19          9                 13     3.247115    4.181591\n",
       "20         11                  5     2.660717    4.420931\n",
       "21         11                  7     2.703489    4.388679\n",
       "22         11                  9     2.744726    4.364522\n",
       "23         11                 11     2.781832    4.357939\n",
       "24         11                 13     2.811842    4.327267"
      ]
     },
     "execution_count": 44,
     "metadata": {},
     "output_type": "execute_result"
    }
   ],
   "source": [
    "max_depth_candidate = [3, 5, 7, 9, 11]\n",
    "min_samples_split_candidate = [5, 7, 9, 11, 13]\n",
    "\n",
    "# 결과를 저장할 빈 리스트 생성\n",
    "max_depth_list = []\n",
    "min_samples_split_list = []\n",
    "train_score_list = []\n",
    "val_score_list = []\n",
    "\n",
    "# Decision Tree의 max_depth 파라미터에 대해서\n",
    "for max_depth in max_depth_candidate:\n",
    "    # Decision Tree의 min_samples_split 파라미터에 대해서\n",
    "    for min_samples_split in min_samples_split_candidate:\n",
    "        # 모델 생성 및 학습\n",
    "        model = DecisionTreeRegressor(max_depth=max_depth, min_samples_split=min_samples_split, random_state = 1004).fit(train_X, train_y)\n",
    "        # Train 데이터에 대한 결과 확인\n",
    "        train_predict = model.predict(train_X)\n",
    "        train_score_list.append(np.sqrt(mean_squared_error(train_y, train_predict)))\n",
    "        # Test 데이터에 대한 결과 확인\n",
    "        test_predict = model.predict(test_X)\n",
    "        val_score_list.append(np.sqrt(mean_squared_error(test_y, test_predict)))\n",
    "        # Parameter 저장\n",
    "        max_depth_list.append(max_depth)\n",
    "        min_samples_split_list.append(min_samples_split)\n",
    "            \n",
    "result = pd.DataFrame({\"max_depth\": max_depth_list, \"min_samples_split\": min_samples_split_list, 'Train Score': train_score_list, 'Test Score': val_score_list})\n",
    "result   "
   ]
  },
  {
   "cell_type": "code",
   "execution_count": 46,
   "metadata": {},
   "outputs": [
    {
     "data": {
      "text/html": [
       "<div>\n",
       "<style scoped>\n",
       "    .dataframe tbody tr th:only-of-type {\n",
       "        vertical-align: middle;\n",
       "    }\n",
       "\n",
       "    .dataframe tbody tr th {\n",
       "        vertical-align: top;\n",
       "    }\n",
       "\n",
       "    .dataframe thead th {\n",
       "        text-align: right;\n",
       "    }\n",
       "</style>\n",
       "<table border=\"1\" class=\"dataframe\">\n",
       "  <thead>\n",
       "    <tr style=\"text-align: right;\">\n",
       "      <th></th>\n",
       "      <th>max_depth</th>\n",
       "      <th>min_samples_split</th>\n",
       "      <th>Train Score</th>\n",
       "      <th>Test Score</th>\n",
       "    </tr>\n",
       "  </thead>\n",
       "  <tbody>\n",
       "    <tr>\n",
       "      <th>0</th>\n",
       "      <td>7</td>\n",
       "      <td>9</td>\n",
       "      <td>3.70144</td>\n",
       "      <td>4.154514</td>\n",
       "    </tr>\n",
       "    <tr>\n",
       "      <th>1</th>\n",
       "      <td>7</td>\n",
       "      <td>11</td>\n",
       "      <td>3.70144</td>\n",
       "      <td>4.154514</td>\n",
       "    </tr>\n",
       "    <tr>\n",
       "      <th>2</th>\n",
       "      <td>7</td>\n",
       "      <td>13</td>\n",
       "      <td>3.70144</td>\n",
       "      <td>4.154514</td>\n",
       "    </tr>\n",
       "  </tbody>\n",
       "</table>\n",
       "</div>"
      ],
      "text/plain": [
       "   max_depth  min_samples_split  Train Score  Test Score\n",
       "0          7                  9      3.70144    4.154514\n",
       "1          7                 11      3.70144    4.154514\n",
       "2          7                 13      3.70144    4.154514"
      ]
     },
     "execution_count": 46,
     "metadata": {},
     "output_type": "execute_result"
    }
   ],
   "source": [
    "result = result.loc[result['Test Score'] == min(result['Test Score']), :].reset_index(drop = True)\n",
    "dt_model = DecisionTreeRegressor(max_depth=result['max_depth'][0], min_samples_split=result['min_samples_split'][0], random_state = 1004).fit(train_X, train_y)\n",
    "result"
   ]
  },
  {
   "cell_type": "markdown",
   "metadata": {},
   "source": [
    "#### - Test 성능 관찰"
   ]
  },
  {
   "cell_type": "code",
   "execution_count": 47,
   "metadata": {},
   "outputs": [
    {
     "name": "stdout",
     "output_type": "stream",
     "text": [
      "RMSE: 4.154514208551437\n",
      "R2: 0.6845529132053148\n"
     ]
    }
   ],
   "source": [
    "test_predict = dt_model.predict(test_X)\n",
    "\n",
    "RMSE_list.append(np.sqrt(mean_squared_error(test_y, test_predict)))\n",
    "R2_list.append(r2_score(test_y, test_predict))\n",
    "\n",
    "print(\"RMSE: {}\".format(np.sqrt(mean_squared_error(test_y, test_predict))))\n",
    "print(\"R2: {}\".format(r2_score(test_y, test_predict)))"
   ]
  },
  {
   "cell_type": "code",
   "execution_count": null,
   "metadata": {},
   "outputs": [],
   "source": [
    "plt.scatter(test_y, test_predict, alpha=0.3)\n",
    "plt.ylim([5, 50])\n",
    "plt.xlim([5, 50])\n",
    "plt.ylabel('predict')\n",
    "plt.xlabel('true')"
   ]
  },
  {
   "cell_type": "markdown",
   "metadata": {},
   "source": [
    "### (3) SVM"
   ]
  },
  {
   "cell_type": "markdown",
   "metadata": {},
   "source": [
    "#### - 하이퍼 파라미터 튜닝"
   ]
  },
  {
   "cell_type": "code",
   "execution_count": 51,
   "metadata": {},
   "outputs": [
    {
     "data": {
      "text/html": [
       "<div>\n",
       "<style scoped>\n",
       "    .dataframe tbody tr th:only-of-type {\n",
       "        vertical-align: middle;\n",
       "    }\n",
       "\n",
       "    .dataframe tbody tr th {\n",
       "        vertical-align: top;\n",
       "    }\n",
       "\n",
       "    .dataframe thead th {\n",
       "        text-align: right;\n",
       "    }\n",
       "</style>\n",
       "<table border=\"1\" class=\"dataframe\">\n",
       "  <thead>\n",
       "    <tr style=\"text-align: right;\">\n",
       "      <th></th>\n",
       "      <th>kernel</th>\n",
       "      <th>C</th>\n",
       "      <th>Train Score</th>\n",
       "      <th>Test Score</th>\n",
       "    </tr>\n",
       "  </thead>\n",
       "  <tbody>\n",
       "    <tr>\n",
       "      <th>0</th>\n",
       "      <td>linear</td>\n",
       "      <td>1</td>\n",
       "      <td>3.895900</td>\n",
       "      <td>3.789174</td>\n",
       "    </tr>\n",
       "    <tr>\n",
       "      <th>1</th>\n",
       "      <td>linear</td>\n",
       "      <td>10</td>\n",
       "      <td>3.852963</td>\n",
       "      <td>3.769837</td>\n",
       "    </tr>\n",
       "    <tr>\n",
       "      <th>2</th>\n",
       "      <td>linear</td>\n",
       "      <td>100</td>\n",
       "      <td>3.852677</td>\n",
       "      <td>3.775870</td>\n",
       "    </tr>\n",
       "    <tr>\n",
       "      <th>3</th>\n",
       "      <td>rbf</td>\n",
       "      <td>1</td>\n",
       "      <td>3.562202</td>\n",
       "      <td>3.530411</td>\n",
       "    </tr>\n",
       "    <tr>\n",
       "      <th>4</th>\n",
       "      <td>rbf</td>\n",
       "      <td>10</td>\n",
       "      <td>3.458637</td>\n",
       "      <td>3.464524</td>\n",
       "    </tr>\n",
       "    <tr>\n",
       "      <th>5</th>\n",
       "      <td>rbf</td>\n",
       "      <td>100</td>\n",
       "      <td>3.368989</td>\n",
       "      <td>3.477110</td>\n",
       "    </tr>\n",
       "    <tr>\n",
       "      <th>6</th>\n",
       "      <td>poly</td>\n",
       "      <td>1</td>\n",
       "      <td>3.813554</td>\n",
       "      <td>3.787078</td>\n",
       "    </tr>\n",
       "    <tr>\n",
       "      <th>7</th>\n",
       "      <td>poly</td>\n",
       "      <td>10</td>\n",
       "      <td>3.688984</td>\n",
       "      <td>3.690740</td>\n",
       "    </tr>\n",
       "    <tr>\n",
       "      <th>8</th>\n",
       "      <td>poly</td>\n",
       "      <td>100</td>\n",
       "      <td>3.598033</td>\n",
       "      <td>3.640024</td>\n",
       "    </tr>\n",
       "  </tbody>\n",
       "</table>\n",
       "</div>"
      ],
      "text/plain": [
       "   kernel    C  Train Score  Test Score\n",
       "0  linear    1     3.895900    3.789174\n",
       "1  linear   10     3.852963    3.769837\n",
       "2  linear  100     3.852677    3.775870\n",
       "3     rbf    1     3.562202    3.530411\n",
       "4     rbf   10     3.458637    3.464524\n",
       "5     rbf  100     3.368989    3.477110\n",
       "6    poly    1     3.813554    3.787078\n",
       "7    poly   10     3.688984    3.690740\n",
       "8    poly  100     3.598033    3.640024"
      ]
     },
     "execution_count": 51,
     "metadata": {},
     "output_type": "execute_result"
    }
   ],
   "source": [
    "kernel_candidate = ['linear', 'rbf', 'poly']\n",
    "C_candidate = [1, 10, 100]\n",
    "\n",
    "# 결과를 저장할 빈 리스트 생성\n",
    "kernel_list = []\n",
    "C_list = []\n",
    "train_score_list = []\n",
    "val_score_list = []\n",
    "\n",
    "# SVR의 kernel 파라미터에 대해서\n",
    "for kernel in kernel_candidate:\n",
    "    # SVR의 C 파라미터에 대해서\n",
    "    for C in C_candidate:\n",
    "        # 모델 생성 및 학습\n",
    "        model = SVR(kernel=kernel, C=C).fit(train_X, train_y)\n",
    "        # Train 데이터에 대한 결과 확인\n",
    "        train_predict = model.predict(train_X)\n",
    "        train_score_list.append(np.sqrt(mean_squared_error(train_y, train_predict)))\n",
    "        # Test 데이터에 대한 결과 확인\n",
    "        test_predict = model.predict(test_X)\n",
    "        val_score_list.append(np.sqrt(mean_squared_error(test_y, test_predict)))\n",
    "        # Parameter 저장\n",
    "        kernel_list.append(kernel)\n",
    "        C_list.append(C)\n",
    "            \n",
    "result = pd.DataFrame({\"kernel\": kernel_list, \"C\": C_list, 'Train Score': train_score_list, 'Test Score': val_score_list})\n",
    "result   "
   ]
  },
  {
   "cell_type": "code",
   "execution_count": 52,
   "metadata": {},
   "outputs": [
    {
     "data": {
      "text/html": [
       "<div>\n",
       "<style scoped>\n",
       "    .dataframe tbody tr th:only-of-type {\n",
       "        vertical-align: middle;\n",
       "    }\n",
       "\n",
       "    .dataframe tbody tr th {\n",
       "        vertical-align: top;\n",
       "    }\n",
       "\n",
       "    .dataframe thead th {\n",
       "        text-align: right;\n",
       "    }\n",
       "</style>\n",
       "<table border=\"1\" class=\"dataframe\">\n",
       "  <thead>\n",
       "    <tr style=\"text-align: right;\">\n",
       "      <th></th>\n",
       "      <th>kernel</th>\n",
       "      <th>C</th>\n",
       "      <th>Train Score</th>\n",
       "      <th>Test Score</th>\n",
       "    </tr>\n",
       "  </thead>\n",
       "  <tbody>\n",
       "    <tr>\n",
       "      <th>0</th>\n",
       "      <td>rbf</td>\n",
       "      <td>10</td>\n",
       "      <td>3.458637</td>\n",
       "      <td>3.464524</td>\n",
       "    </tr>\n",
       "  </tbody>\n",
       "</table>\n",
       "</div>"
      ],
      "text/plain": [
       "  kernel   C  Train Score  Test Score\n",
       "0    rbf  10     3.458637    3.464524"
      ]
     },
     "execution_count": 52,
     "metadata": {},
     "output_type": "execute_result"
    }
   ],
   "source": [
    "result = result.loc[result['Test Score'] == min(result['Test Score']), :].reset_index(drop = True)\n",
    "svm_model = model = SVR(kernel=result['kernel'][0], C=result['C'][0]).fit(train_X, train_y).fit(train_X, train_y)\n",
    "result"
   ]
  },
  {
   "cell_type": "markdown",
   "metadata": {},
   "source": [
    "#### - Test 성능 관찰"
   ]
  },
  {
   "cell_type": "code",
   "execution_count": 53,
   "metadata": {},
   "outputs": [
    {
     "name": "stdout",
     "output_type": "stream",
     "text": [
      "RMSE: 3.46452382356662\n",
      "R2: 0.7806320746751291\n"
     ]
    }
   ],
   "source": [
    "test_predict = svm_model.predict(test_X)\n",
    "\n",
    "RMSE_list.append(np.sqrt(mean_squared_error(test_y, test_predict)))\n",
    "R2_list.append(r2_score(test_y, test_predict))\n",
    "\n",
    "print(\"RMSE: {}\".format(np.sqrt(mean_squared_error(test_y, test_predict))))\n",
    "print(\"R2: {}\".format(r2_score(test_y, test_predict)))"
   ]
  },
  {
   "cell_type": "code",
   "execution_count": 54,
   "metadata": {},
   "outputs": [
    {
     "data": {
      "text/plain": [
       "Text(0.5, 0, 'true')"
      ]
     },
     "execution_count": 54,
     "metadata": {},
     "output_type": "execute_result"
    },
    {
     "data": {
      "image/png": "[encoded data removed]",
      "text/plain": [
       "<Figure size 432x288 with 1 Axes>"
      ]
     },
     "metadata": {
      "needs_background": "light"
     },
     "output_type": "display_data"
    }
   ],
   "source": [
    "plt.scatter(test_y, test_predict, alpha=0.3)\n",
    "plt.ylim([5, 50])\n",
    "plt.xlim([5, 50])\n",
    "plt.ylabel('predict')\n",
    "plt.xlabel('true')"
   ]
  },
  {
   "cell_type": "markdown",
   "metadata": {},
   "source": [
    "#### - Test 성능 관찰"
   ]
  },
  {
   "cell_type": "markdown",
   "metadata": {},
   "source": [
    "### (4) Random Forest"
   ]
  },
  {
   "cell_type": "markdown",
   "metadata": {},
   "source": [
    "#### - 하이퍼 파라미터 튜닝"
   ]
  },
  {
   "cell_type": "code",
   "execution_count": 55,
   "metadata": {},
   "outputs": [
    {
     "data": {
      "text/html": [
       "<div>\n",
       "<style scoped>\n",
       "    .dataframe tbody tr th:only-of-type {\n",
       "        vertical-align: middle;\n",
       "    }\n",
       "\n",
       "    .dataframe tbody tr th {\n",
       "        vertical-align: top;\n",
       "    }\n",
       "\n",
       "    .dataframe thead th {\n",
       "        text-align: right;\n",
       "    }\n",
       "</style>\n",
       "<table border=\"1\" class=\"dataframe\">\n",
       "  <thead>\n",
       "    <tr style=\"text-align: right;\">\n",
       "      <th></th>\n",
       "      <th>n_estimators</th>\n",
       "      <th>max_depth</th>\n",
       "      <th>min_samples_split</th>\n",
       "      <th>Train Score</th>\n",
       "      <th>Test Score</th>\n",
       "    </tr>\n",
       "  </thead>\n",
       "  <tbody>\n",
       "    <tr>\n",
       "      <th>0</th>\n",
       "      <td>100</td>\n",
       "      <td>3</td>\n",
       "      <td>5</td>\n",
       "      <td>4.944611</td>\n",
       "      <td>4.956550</td>\n",
       "    </tr>\n",
       "    <tr>\n",
       "      <th>1</th>\n",
       "      <td>100</td>\n",
       "      <td>3</td>\n",
       "      <td>7</td>\n",
       "      <td>4.944611</td>\n",
       "      <td>4.956550</td>\n",
       "    </tr>\n",
       "    <tr>\n",
       "      <th>2</th>\n",
       "      <td>100</td>\n",
       "      <td>3</td>\n",
       "      <td>9</td>\n",
       "      <td>4.944611</td>\n",
       "      <td>4.956550</td>\n",
       "    </tr>\n",
       "    <tr>\n",
       "      <th>3</th>\n",
       "      <td>100</td>\n",
       "      <td>5</td>\n",
       "      <td>5</td>\n",
       "      <td>3.962825</td>\n",
       "      <td>4.058111</td>\n",
       "    </tr>\n",
       "    <tr>\n",
       "      <th>4</th>\n",
       "      <td>100</td>\n",
       "      <td>5</td>\n",
       "      <td>7</td>\n",
       "      <td>3.962847</td>\n",
       "      <td>4.058137</td>\n",
       "    </tr>\n",
       "    <tr>\n",
       "      <th>5</th>\n",
       "      <td>100</td>\n",
       "      <td>5</td>\n",
       "      <td>9</td>\n",
       "      <td>3.962866</td>\n",
       "      <td>4.058126</td>\n",
       "    </tr>\n",
       "    <tr>\n",
       "      <th>6</th>\n",
       "      <td>100</td>\n",
       "      <td>7</td>\n",
       "      <td>5</td>\n",
       "      <td>3.430904</td>\n",
       "      <td>3.767253</td>\n",
       "    </tr>\n",
       "    <tr>\n",
       "      <th>7</th>\n",
       "      <td>100</td>\n",
       "      <td>7</td>\n",
       "      <td>7</td>\n",
       "      <td>3.432914</td>\n",
       "      <td>3.766448</td>\n",
       "    </tr>\n",
       "    <tr>\n",
       "      <th>8</th>\n",
       "      <td>100</td>\n",
       "      <td>7</td>\n",
       "      <td>9</td>\n",
       "      <td>3.435318</td>\n",
       "      <td>3.766806</td>\n",
       "    </tr>\n",
       "    <tr>\n",
       "      <th>9</th>\n",
       "      <td>300</td>\n",
       "      <td>3</td>\n",
       "      <td>5</td>\n",
       "      <td>4.935172</td>\n",
       "      <td>4.944861</td>\n",
       "    </tr>\n",
       "    <tr>\n",
       "      <th>10</th>\n",
       "      <td>300</td>\n",
       "      <td>3</td>\n",
       "      <td>7</td>\n",
       "      <td>4.935172</td>\n",
       "      <td>4.944861</td>\n",
       "    </tr>\n",
       "    <tr>\n",
       "      <th>11</th>\n",
       "      <td>300</td>\n",
       "      <td>3</td>\n",
       "      <td>9</td>\n",
       "      <td>4.935172</td>\n",
       "      <td>4.944861</td>\n",
       "    </tr>\n",
       "    <tr>\n",
       "      <th>12</th>\n",
       "      <td>300</td>\n",
       "      <td>5</td>\n",
       "      <td>5</td>\n",
       "      <td>3.954890</td>\n",
       "      <td>4.046075</td>\n",
       "    </tr>\n",
       "    <tr>\n",
       "      <th>13</th>\n",
       "      <td>300</td>\n",
       "      <td>5</td>\n",
       "      <td>7</td>\n",
       "      <td>3.954904</td>\n",
       "      <td>4.046076</td>\n",
       "    </tr>\n",
       "    <tr>\n",
       "      <th>14</th>\n",
       "      <td>300</td>\n",
       "      <td>5</td>\n",
       "      <td>9</td>\n",
       "      <td>3.954944</td>\n",
       "      <td>4.046062</td>\n",
       "    </tr>\n",
       "    <tr>\n",
       "      <th>15</th>\n",
       "      <td>300</td>\n",
       "      <td>7</td>\n",
       "      <td>5</td>\n",
       "      <td>3.422025</td>\n",
       "      <td>3.758561</td>\n",
       "    </tr>\n",
       "    <tr>\n",
       "      <th>16</th>\n",
       "      <td>300</td>\n",
       "      <td>7</td>\n",
       "      <td>7</td>\n",
       "      <td>3.423785</td>\n",
       "      <td>3.758300</td>\n",
       "    </tr>\n",
       "    <tr>\n",
       "      <th>17</th>\n",
       "      <td>300</td>\n",
       "      <td>7</td>\n",
       "      <td>9</td>\n",
       "      <td>3.425981</td>\n",
       "      <td>3.758847</td>\n",
       "    </tr>\n",
       "    <tr>\n",
       "      <th>18</th>\n",
       "      <td>500</td>\n",
       "      <td>3</td>\n",
       "      <td>5</td>\n",
       "      <td>4.927954</td>\n",
       "      <td>4.937599</td>\n",
       "    </tr>\n",
       "    <tr>\n",
       "      <th>19</th>\n",
       "      <td>500</td>\n",
       "      <td>3</td>\n",
       "      <td>7</td>\n",
       "      <td>4.927954</td>\n",
       "      <td>4.937599</td>\n",
       "    </tr>\n",
       "    <tr>\n",
       "      <th>20</th>\n",
       "      <td>500</td>\n",
       "      <td>3</td>\n",
       "      <td>9</td>\n",
       "      <td>4.927954</td>\n",
       "      <td>4.937599</td>\n",
       "    </tr>\n",
       "    <tr>\n",
       "      <th>21</th>\n",
       "      <td>500</td>\n",
       "      <td>5</td>\n",
       "      <td>5</td>\n",
       "      <td>3.952364</td>\n",
       "      <td>4.042893</td>\n",
       "    </tr>\n",
       "    <tr>\n",
       "      <th>22</th>\n",
       "      <td>500</td>\n",
       "      <td>5</td>\n",
       "      <td>7</td>\n",
       "      <td>3.952372</td>\n",
       "      <td>4.042894</td>\n",
       "    </tr>\n",
       "    <tr>\n",
       "      <th>23</th>\n",
       "      <td>500</td>\n",
       "      <td>5</td>\n",
       "      <td>9</td>\n",
       "      <td>3.952416</td>\n",
       "      <td>4.042883</td>\n",
       "    </tr>\n",
       "    <tr>\n",
       "      <th>24</th>\n",
       "      <td>500</td>\n",
       "      <td>7</td>\n",
       "      <td>5</td>\n",
       "      <td>3.421092</td>\n",
       "      <td>3.755719</td>\n",
       "    </tr>\n",
       "    <tr>\n",
       "      <th>25</th>\n",
       "      <td>500</td>\n",
       "      <td>7</td>\n",
       "      <td>7</td>\n",
       "      <td>3.422835</td>\n",
       "      <td>3.755588</td>\n",
       "    </tr>\n",
       "    <tr>\n",
       "      <th>26</th>\n",
       "      <td>500</td>\n",
       "      <td>7</td>\n",
       "      <td>9</td>\n",
       "      <td>3.425031</td>\n",
       "      <td>3.756061</td>\n",
       "    </tr>\n",
       "  </tbody>\n",
       "</table>\n",
       "</div>"
      ],
      "text/plain": [
       "    n_estimators  max_depth  min_samples_split  Train Score  Test Score\n",
       "0            100          3                  5     4.944611    4.956550\n",
       "1            100          3                  7     4.944611    4.956550\n",
       "2            100          3                  9     4.944611    4.956550\n",
       "3            100          5                  5     3.962825    4.058111\n",
       "4            100          5                  7     3.962847    4.058137\n",
       "5            100          5                  9     3.962866    4.058126\n",
       "6            100          7                  5     3.430904    3.767253\n",
       "7            100          7                  7     3.432914    3.766448\n",
       "8            100          7                  9     3.435318    3.766806\n",
       "9            300          3                  5     4.935172    4.944861\n",
       "10           300          3                  7     4.935172    4.944861\n",
       "11           300          3                  9     4.935172    4.944861\n",
       "12           300          5                  5     3.954890    4.046075\n",
       "13           300          5                  7     3.954904    4.046076\n",
       "14           300          5                  9     3.954944    4.046062\n",
       "15           300          7                  5     3.422025    3.758561\n",
       "16           300          7                  7     3.423785    3.758300\n",
       "17           300          7                  9     3.425981    3.758847\n",
       "18           500          3                  5     4.927954    4.937599\n",
       "19           500          3                  7     4.927954    4.937599\n",
       "20           500          3                  9     4.927954    4.937599\n",
       "21           500          5                  5     3.952364    4.042893\n",
       "22           500          5                  7     3.952372    4.042894\n",
       "23           500          5                  9     3.952416    4.042883\n",
       "24           500          7                  5     3.421092    3.755719\n",
       "25           500          7                  7     3.422835    3.755588\n",
       "26           500          7                  9     3.425031    3.756061"
      ]
     },
     "execution_count": 55,
     "metadata": {},
     "output_type": "execute_result"
    }
   ],
   "source": [
    "n_estimators_candidate = [100, 300,500]\n",
    "max_depth_candidate = [3, 5, 7]\n",
    "min_samples_split_candidate = [5, 7, 9]\n",
    "\n",
    "# 결과를 저장할 빈 리스트 생성\n",
    "n_estimators_list = []\n",
    "max_depth_list = []\n",
    "min_samples_split_list = []\n",
    "train_score_list = []\n",
    "val_score_list = []\n",
    "\n",
    "# Random Forest의 n_estimators 파라미터에 대해서\n",
    "for n_estimators in n_estimators_candidate:\n",
    "    # Random Forest의 max_depth 파라미터에 대해서\n",
    "    for max_depth in max_depth_candidate:\n",
    "        # Random Forest의 min_samples_split 파라미터에 대해서\n",
    "        for min_samples_split in min_samples_split_candidate:\n",
    "            # 모델 생성 및 학습\n",
    "            model = RandomForestRegressor(n_estimators=n_estimators, max_depth=max_depth, min_samples_split=min_samples_split, random_state = 1004).fit(train_X, train_y)\n",
    "            # Train 데이터에 대한 결과 확인\n",
    "            train_predict = model.predict(train_X)\n",
    "            train_score_list.append(np.sqrt(mean_squared_error(train_y, train_predict)))\n",
    "            # Test 데이터에 대한 결과 확인\n",
    "            test_predict = model.predict(test_X)\n",
    "            val_score_list.append(np.sqrt(mean_squared_error(test_y, test_predict)))\n",
    "            # Parameter 저장\n",
    "            n_estimators_list.append(n_estimators)\n",
    "            max_depth_list.append(max_depth)\n",
    "            min_samples_split_list.append(min_samples_split)\n",
    "            \n",
    "result = pd.DataFrame({\"n_estimators\": n_estimators_list, \"max_depth\": max_depth_list, \"min_samples_split\": min_samples_split_list, 'Train Score': train_score_list, 'Test Score': val_score_list})\n",
    "result   "
   ]
  },
  {
   "cell_type": "code",
   "execution_count": 56,
   "metadata": {},
   "outputs": [
    {
     "data": {
      "text/html": [
       "<div>\n",
       "<style scoped>\n",
       "    .dataframe tbody tr th:only-of-type {\n",
       "        vertical-align: middle;\n",
       "    }\n",
       "\n",
       "    .dataframe tbody tr th {\n",
       "        vertical-align: top;\n",
       "    }\n",
       "\n",
       "    .dataframe thead th {\n",
       "        text-align: right;\n",
       "    }\n",
       "</style>\n",
       "<table border=\"1\" class=\"dataframe\">\n",
       "  <thead>\n",
       "    <tr style=\"text-align: right;\">\n",
       "      <th></th>\n",
       "      <th>n_estimators</th>\n",
       "      <th>max_depth</th>\n",
       "      <th>min_samples_split</th>\n",
       "      <th>Train Score</th>\n",
       "      <th>Test Score</th>\n",
       "    </tr>\n",
       "  </thead>\n",
       "  <tbody>\n",
       "    <tr>\n",
       "      <th>0</th>\n",
       "      <td>500</td>\n",
       "      <td>7</td>\n",
       "      <td>7</td>\n",
       "      <td>3.422835</td>\n",
       "      <td>3.755588</td>\n",
       "    </tr>\n",
       "  </tbody>\n",
       "</table>\n",
       "</div>"
      ],
      "text/plain": [
       "   n_estimators  max_depth  min_samples_split  Train Score  Test Score\n",
       "0           500          7                  7     3.422835    3.755588"
      ]
     },
     "execution_count": 56,
     "metadata": {},
     "output_type": "execute_result"
    }
   ],
   "source": [
    "result = result.loc[result['Test Score'] == min(result['Test Score']), :].reset_index(drop = True)\n",
    "rf_model = RandomForestRegressor(n_estimators=result['n_estimators'][0], max_depth=result['max_depth'][0], min_samples_split=result['min_samples_split'][0], random_state = 1004).fit(train_X, train_y)\n",
    "result"
   ]
  },
  {
   "cell_type": "markdown",
   "metadata": {},
   "source": [
    "#### - Test 성능 관찰"
   ]
  },
  {
   "cell_type": "code",
   "execution_count": 57,
   "metadata": {},
   "outputs": [
    {
     "name": "stdout",
     "output_type": "stream",
     "text": [
      "RMSE: 3.7555878211024902\n",
      "R2: 0.7422243635404129\n"
     ]
    }
   ],
   "source": [
    "test_predict = rf_model.predict(test_X)\n",
    "\n",
    "RMSE_list.append(np.sqrt(mean_squared_error(test_y, test_predict)))\n",
    "R2_listappend(r2_score(test_y, test_predict))\n",
    "\n",
    "print(\"RMSE: {}\".format(np.sqrt(mean_squared_error(test_y, test_predict))))\n",
    "print(\"R2: {}\".format(r2_score(test_y, test_predict)))"
   ]
  },
  {
   "cell_type": "code",
   "execution_count": 58,
   "metadata": {},
   "outputs": [
    {
     "data": {
      "text/plain": [
       "Text(0.5, 0, 'true')"
      ]
     },
     "execution_count": 58,
     "metadata": {},
     "output_type": "execute_result"
    },
    {
     "data": {
      "image/png": "[encoded data removed]",
      "text/plain": [
       "<Figure size 432x288 with 1 Axes>"
      ]
     },
     "metadata": {
      "needs_background": "light"
     },
     "output_type": "display_data"
    }
   ],
   "source": [
    "plt.scatter(test_y, test_predict, alpha=0.3)\n",
    "plt.ylim([5, 50])\n",
    "plt.xlim([5, 50])\n",
    "plt.ylabel('predict')\n",
    "plt.xlabel('true')"
   ]
  },
  {
   "cell_type": "markdown",
   "metadata": {},
   "source": [
    "### (5) XGBoost"
   ]
  },
  {
   "cell_type": "markdown",
   "metadata": {},
   "source": [
    "#### - 하이퍼 파라미터 튜닝"
   ]
  },
  {
   "cell_type": "code",
   "execution_count": 26,
   "metadata": {},
   "outputs": [
    {
     "data": {
      "text/html": [
       "<div>\n",
       "<style scoped>\n",
       "    .dataframe tbody tr th:only-of-type {\n",
       "        vertical-align: middle;\n",
       "    }\n",
       "\n",
       "    .dataframe tbody tr th {\n",
       "        vertical-align: top;\n",
       "    }\n",
       "\n",
       "    .dataframe thead th {\n",
       "        text-align: right;\n",
       "    }\n",
       "</style>\n",
       "<table border=\"1\" class=\"dataframe\">\n",
       "  <thead>\n",
       "    <tr style=\"text-align: right;\">\n",
       "      <th></th>\n",
       "      <th>n_estimators</th>\n",
       "      <th>max_depth</th>\n",
       "      <th>learning_rate</th>\n",
       "      <th>Train Score</th>\n",
       "      <th>Test Score</th>\n",
       "    </tr>\n",
       "  </thead>\n",
       "  <tbody>\n",
       "    <tr>\n",
       "      <th>0</th>\n",
       "      <td>100</td>\n",
       "      <td>3</td>\n",
       "      <td>0.1000</td>\n",
       "      <td>3.482311</td>\n",
       "      <td>3.643019</td>\n",
       "    </tr>\n",
       "    <tr>\n",
       "      <th>1</th>\n",
       "      <td>100</td>\n",
       "      <td>3</td>\n",
       "      <td>0.0100</td>\n",
       "      <td>10.138144</td>\n",
       "      <td>9.880003</td>\n",
       "    </tr>\n",
       "    <tr>\n",
       "      <th>2</th>\n",
       "      <td>100</td>\n",
       "      <td>3</td>\n",
       "      <td>0.0010</td>\n",
       "      <td>22.755483</td>\n",
       "      <td>22.422382</td>\n",
       "    </tr>\n",
       "    <tr>\n",
       "      <th>3</th>\n",
       "      <td>100</td>\n",
       "      <td>3</td>\n",
       "      <td>0.0001</td>\n",
       "      <td>24.793379</td>\n",
       "      <td>24.449500</td>\n",
       "    </tr>\n",
       "    <tr>\n",
       "      <th>4</th>\n",
       "      <td>100</td>\n",
       "      <td>5</td>\n",
       "      <td>0.1000</td>\n",
       "      <td>3.058752</td>\n",
       "      <td>3.571477</td>\n",
       "    </tr>\n",
       "    <tr>\n",
       "      <th>...</th>\n",
       "      <td>...</td>\n",
       "      <td>...</td>\n",
       "      <td>...</td>\n",
       "      <td>...</td>\n",
       "      <td>...</td>\n",
       "    </tr>\n",
       "    <tr>\n",
       "      <th>75</th>\n",
       "      <td>500</td>\n",
       "      <td>7</td>\n",
       "      <td>0.0001</td>\n",
       "      <td>23.847609</td>\n",
       "      <td>23.514179</td>\n",
       "    </tr>\n",
       "    <tr>\n",
       "      <th>76</th>\n",
       "      <td>500</td>\n",
       "      <td>9</td>\n",
       "      <td>0.1000</td>\n",
       "      <td>0.242588</td>\n",
       "      <td>3.717442</td>\n",
       "    </tr>\n",
       "    <tr>\n",
       "      <th>77</th>\n",
       "      <td>500</td>\n",
       "      <td>9</td>\n",
       "      <td>0.0100</td>\n",
       "      <td>2.014400</td>\n",
       "      <td>3.643104</td>\n",
       "    </tr>\n",
       "    <tr>\n",
       "      <th>78</th>\n",
       "      <td>500</td>\n",
       "      <td>9</td>\n",
       "      <td>0.0010</td>\n",
       "      <td>15.502855</td>\n",
       "      <td>15.285822</td>\n",
       "    </tr>\n",
       "    <tr>\n",
       "      <th>79</th>\n",
       "      <td>500</td>\n",
       "      <td>9</td>\n",
       "      <td>0.0001</td>\n",
       "      <td>23.847160</td>\n",
       "      <td>23.514981</td>\n",
       "    </tr>\n",
       "  </tbody>\n",
       "</table>\n",
       "<p>80 rows × 5 columns</p>\n",
       "</div>"
      ],
      "text/plain": [
       "    n_estimators  max_depth  learning_rate  Train Score  Test Score\n",
       "0            100          3         0.1000     3.482311    3.643019\n",
       "1            100          3         0.0100    10.138144    9.880003\n",
       "2            100          3         0.0010    22.755483   22.422382\n",
       "3            100          3         0.0001    24.793379   24.449500\n",
       "4            100          5         0.1000     3.058752    3.571477\n",
       "..           ...        ...            ...          ...         ...\n",
       "75           500          7         0.0001    23.847609   23.514179\n",
       "76           500          9         0.1000     0.242588    3.717442\n",
       "77           500          9         0.0100     2.014400    3.643104\n",
       "78           500          9         0.0010    15.502855   15.285822\n",
       "79           500          9         0.0001    23.847160   23.514981\n",
       "\n",
       "[80 rows x 5 columns]"
      ]
     },
     "execution_count": 26,
     "metadata": {},
     "output_type": "execute_result"
    }
   ],
   "source": [
    "n_estimators_candidate = [100, 200, 300,400,500]\n",
    "max_depth_candidate = [3, 5, 7, 9]\n",
    "learning_rate_candidate = [0.1, 0.01, 0.001, 0.0001]\n",
    "\n",
    "# 결과를 저장할 빈 리스트 생성\n",
    "n_estimators_list = []\n",
    "max_depth_list = []\n",
    "learning_rate_list = []\n",
    "train_score_list = []\n",
    "val_score_list = []\n",
    "\n",
    "# XGBoost의 n_estimators 파라미터에 대해서\n",
    "for n_estimators in n_estimators_candidate:\n",
    "    # XGBoost의 max_depth 파라미터에 대해서\n",
    "    for max_depth in max_depth_candidate:\n",
    "        # XGBoost의 learning_rate 파라미터에 대해서\n",
    "        for learning_rate in learning_rate_candidate:\n",
    "            # 모델 생성 및 학습\n",
    "            model = xgboost.XGBRegressor(n_estimators=n_estimators, max_depth=max_depth, learning_rate=learning_rate, objective='reg:squarederror').fit(train_X, train_y)\n",
    "            # Train 데이터에 대한 결과 확인\n",
    "            train_predict = model.predict(train_X)\n",
    "            train_score_list.append(np.sqrt(mean_squared_error(train_y, train_predict)))\n",
    "            # Test 데이터에 대한 결과 확인\n",
    "            test_predict = model.predict(test_X)\n",
    "            val_score_list.append(np.sqrt(mean_squared_error(test_y, test_predict)))\n",
    "            # Parameter 저장\n",
    "            n_estimators_list.append(n_estimators)\n",
    "            max_depth_list.append(max_depth)\n",
    "            learning_rate_list.append(learning_rate)\n",
    "            \n",
    "result = pd.DataFrame({\"n_estimators\": n_estimators_list, \"max_depth\": max_depth_list, \"learning_rate\": learning_rate_list, 'Train Score': train_score_list, 'Test Score': val_score_list})\n",
    "result                    "
   ]
  },
  {
   "cell_type": "code",
   "execution_count": 27,
   "metadata": {},
   "outputs": [
    {
     "data": {
      "text/html": [
       "<div>\n",
       "<style scoped>\n",
       "    .dataframe tbody tr th:only-of-type {\n",
       "        vertical-align: middle;\n",
       "    }\n",
       "\n",
       "    .dataframe tbody tr th {\n",
       "        vertical-align: top;\n",
       "    }\n",
       "\n",
       "    .dataframe thead th {\n",
       "        text-align: right;\n",
       "    }\n",
       "</style>\n",
       "<table border=\"1\" class=\"dataframe\">\n",
       "  <thead>\n",
       "    <tr style=\"text-align: right;\">\n",
       "      <th></th>\n",
       "      <th>n_estimators</th>\n",
       "      <th>max_depth</th>\n",
       "      <th>learning_rate</th>\n",
       "      <th>Train Score</th>\n",
       "      <th>Test Score</th>\n",
       "    </tr>\n",
       "  </thead>\n",
       "  <tbody>\n",
       "    <tr>\n",
       "      <th>0</th>\n",
       "      <td>200</td>\n",
       "      <td>5</td>\n",
       "      <td>0.1</td>\n",
       "      <td>2.75414</td>\n",
       "      <td>3.569193</td>\n",
       "    </tr>\n",
       "  </tbody>\n",
       "</table>\n",
       "</div>"
      ],
      "text/plain": [
       "   n_estimators  max_depth  learning_rate  Train Score  Test Score\n",
       "0           200          5            0.1      2.75414    3.569193"
      ]
     },
     "execution_count": 27,
     "metadata": {},
     "output_type": "execute_result"
    }
   ],
   "source": [
    "result = result.loc[result['Test Score'] == min(result['Test Score']), :].reset_index(drop = True)\n",
    "xgb_model = xgboost.XGBRegressor(n_estimators=result['n_estimators'][0], max_depth=result['max_depth'][0], learning_rate=result['learning_rate'][0], objective='reg:squarederror').fit(train_X, train_y)\n",
    "result"
   ]
  },
  {
   "cell_type": "markdown",
   "metadata": {},
   "source": [
    "#### - Test 성능 관찰"
   ]
  },
  {
   "cell_type": "code",
   "execution_count": 28,
   "metadata": {},
   "outputs": [
    {
     "name": "stdout",
     "output_type": "stream",
     "text": [
      "RMSE: 3.569192991146985\n",
      "R2: 0.7671768896809998\n"
     ]
    }
   ],
   "source": [
    "test_predict = xgb_model.predict(test_X)\n",
    "\n",
    "RMSE_list.append(np.sqrt(mean_squared_error(test_y, test_predict)))\n",
    "R2_list.__add__append(r2_score(test_y, test_predict))\n",
    "\n",
    "print(\"RMSE: {}\".format(np.sqrt(mean_squared_error(test_y, test_predict))))\n",
    "print(\"R2: {}\".format(r2_score(test_y, test_predict)))"
   ]
  },
  {
   "cell_type": "code",
   "execution_count": 37,
   "metadata": {},
   "outputs": [
    {
     "data": {
      "text/plain": [
       "Text(0.5, 0, 'true')"
      ]
     },
     "execution_count": 37,
     "metadata": {},
     "output_type": "execute_result"
    },
    {
     "data": {
      "image/png": "[encoded data removed]",
      "text/plain": [
       "<Figure size 432x288 with 1 Axes>"
      ]
     },
     "metadata": {
      "needs_background": "light"
     },
     "output_type": "display_data"
    }
   ],
   "source": [
    "plt.scatter(test_y, test_predict, alpha=0.3)\n",
    "plt.ylim([5, 50])\n",
    "plt.xlim([5, 50])\n",
    "plt.ylabel('predict')\n",
    "plt.xlabel('true')"
   ]
  },
  {
   "cell_type": "markdown",
   "metadata": {},
   "source": [
    "## 5. 최종 성능 평가"
   ]
  },
  {
   "cell_type": "code",
   "execution_count": 59,
   "metadata": {},
   "outputs": [
    {
     "data": {
      "text/html": [
       "<div>\n",
       "<style scoped>\n",
       "    .dataframe tbody tr th:only-of-type {\n",
       "        vertical-align: middle;\n",
       "    }\n",
       "\n",
       "    .dataframe tbody tr th {\n",
       "        vertical-align: top;\n",
       "    }\n",
       "\n",
       "    .dataframe thead th {\n",
       "        text-align: right;\n",
       "    }\n",
       "</style>\n",
       "<table border=\"1\" class=\"dataframe\">\n",
       "  <thead>\n",
       "    <tr style=\"text-align: right;\">\n",
       "      <th></th>\n",
       "      <th>Model</th>\n",
       "      <th>RMSE</th>\n",
       "      <th>R2</th>\n",
       "    </tr>\n",
       "  </thead>\n",
       "  <tbody>\n",
       "    <tr>\n",
       "      <th>0</th>\n",
       "      <td>Linear Regression</td>\n",
       "      <td>3.764691</td>\n",
       "      <td>0.740973</td>\n",
       "    </tr>\n",
       "    <tr>\n",
       "      <th>1</th>\n",
       "      <td>Decision Tree</td>\n",
       "      <td>4.154514</td>\n",
       "      <td>0.684553</td>\n",
       "    </tr>\n",
       "    <tr>\n",
       "      <th>2</th>\n",
       "      <td>SVM</td>\n",
       "      <td>3.464524</td>\n",
       "      <td>0.780632</td>\n",
       "    </tr>\n",
       "    <tr>\n",
       "      <th>3</th>\n",
       "      <td>Random Forest</td>\n",
       "      <td>3.755588</td>\n",
       "      <td>0.742224</td>\n",
       "    </tr>\n",
       "    <tr>\n",
       "      <th>4</th>\n",
       "      <td>XGBoost</td>\n",
       "      <td>3.569193</td>\n",
       "      <td>0.767177</td>\n",
       "    </tr>\n",
       "  </tbody>\n",
       "</table>\n",
       "</div>"
      ],
      "text/plain": [
       "               Model      RMSE        R2\n",
       "0  Linear Regression  3.764691  0.740973\n",
       "1      Decision Tree  4.154514  0.684553\n",
       "2                SVM  3.464524  0.780632\n",
       "3      Random Forest  3.755588  0.742224\n",
       "4            XGBoost  3.569193  0.767177"
      ]
     },
     "execution_count": 59,
     "metadata": {},
     "output_type": "execute_result"
    }
   ],
   "source": [
    "Models = ['Linear Regression', 'Decision Tree', 'SVM', 'Random Forest', 'XGBoost']\n",
    "final_result = pd.DataFrame({'Model': Models, 'RMSE': RMSE_list , 'R2': R2_list})\n",
    "final_result"
   ]
  },
  {
   "cell_type": "code",
   "execution_count": 64,
   "metadata": {},
   "outputs": [
    {
     "data": {
      "image/png": "[encoded data removed]",
      "text/plain": [
       "<Figure size 720x576 with 1 Axes>"
      ]
     },
     "metadata": {
      "needs_background": "light"
     },
     "output_type": "display_data"
    }
   ],
   "source": [
    "plt.figure(figsize=(10,8))\n",
    "plt.bar(Models, RMSE_list)\n",
    "plt.title('RMSE per Models', fontsize=20)\n",
    "plt.xlabel('Models', fontsize=18)\n",
    "plt.ylabel('RMSE', fontsize=18)\n",
    "plt.show()"
   ]
  },
  {
   "cell_type": "code",
   "execution_count": 65,
   "metadata": {},
   "outputs": [
    {
     "data": {
      "image/png": "[encoded data removed]",
      "text/plain": [
       "<Figure size 720x576 with 1 Axes>"
      ]
     },
     "metadata": {
      "needs_background": "light"
     },
     "output_type": "display_data"
    }
   ],
   "source": [
    "plt.figure(figsize=(10,8))\n",
    "plt.bar(Models, R2_list)\n",
    "plt.title('R2 Score per Models', fontsize=20)\n",
    "plt.xlabel('Models', fontsize=18)\n",
    "plt.ylabel('R2 Score', fontsize=18)\n",
    "plt.show()"
   ]
  }
 ],
 "metadata": {
  "accelerator": "GPU",
  "colab": {
   "collapsed_sections": [],
   "provenance": []
  },
  "interpreter": {
   "hash": "4737874eba92297991c3fb6eec14ba36dab00ee1f4459fe2760d59ec4693efc4"
  },
  "kernelspec": {
   "display_name": "Python 3.8.13 ('ml_env')",
   "language": "python",
   "name": "python3"
  },
  "language_info": {
   "codemirror_mode": {
    "name": "ipython",
    "version": 3
   },
   "file_extension": ".py",
   "mimetype": "text/x-python",
   "name": "python",
   "nbconvert_exporter": "python",
   "pygments_lexer": "ipython3",
   "version": "3.8.13"
  }
 },
 "nbformat": 4,
 "nbformat_minor": 1
}
