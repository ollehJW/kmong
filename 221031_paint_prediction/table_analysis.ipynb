{
 "cells": [
  {
   "cell_type": "markdown",
   "metadata": {},
   "source": [
    "## 1. 사용할 패키지 불러오기"
   ]
  },
  {
   "cell_type": "code",
   "execution_count": 76,
   "metadata": {},
   "outputs": [],
   "source": [
    "import pandas as pd\n",
    "from glob import glob\n",
    "import numpy as np\n",
    "import re"
   ]
  },
  {
   "cell_type": "markdown",
   "metadata": {},
   "source": [
    "## 2. 데이터 불러오기"
   ]
  },
  {
   "cell_type": "code",
   "execution_count": 77,
   "metadata": {},
   "outputs": [
    {
     "data": {
      "text/html": [
       "<div>\n",
       "<style scoped>\n",
       "    .dataframe tbody tr th:only-of-type {\n",
       "        vertical-align: middle;\n",
       "    }\n",
       "\n",
       "    .dataframe tbody tr th {\n",
       "        vertical-align: top;\n",
       "    }\n",
       "\n",
       "    .dataframe thead th {\n",
       "        text-align: right;\n",
       "    }\n",
       "</style>\n",
       "<table border=\"1\" class=\"dataframe\">\n",
       "  <thead>\n",
       "    <tr style=\"text-align: right;\">\n",
       "      <th></th>\n",
       "      <th>작가명</th>\n",
       "      <th>제목</th>\n",
       "      <th>재료</th>\n",
       "      <th>사이즈</th>\n",
       "      <th>제작년도</th>\n",
       "      <th>판매가격</th>\n",
       "      <th>판매일자와판매처</th>\n",
       "      <th>이미지 고유 번호</th>\n",
       "      <th>작품 판매 횟수</th>\n",
       "    </tr>\n",
       "  </thead>\n",
       "  <tbody>\n",
       "    <tr>\n",
       "      <th>0</th>\n",
       "      <td>임상진 Lim SangChin (1935~2013)</td>\n",
       "      <td>무제</td>\n",
       "      <td>1983 캔버스에 아크릴</td>\n",
       "      <td>50☓60.6cm</td>\n",
       "      <td>1983.0</td>\n",
       "      <td>600000.0</td>\n",
       "      <td>2020-11-11 에이옥션</td>\n",
       "      <td>380410.0</td>\n",
       "      <td>1.0</td>\n",
       "    </tr>\n",
       "    <tr>\n",
       "      <th>1</th>\n",
       "      <td>정술원 Jung SulWon (1885~1959)</td>\n",
       "      <td>화조</td>\n",
       "      <td>비단에 수묵담채</td>\n",
       "      <td>25☓24.5cm</td>\n",
       "      <td>NaN</td>\n",
       "      <td>400000.0</td>\n",
       "      <td>2020-11-11 에이옥션</td>\n",
       "      <td>380460.0</td>\n",
       "      <td>1.0</td>\n",
       "    </tr>\n",
       "    <tr>\n",
       "      <th>2</th>\n",
       "      <td>정주상 Jeong JuSang (1925~2012)</td>\n",
       "      <td>심정흥장 (선면)</td>\n",
       "      <td>종이에 먹</td>\n",
       "      <td>56☓17.5cm</td>\n",
       "      <td>NaN</td>\n",
       "      <td>100000.0</td>\n",
       "      <td>2020-11-11 에이옥션</td>\n",
       "      <td>380491.0</td>\n",
       "      <td>1.0</td>\n",
       "    </tr>\n",
       "    <tr>\n",
       "      <th>3</th>\n",
       "      <td>이양원 Lee YangWon (1944~)</td>\n",
       "      <td>풍속도</td>\n",
       "      <td>종이에 수묵담채</td>\n",
       "      <td>55☓23.5cm</td>\n",
       "      <td>NaN</td>\n",
       "      <td>360000.0</td>\n",
       "      <td>2020-11-11 에이옥션</td>\n",
       "      <td>380417.0</td>\n",
       "      <td>1.0</td>\n",
       "    </tr>\n",
       "    <tr>\n",
       "      <th>4</th>\n",
       "      <td>이외수 Lee OiSoo (1946~)</td>\n",
       "      <td>사람과 사람들</td>\n",
       "      <td>종이에 채색</td>\n",
       "      <td>25.5☓18.5cm</td>\n",
       "      <td>NaN</td>\n",
       "      <td>240000.0</td>\n",
       "      <td>2020-11-11 에이옥션</td>\n",
       "      <td>380391.0</td>\n",
       "      <td>1.0</td>\n",
       "    </tr>\n",
       "  </tbody>\n",
       "</table>\n",
       "</div>"
      ],
      "text/plain": [
       "                            작가명         제목             재료          사이즈  \\\n",
       "0  임상진 Lim SangChin (1935~2013)         무제  1983 캔버스에 아크릴    50☓60.6cm   \n",
       "1   정술원 Jung SulWon (1885~1959)         화조       비단에 수묵담채    25☓24.5cm   \n",
       "2  정주상 Jeong JuSang (1925~2012)  심정흥장 (선면)          종이에 먹    56☓17.5cm   \n",
       "3       이양원 Lee YangWon (1944~)        풍속도       종이에 수묵담채    55☓23.5cm   \n",
       "4         이외수 Lee OiSoo (1946~)    사람과 사람들         종이에 채색  25.5☓18.5cm   \n",
       "\n",
       "     제작년도      판매가격         판매일자와판매처 이미지 고유 번호  작품 판매 횟수  \n",
       "0  1983.0  600000.0  2020-11-11 에이옥션  380410.0       1.0  \n",
       "1     NaN  400000.0  2020-11-11 에이옥션  380460.0       1.0  \n",
       "2     NaN  100000.0  2020-11-11 에이옥션  380491.0       1.0  \n",
       "3     NaN  360000.0  2020-11-11 에이옥션  380417.0       1.0  \n",
       "4     NaN  240000.0  2020-11-11 에이옥션  380391.0       1.0  "
      ]
     },
     "execution_count": 77,
     "metadata": {},
     "output_type": "execute_result"
    }
   ],
   "source": [
    "xlsx_list = glob(\"./data/table_data/*.xlsx\")\n",
    "data = pd.read_excel(xlsx_list[0])\n",
    "for xlsx_file in xlsx_list[1:]:\n",
    "    data = pd.concat([data, pd.read_excel(xlsx_file)], axis=0).reset_index(drop = True)\n",
    "\n",
    "data = data.iloc[:, 1:10]\n",
    "data = data.loc[-data['이미지 고유 번호'].isna(), :].reset_index(drop = True)\n",
    "data.head()"
   ]
  },
  {
   "cell_type": "markdown",
   "metadata": {},
   "source": [
    "## 3. 데이터 전처리"
   ]
  },
  {
   "cell_type": "markdown",
   "metadata": {},
   "source": [
    "### (1) 작품 판매 횟수가 공백인 경우 1로 처리"
   ]
  },
  {
   "cell_type": "code",
   "execution_count": 78,
   "metadata": {},
   "outputs": [
    {
     "name": "stderr",
     "output_type": "stream",
     "text": [
      "/tmp/ipykernel_20481/3825792433.py:1: SettingWithCopyWarning: \n",
      "A value is trying to be set on a copy of a slice from a DataFrame\n",
      "\n",
      "See the caveats in the documentation: https://pandas.pydata.org/pandas-docs/stable/user_guide/indexing.html#returning-a-view-versus-a-copy\n",
      "  data['작품 판매 횟수'][data['작품 판매 횟수'].isna()] = 1\n"
     ]
    }
   ],
   "source": [
    "data['작품 판매 횟수'][data['작품 판매 횟수'].isna()] = 1"
   ]
  },
  {
   "cell_type": "markdown",
   "metadata": {},
   "source": [
    "### (2) 제작년도의 경우 절반 이상이 공백으로 제거"
   ]
  },
  {
   "cell_type": "code",
   "execution_count": 79,
   "metadata": {},
   "outputs": [],
   "source": [
    "del data['제작년도']"
   ]
  },
  {
   "cell_type": "markdown",
   "metadata": {},
   "source": [
    "### (3) 작가 미상 여부 확인 변수 추가"
   ]
  },
  {
   "cell_type": "code",
   "execution_count": 80,
   "metadata": {},
   "outputs": [
    {
     "name": "stderr",
     "output_type": "stream",
     "text": [
      "/tmp/ipykernel_20481/3541825850.py:2: SettingWithCopyWarning: \n",
      "A value is trying to be set on a copy of a slice from a DataFrame\n",
      "\n",
      "See the caveats in the documentation: https://pandas.pydata.org/pandas-docs/stable/user_guide/indexing.html#returning-a-view-versus-a-copy\n",
      "  data['작가미상여부'][data['작가명'] == '작가미상 Anonymous'] = 1\n"
     ]
    }
   ],
   "source": [
    "data['작가미상여부'] = 0\n",
    "data['작가미상여부'][data['작가명'] == '작가미상 Anonymous'] = 1"
   ]
  },
  {
   "cell_type": "markdown",
   "metadata": {},
   "source": [
    "### (4) 작가 생존 여부 확인 변수 추가"
   ]
  },
  {
   "cell_type": "code",
   "execution_count": 81,
   "metadata": {},
   "outputs": [
    {
     "name": "stderr",
     "output_type": "stream",
     "text": [
      "/tmp/ipykernel_20481/1162102882.py:2: SettingWithCopyWarning: \n",
      "A value is trying to be set on a copy of a slice from a DataFrame\n",
      "\n",
      "See the caveats in the documentation: https://pandas.pydata.org/pandas-docs/stable/user_guide/indexing.html#returning-a-view-versus-a-copy\n",
      "  data['작가생존여부'][data['작가명'] == '작가미상 Anonymous'] = 1\n",
      "/tmp/ipykernel_20481/1162102882.py:9: SettingWithCopyWarning: \n",
      "A value is trying to be set on a copy of a slice from a DataFrame\n",
      "\n",
      "See the caveats in the documentation: https://pandas.pydata.org/pandas-docs/stable/user_guide/indexing.html#returning-a-view-versus-a-copy\n",
      "  data['작가생존여부'][i] = '사망'\n",
      "/tmp/ipykernel_20481/1162102882.py:7: SettingWithCopyWarning: \n",
      "A value is trying to be set on a copy of a slice from a DataFrame\n",
      "\n",
      "See the caveats in the documentation: https://pandas.pydata.org/pandas-docs/stable/user_guide/indexing.html#returning-a-view-versus-a-copy\n",
      "  data['작가생존여부'][i] = '알수없음'\n"
     ]
    }
   ],
   "source": [
    "data['작가생존여부'] = '생존'\n",
    "data['작가생존여부'][data['작가명'] == '작가미상 Anonymous'] = 1\n",
    "\n",
    "for i in range(len(data['작가생존여부'])):\n",
    "    painter = data['작가명'][i]\n",
    "    if painter[-1] != ')':\n",
    "        data['작가생존여부'][i] = '알수없음'\n",
    "    elif len(painter.split('(')[-1].split('~')[-1]) > 3:\n",
    "        data['작가생존여부'][i] = '사망'\n",
    "        "
   ]
  },
  {
   "cell_type": "markdown",
   "metadata": {},
   "source": [
    "### (5) 재료에서 숫자 및 띄어쓰기 제거"
   ]
  },
  {
   "cell_type": "markdown",
   "metadata": {},
   "source": [
    "##"
   ]
  },
  {
   "cell_type": "code",
   "execution_count": 88,
   "metadata": {},
   "outputs": [
    {
     "name": "stderr",
     "output_type": "stream",
     "text": [
      "/tmp/ipykernel_20481/2469359434.py:1: SettingWithCopyWarning: \n",
      "A value is trying to be set on a copy of a slice from a DataFrame\n",
      "\n",
      "See the caveats in the documentation: https://pandas.pydata.org/pandas-docs/stable/user_guide/indexing.html#returning-a-view-versus-a-copy\n",
      "  data['재료'][data['재료'].isna()] = '알수없음'\n",
      "/tmp/ipykernel_20481/2469359434.py:12: SettingWithCopyWarning: \n",
      "A value is trying to be set on a copy of a slice from a DataFrame\n",
      "\n",
      "See the caveats in the documentation: https://pandas.pydata.org/pandas-docs/stable/user_guide/indexing.html#returning-a-view-versus-a-copy\n",
      "  data['재료'][i] = ingredient_preprocess(data['재료'][i])\n"
     ]
    }
   ],
   "source": [
    "data['재료'][data['재료'].isna()] = '알수없음'\n",
    "\n",
    "def ingredient_preprocess(ingredient):\n",
    "    new_str = re.sub(r\"[0-9]\", \"\", str(ingredient))\n",
    "    new_str = new_str.replace(' ', '')\n",
    "    if len(new_str) < 1:\n",
    "        new_str = '알수없음'\n",
    "    return new_str\n",
    "\n",
    "# data['재료'] = data['재료'].map(ingredient_preprocess)\n",
    "for i in range(len(data['재료'])):\n",
    "    data['재료'][i] = ingredient_preprocess(data['재료'][i])"
   ]
  },
  {
   "cell_type": "markdown",
   "metadata": {},
   "source": [
    "### (6) 사이즈 가로, 세로 추출"
   ]
  },
  {
   "cell_type": "code",
   "execution_count": 127,
   "metadata": {},
   "outputs": [
    {
     "name": "stderr",
     "output_type": "stream",
     "text": [
      "/tmp/ipykernel_20481/905040304.py:33: SettingWithCopyWarning: \n",
      "A value is trying to be set on a copy of a slice from a DataFrame\n",
      "\n",
      "See the caveats in the documentation: https://pandas.pydata.org/pandas-docs/stable/user_guide/indexing.html#returning-a-view-versus-a-copy\n",
      "  data['사이즈'][data['사이즈'].isna()] = '알수없음'\n",
      "/tmp/ipykernel_20481/905040304.py:37: SettingWithCopyWarning: \n",
      "A value is trying to be set on a copy of a slice from a DataFrame\n",
      "\n",
      "See the caveats in the documentation: https://pandas.pydata.org/pandas-docs/stable/user_guide/indexing.html#returning-a-view-versus-a-copy\n",
      "  data['가로'][i] = extract_height(data['사이즈'][i])\n",
      "/tmp/ipykernel_20481/905040304.py:38: SettingWithCopyWarning: \n",
      "A value is trying to be set on a copy of a slice from a DataFrame\n",
      "\n",
      "See the caveats in the documentation: https://pandas.pydata.org/pandas-docs/stable/user_guide/indexing.html#returning-a-view-versus-a-copy\n",
      "  data['세로'][i] = extract_height(data['사이즈'][i])\n"
     ]
    }
   ],
   "source": [
    "def extract_width(size):\n",
    "    try:\n",
    "        if len(re.sub(r\"[^0-9, .]\", \"\", size)) < 3:\n",
    "            return 0\n",
    "        else:\n",
    "            if '×' in size:\n",
    "                width = size.split('×')[0]\n",
    "                width = re.sub(r\"[^0-9, .]\", \"\", width)\n",
    "            else:\n",
    "                width = size.split('☓')[0]\n",
    "                width = re.sub(r\"[^0-9, .]\", \"\", width)\n",
    "        return float(width)\n",
    "    except:\n",
    "        return 0\n",
    "\n",
    "def extract_height(size):\n",
    "    try:\n",
    "        if len(re.sub(r\"[^0-9, .]\", \"\", size)) < 3:\n",
    "            return 0\n",
    "        else:\n",
    "            if '×' in size:\n",
    "                height = size.split('×')[1]\n",
    "                height = re.sub(r\"[^0-9, .]\", \"\", height)\n",
    "            else:\n",
    "                height = size.split('☓')[1]\n",
    "                height = re.sub(r\"[^0-9, .]\", \"\", height)\n",
    "        return float(height)\n",
    "    except:\n",
    "        return 0\n",
    "\n",
    "data['가로'] = 0\n",
    "data['세로'] = 0\n",
    "data['사이즈'][data['사이즈'].isna()] = '알수없음'\n",
    "\n",
    "for i in range(len(data['사이즈'])):\n",
    "    if len(data['사이즈'][i]) > 2 and len(data['사이즈'][i]) < 15:\n",
    "        data['가로'][i] = extract_height(data['사이즈'][i])\n",
    "        data['세로'][i] = extract_height(data['사이즈'][i])"
   ]
  },
  {
   "cell_type": "markdown",
   "metadata": {},
   "source": [
    "### (7) 판매일자 계절 추출"
   ]
  },
  {
   "cell_type": "code",
   "execution_count": 149,
   "metadata": {},
   "outputs": [],
   "source": [
    "data['판매계절'] = ''\n",
    "\n",
    "def extract_season(date):\n",
    "    month = int(date.split('-')[1])\n",
    "    if month in [12, 1, 2]:\n",
    "        return '겨울'\n",
    "    elif month in [3,4,5]:\n",
    "        return '봄'\n",
    "    elif month in [6,7,8]:\n",
    "        return '여름'\n",
    "    elif month in [9,10,11]:\n",
    "        return '가을'\n",
    "\n",
    "data['판매계절'] = data['판매일자와판매처'].map(extract_season)"
   ]
  },
  {
   "cell_type": "markdown",
   "metadata": {},
   "source": [
    "### (8) 범주형 변수 Onehot encoding"
   ]
  },
  {
   "cell_type": "code",
   "execution_count": 162,
   "metadata": {},
   "outputs": [],
   "source": [
    "dummies = pd.get_dummies(data.loc[:, ['작가생존여부','판매계절']], drop_first=False)"
   ]
  },
  {
   "cell_type": "markdown",
   "metadata": {},
   "source": [
    "### (9) 연속형 변수 정규화 (Min-max)"
   ]
  },
  {
   "cell_type": "code",
   "execution_count": 159,
   "metadata": {},
   "outputs": [
    {
     "data": {
      "text/html": [
       "<div>\n",
       "<style scoped>\n",
       "    .dataframe tbody tr th:only-of-type {\n",
       "        vertical-align: middle;\n",
       "    }\n",
       "\n",
       "    .dataframe tbody tr th {\n",
       "        vertical-align: top;\n",
       "    }\n",
       "\n",
       "    .dataframe thead th {\n",
       "        text-align: right;\n",
       "    }\n",
       "</style>\n",
       "<table border=\"1\" class=\"dataframe\">\n",
       "  <thead>\n",
       "    <tr style=\"text-align: right;\">\n",
       "      <th></th>\n",
       "      <th>가로</th>\n",
       "      <th>세로</th>\n",
       "      <th>작품 판매 횟수</th>\n",
       "    </tr>\n",
       "  </thead>\n",
       "  <tbody>\n",
       "    <tr>\n",
       "      <th>0</th>\n",
       "      <td>0.065372</td>\n",
       "      <td>0.065372</td>\n",
       "      <td>0.0</td>\n",
       "    </tr>\n",
       "    <tr>\n",
       "      <th>1</th>\n",
       "      <td>0.026429</td>\n",
       "      <td>0.026429</td>\n",
       "      <td>0.0</td>\n",
       "    </tr>\n",
       "    <tr>\n",
       "      <th>2</th>\n",
       "      <td>0.018878</td>\n",
       "      <td>0.018878</td>\n",
       "      <td>0.0</td>\n",
       "    </tr>\n",
       "    <tr>\n",
       "      <th>3</th>\n",
       "      <td>0.025351</td>\n",
       "      <td>0.025351</td>\n",
       "      <td>0.0</td>\n",
       "    </tr>\n",
       "    <tr>\n",
       "      <th>4</th>\n",
       "      <td>0.019957</td>\n",
       "      <td>0.019957</td>\n",
       "      <td>0.0</td>\n",
       "    </tr>\n",
       "  </tbody>\n",
       "</table>\n",
       "</div>"
      ],
      "text/plain": [
       "         가로        세로  작품 판매 횟수\n",
       "0  0.065372  0.065372       0.0\n",
       "1  0.026429  0.026429       0.0\n",
       "2  0.018878  0.018878       0.0\n",
       "3  0.025351  0.025351       0.0\n",
       "4  0.019957  0.019957       0.0"
      ]
     },
     "execution_count": 159,
     "metadata": {},
     "output_type": "execute_result"
    }
   ],
   "source": [
    "from sklearn.preprocessing import MinMaxScaler\n",
    "min_max_scaler = MinMaxScaler()\n",
    "numeric_data =data.loc[:, ['가로', '세로', '작품 판매 횟수']]\n",
    "numeric_data.loc[:, ['가로', '세로', '작품 판매 횟수']] = min_max_scaler.fit_transform(numeric_data)\n",
    "numeric_data.head()"
   ]
  },
  {
   "cell_type": "markdown",
   "metadata": {},
   "source": [
    "### (10) X, y 정의"
   ]
  },
  {
   "cell_type": "code",
   "execution_count": 165,
   "metadata": {},
   "outputs": [],
   "source": [
    "X = pd.concat([dummies, numeric_data], axis = 1)\n",
    "y = data['판매가격']"
   ]
  },
  {
   "cell_type": "markdown",
   "metadata": {},
   "source": [
    "### (11) Train Test 분할"
   ]
  },
  {
   "cell_type": "code",
   "execution_count": 167,
   "metadata": {},
   "outputs": [],
   "source": [
    "from sklearn.model_selection import train_test_split\n",
    "\n",
    "X_train, X_test, y_train, y_test = train_test_split(X, y, random_state=1004)"
   ]
  },
  {
   "cell_type": "markdown",
   "metadata": {},
   "source": [
    "## 4. Modeling"
   ]
  },
  {
   "cell_type": "code",
   "execution_count": 174,
   "metadata": {},
   "outputs": [],
   "source": [
    "from xgboost import XGBRegressor\n",
    "\n",
    "xgb_model = XGBRegressor(n_estimators = 500, max_depth = 3, learning_rate = 0.01).fit(X_train, y_train)"
   ]
  },
  {
   "cell_type": "code",
   "execution_count": 175,
   "metadata": {},
   "outputs": [],
   "source": [
    "test_predict = xgb_model.predict(X_test)"
   ]
  },
  {
   "cell_type": "code",
   "execution_count": 176,
   "metadata": {},
   "outputs": [
    {
     "name": "stdout",
     "output_type": "stream",
     "text": [
      "RMSE: 41528953.64799029\n",
      "R2 Score: -0.03908283296090409\n"
     ]
    }
   ],
   "source": [
    "from sklearn.metrics import mean_squared_error, r2_score\n",
    "\n",
    "print(\"RMSE: {}\".format(np.sqrt(mean_squared_error(y_test, test_predict))))\n",
    "print(\"R2 Score: {}\".format(r2_score(y_test, test_predict)))"
   ]
  },
  {
   "cell_type": "code",
   "execution_count": null,
   "metadata": {},
   "outputs": [],
   "source": []
  }
 ],
 "metadata": {
  "interpreter": {
   "hash": "8786e27bd1086ac4d9d40cc5555f877076005eb73afcfe8ecd44164236edd6aa"
  },
  "kernelspec": {
   "display_name": "Python 3.8.13 ('vision_machine')",
   "language": "python",
   "name": "python3"
  },
  "language_info": {
   "codemirror_mode": {
    "name": "ipython",
    "version": 3
   },
   "file_extension": ".py",
   "mimetype": "text/x-python",
   "name": "python",
   "nbconvert_exporter": "python",
   "pygments_lexer": "ipython3",
   "version": "3.8.13"
  },
  "orig_nbformat": 4
 },
 "nbformat": 4,
 "nbformat_minor": 2
}
