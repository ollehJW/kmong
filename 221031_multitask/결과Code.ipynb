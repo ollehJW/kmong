{
 "cells": [
  {
   "cell_type": "markdown",
   "metadata": {},
   "source": [
    "## 1. 사용할 패키지 불러오기"
   ]
  },
  {
   "cell_type": "code",
   "execution_count": 1,
   "metadata": {},
   "outputs": [
    {
     "name": "stderr",
     "output_type": "stream",
     "text": [
      "/home/jongwook95.lee/miniforge3/envs/ml_env/lib/python3.8/site-packages/tqdm/auto.py:22: TqdmWarning: IProgress not found. Please update jupyter and ipywidgets. See https://ipywidgets.readthedocs.io/en/stable/user_install.html\n",
      "  from .autonotebook import tqdm as notebook_tqdm\n"
     ]
    }
   ],
   "source": [
    "import xgboost as xgb\n",
    "import pandas as pd\n",
    "import numpy as np\n",
    "import matplotlib.pylab as plt\n",
    "from matplotlib import pyplot\n",
    "from xgboost import plot_importance\n",
    "from sklearn.model_selection import train_test_split\n",
    "from sklearn.metrics import mean_squared_error, r2_score, accuracy_score, f1_score, plot_confusion_matrix\n",
    "import torch.nn as nn\n",
    "import torch.utils.data as data_utils\n",
    "import torch"
   ]
  },
  {
   "cell_type": "markdown",
   "metadata": {},
   "source": [
    "## 2. 데이터 불러오기"
   ]
  },
  {
   "cell_type": "code",
   "execution_count": 3,
   "metadata": {},
   "outputs": [
    {
     "data": {
      "text/html": [
       "<div>\n",
       "<style scoped>\n",
       "    .dataframe tbody tr th:only-of-type {\n",
       "        vertical-align: middle;\n",
       "    }\n",
       "\n",
       "    .dataframe tbody tr th {\n",
       "        vertical-align: top;\n",
       "    }\n",
       "\n",
       "    .dataframe thead th {\n",
       "        text-align: right;\n",
       "    }\n",
       "</style>\n",
       "<table border=\"1\" class=\"dataframe\">\n",
       "  <thead>\n",
       "    <tr style=\"text-align: right;\">\n",
       "      <th></th>\n",
       "      <th>ia</th>\n",
       "      <th>ib</th>\n",
       "      <th>ic</th>\n",
       "      <th>distance</th>\n",
       "      <th>location</th>\n",
       "      <th>type</th>\n",
       "    </tr>\n",
       "  </thead>\n",
       "  <tbody>\n",
       "    <tr>\n",
       "      <th>0</th>\n",
       "      <td>25.921025</td>\n",
       "      <td>0.300361</td>\n",
       "      <td>0.153016</td>\n",
       "      <td>10</td>\n",
       "      <td>0</td>\n",
       "      <td>0</td>\n",
       "    </tr>\n",
       "    <tr>\n",
       "      <th>1</th>\n",
       "      <td>25.679561</td>\n",
       "      <td>0.299710</td>\n",
       "      <td>0.153383</td>\n",
       "      <td>20</td>\n",
       "      <td>0</td>\n",
       "      <td>0</td>\n",
       "    </tr>\n",
       "    <tr>\n",
       "      <th>2</th>\n",
       "      <td>25.442621</td>\n",
       "      <td>0.299341</td>\n",
       "      <td>0.153731</td>\n",
       "      <td>30</td>\n",
       "      <td>0</td>\n",
       "      <td>0</td>\n",
       "    </tr>\n",
       "    <tr>\n",
       "      <th>3</th>\n",
       "      <td>25.210031</td>\n",
       "      <td>0.298672</td>\n",
       "      <td>0.154085</td>\n",
       "      <td>40</td>\n",
       "      <td>0</td>\n",
       "      <td>0</td>\n",
       "    </tr>\n",
       "    <tr>\n",
       "      <th>4</th>\n",
       "      <td>24.981768</td>\n",
       "      <td>0.297860</td>\n",
       "      <td>0.154401</td>\n",
       "      <td>50</td>\n",
       "      <td>0</td>\n",
       "      <td>0</td>\n",
       "    </tr>\n",
       "  </tbody>\n",
       "</table>\n",
       "</div>"
      ],
      "text/plain": [
       "          ia        ib        ic  distance  location  type\n",
       "0  25.921025  0.300361  0.153016        10         0     0\n",
       "1  25.679561  0.299710  0.153383        20         0     0\n",
       "2  25.442621  0.299341  0.153731        30         0     0\n",
       "3  25.210031  0.298672  0.154085        40         0     0\n",
       "4  24.981768  0.297860  0.154401        50         0     0"
      ]
     },
     "execution_count": 3,
     "metadata": {},
     "output_type": "execute_result"
    }
   ],
   "source": [
    "data = pd.read_csv('maxdata2.csv')\n",
    "data.head()"
   ]
  },
  {
   "cell_type": "markdown",
   "metadata": {},
   "source": [
    "#### - 독립변수와 종속변수로 나누기"
   ]
  },
  {
   "cell_type": "code",
   "execution_count": 72,
   "metadata": {},
   "outputs": [],
   "source": [
    "X = data.iloc[:, :3]\n",
    "y_dist = data['distance']\n",
    "y_Location = data['location']\n",
    "y_Type = data['type']\n"
   ]
  },
  {
   "cell_type": "markdown",
   "metadata": {},
   "source": [
    "## 3. XGBoost 모델 적합"
   ]
  },
  {
   "cell_type": "markdown",
   "metadata": {},
   "source": [
    "### (1) Distance"
   ]
  },
  {
   "cell_type": "markdown",
   "metadata": {},
   "source": [
    "#### - 학습 데이터 생성"
   ]
  },
  {
   "cell_type": "code",
   "execution_count": 5,
   "metadata": {},
   "outputs": [],
   "source": [
    "X_train, X_test, y_train, y_test = train_test_split(X, y_dist, test_size=0.2, random_state=777)"
   ]
  },
  {
   "cell_type": "markdown",
   "metadata": {},
   "source": [
    "#### - 하이퍼 파라미터 선정"
   ]
  },
  {
   "cell_type": "code",
   "execution_count": 6,
   "metadata": {},
   "outputs": [
    {
     "data": {
      "text/html": [
       "<div>\n",
       "<style scoped>\n",
       "    .dataframe tbody tr th:only-of-type {\n",
       "        vertical-align: middle;\n",
       "    }\n",
       "\n",
       "    .dataframe tbody tr th {\n",
       "        vertical-align: top;\n",
       "    }\n",
       "\n",
       "    .dataframe thead th {\n",
       "        text-align: right;\n",
       "    }\n",
       "</style>\n",
       "<table border=\"1\" class=\"dataframe\">\n",
       "  <thead>\n",
       "    <tr style=\"text-align: right;\">\n",
       "      <th></th>\n",
       "      <th>n_estimators</th>\n",
       "      <th>max_depth</th>\n",
       "      <th>learning_rate</th>\n",
       "      <th>Train Score</th>\n",
       "      <th>Test Score</th>\n",
       "    </tr>\n",
       "  </thead>\n",
       "  <tbody>\n",
       "    <tr>\n",
       "      <th>0</th>\n",
       "      <td>100</td>\n",
       "      <td>3</td>\n",
       "      <td>0.1000</td>\n",
       "      <td>0.884182</td>\n",
       "      <td>0.891811</td>\n",
       "    </tr>\n",
       "    <tr>\n",
       "      <th>1</th>\n",
       "      <td>100</td>\n",
       "      <td>3</td>\n",
       "      <td>0.0100</td>\n",
       "      <td>-0.046929</td>\n",
       "      <td>-0.027004</td>\n",
       "    </tr>\n",
       "    <tr>\n",
       "      <th>2</th>\n",
       "      <td>100</td>\n",
       "      <td>3</td>\n",
       "      <td>0.0010</td>\n",
       "      <td>-2.407116</td>\n",
       "      <td>-2.386760</td>\n",
       "    </tr>\n",
       "    <tr>\n",
       "      <th>3</th>\n",
       "      <td>100</td>\n",
       "      <td>3</td>\n",
       "      <td>0.0001</td>\n",
       "      <td>-2.955247</td>\n",
       "      <td>-2.933775</td>\n",
       "    </tr>\n",
       "    <tr>\n",
       "      <th>4</th>\n",
       "      <td>100</td>\n",
       "      <td>5</td>\n",
       "      <td>0.1000</td>\n",
       "      <td>0.939326</td>\n",
       "      <td>0.930881</td>\n",
       "    </tr>\n",
       "    <tr>\n",
       "      <th>...</th>\n",
       "      <td>...</td>\n",
       "      <td>...</td>\n",
       "      <td>...</td>\n",
       "      <td>...</td>\n",
       "      <td>...</td>\n",
       "    </tr>\n",
       "    <tr>\n",
       "      <th>91</th>\n",
       "      <td>1000</td>\n",
       "      <td>7</td>\n",
       "      <td>0.0001</td>\n",
       "      <td>-2.338452</td>\n",
       "      <td>-2.317970</td>\n",
       "    </tr>\n",
       "    <tr>\n",
       "      <th>92</th>\n",
       "      <td>1000</td>\n",
       "      <td>9</td>\n",
       "      <td>0.1000</td>\n",
       "      <td>0.999976</td>\n",
       "      <td>0.898990</td>\n",
       "    </tr>\n",
       "    <tr>\n",
       "      <th>93</th>\n",
       "      <td>1000</td>\n",
       "      <td>9</td>\n",
       "      <td>0.0100</td>\n",
       "      <td>0.964604</td>\n",
       "      <td>0.926418</td>\n",
       "    </tr>\n",
       "    <tr>\n",
       "      <th>94</th>\n",
       "      <td>1000</td>\n",
       "      <td>9</td>\n",
       "      <td>0.0010</td>\n",
       "      <td>0.365060</td>\n",
       "      <td>0.376046</td>\n",
       "    </tr>\n",
       "    <tr>\n",
       "      <th>95</th>\n",
       "      <td>1000</td>\n",
       "      <td>9</td>\n",
       "      <td>0.0001</td>\n",
       "      <td>-2.320018</td>\n",
       "      <td>-2.298632</td>\n",
       "    </tr>\n",
       "  </tbody>\n",
       "</table>\n",
       "<p>96 rows × 5 columns</p>\n",
       "</div>"
      ],
      "text/plain": [
       "    n_estimators  max_depth  learning_rate  Train Score  Test Score\n",
       "0            100          3         0.1000     0.884182    0.891811\n",
       "1            100          3         0.0100    -0.046929   -0.027004\n",
       "2            100          3         0.0010    -2.407116   -2.386760\n",
       "3            100          3         0.0001    -2.955247   -2.933775\n",
       "4            100          5         0.1000     0.939326    0.930881\n",
       "..           ...        ...            ...          ...         ...\n",
       "91          1000          7         0.0001    -2.338452   -2.317970\n",
       "92          1000          9         0.1000     0.999976    0.898990\n",
       "93          1000          9         0.0100     0.964604    0.926418\n",
       "94          1000          9         0.0010     0.365060    0.376046\n",
       "95          1000          9         0.0001    -2.320018   -2.298632\n",
       "\n",
       "[96 rows x 5 columns]"
      ]
     },
     "execution_count": 6,
     "metadata": {},
     "output_type": "execute_result"
    }
   ],
   "source": [
    "n_estimators_candidate = [100, 200, 300,400,500, 1000]\n",
    "max_depth_candidate = [3, 5, 7, 9]\n",
    "learning_rate_candidate = [0.1, 0.01, 0.001, 0.0001]\n",
    "\n",
    "# 결과를 저장할 빈 리스트 생성\n",
    "n_estimators_list = []\n",
    "max_depth_list = []\n",
    "learning_rate_list = []\n",
    "train_score_list = []\n",
    "val_score_list = []\n",
    "\n",
    "# XGBoost의 n_estimators 파라미터에 대해서\n",
    "for n_estimators in n_estimators_candidate:\n",
    "    # XGBoost의 max_depth 파라미터에 대해서\n",
    "    for max_depth in max_depth_candidate:\n",
    "        # XGBoost의 learning_rate 파라미터에 대해서\n",
    "        for learning_rate in learning_rate_candidate:\n",
    "            # 모델 생성 및 학습\n",
    "            model = xgb.XGBRegressor(n_estimators=n_estimators, max_depth=max_depth, learning_rate=learning_rate).fit(X_train, y_train)\n",
    "            # Train 데이터에 대한 결과 확인\n",
    "            train_predict = model.predict(X_train)\n",
    "            train_score_list.append(r2_score(y_train, train_predict))\n",
    "            # Test 데이터에 대한 결과 확인\n",
    "            test_predict = model.predict(X_test)\n",
    "            val_score_list.append(r2_score(y_test, test_predict))\n",
    "            # Parameter 저장\n",
    "            n_estimators_list.append(n_estimators)\n",
    "            max_depth_list.append(max_depth)\n",
    "            learning_rate_list.append(learning_rate)\n",
    "            \n",
    "result = pd.DataFrame({\"n_estimators\": n_estimators_list, \"max_depth\": max_depth_list, \"learning_rate\": learning_rate_list, 'Train Score': train_score_list, 'Test Score': val_score_list})\n",
    "result                    "
   ]
  },
  {
   "cell_type": "code",
   "execution_count": 7,
   "metadata": {},
   "outputs": [
    {
     "data": {
      "text/html": [
       "<div>\n",
       "<style scoped>\n",
       "    .dataframe tbody tr th:only-of-type {\n",
       "        vertical-align: middle;\n",
       "    }\n",
       "\n",
       "    .dataframe tbody tr th {\n",
       "        vertical-align: top;\n",
       "    }\n",
       "\n",
       "    .dataframe thead th {\n",
       "        text-align: right;\n",
       "    }\n",
       "</style>\n",
       "<table border=\"1\" class=\"dataframe\">\n",
       "  <thead>\n",
       "    <tr style=\"text-align: right;\">\n",
       "      <th></th>\n",
       "      <th>n_estimators</th>\n",
       "      <th>max_depth</th>\n",
       "      <th>learning_rate</th>\n",
       "      <th>Train Score</th>\n",
       "      <th>Test Score</th>\n",
       "    </tr>\n",
       "  </thead>\n",
       "  <tbody>\n",
       "    <tr>\n",
       "      <th>0</th>\n",
       "      <td>500</td>\n",
       "      <td>9</td>\n",
       "      <td>0.01</td>\n",
       "      <td>0.944083</td>\n",
       "      <td>0.936299</td>\n",
       "    </tr>\n",
       "  </tbody>\n",
       "</table>\n",
       "</div>"
      ],
      "text/plain": [
       "   n_estimators  max_depth  learning_rate  Train Score  Test Score\n",
       "0           500          9           0.01     0.944083    0.936299"
      ]
     },
     "execution_count": 7,
     "metadata": {},
     "output_type": "execute_result"
    }
   ],
   "source": [
    "result = result.loc[result['Test Score'] == max(result['Test Score']), :].reset_index(drop = True)\n",
    "result"
   ]
  },
  {
   "cell_type": "code",
   "execution_count": 8,
   "metadata": {},
   "outputs": [],
   "source": [
    "model = xgb.XGBRegressor(n_estimators=result['n_estimators'][0], max_depth=result['max_depth'][0], learning_rate=result['learning_rate'][0], objective='reg:squarederror').fit(X_train, y_train)"
   ]
  },
  {
   "cell_type": "markdown",
   "metadata": {},
   "source": [
    "#### - 성능 평가"
   ]
  },
  {
   "cell_type": "code",
   "execution_count": 9,
   "metadata": {},
   "outputs": [
    {
     "name": "stdout",
     "output_type": "stream",
     "text": [
      "Train RMSE: 204.67805876071205\n",
      "Train R2 score: 0.9440832044859171\n"
     ]
    }
   ],
   "source": [
    "train_predicted = model.predict(X_train)\n",
    "print(\"Train RMSE: {}\".format(np.sqrt(mean_squared_error(y_train, train_predicted))))\n",
    "print(\"Train R2 score: {}\".format(r2_score(y_train, train_predicted)))"
   ]
  },
  {
   "cell_type": "code",
   "execution_count": 35,
   "metadata": {},
   "outputs": [
    {
     "name": "stdout",
     "output_type": "stream",
     "text": [
      "Test RMSE: 11.89420089459469\n",
      "Test R2 score: 0.9998102185329695\n"
     ]
    }
   ],
   "source": [
    "test_predicted = model.predict(X_test)\n",
    "print(\"Test RMSE: {}\".format(np.sqrt(mean_squared_error(y_test, test_predicted))))\n",
    "print(\"Test R2 score: {}\".format(r2_score(y_test, test_predicted)))"
   ]
  },
  {
   "cell_type": "markdown",
   "metadata": {},
   "source": [
    "### (2) Location"
   ]
  },
  {
   "cell_type": "code",
   "execution_count": 10,
   "metadata": {},
   "outputs": [],
   "source": [
    "X_train, X_test, y_train, y_test = train_test_split(X, y_Location, test_size=0.2, random_state=777, stratify=y_Location) "
   ]
  },
  {
   "cell_type": "code",
   "execution_count": 11,
   "metadata": {},
   "outputs": [
    {
     "ename": "KeyboardInterrupt",
     "evalue": "",
     "output_type": "error",
     "traceback": [
      "\u001b[0;31m---------------------------------------------------------------------------\u001b[0m",
      "\u001b[0;31mKeyboardInterrupt\u001b[0m                         Traceback (most recent call last)",
      "Cell \u001b[0;32mIn [11], line 19\u001b[0m\n\u001b[1;32m     15\u001b[0m \u001b[38;5;28;01mfor\u001b[39;00m max_depth \u001b[38;5;129;01min\u001b[39;00m max_depth_candidate:\n\u001b[1;32m     16\u001b[0m     \u001b[38;5;66;03m# XGBoost의 learning_rate 파라미터에 대해서\u001b[39;00m\n\u001b[1;32m     17\u001b[0m     \u001b[38;5;28;01mfor\u001b[39;00m learning_rate \u001b[38;5;129;01min\u001b[39;00m learning_rate_candidate:\n\u001b[1;32m     18\u001b[0m         \u001b[38;5;66;03m# 모델 생성 및 학습\u001b[39;00m\n\u001b[0;32m---> 19\u001b[0m         model \u001b[38;5;241m=\u001b[39m \u001b[43mxgb\u001b[49m\u001b[38;5;241;43m.\u001b[39;49m\u001b[43mXGBClassifier\u001b[49m\u001b[43m(\u001b[49m\u001b[43mn_estimators\u001b[49m\u001b[38;5;241;43m=\u001b[39;49m\u001b[43mn_estimators\u001b[49m\u001b[43m,\u001b[49m\u001b[43m \u001b[49m\u001b[43mmax_depth\u001b[49m\u001b[38;5;241;43m=\u001b[39;49m\u001b[43mmax_depth\u001b[49m\u001b[43m,\u001b[49m\u001b[43m \u001b[49m\u001b[43mlearning_rate\u001b[49m\u001b[38;5;241;43m=\u001b[39;49m\u001b[43mlearning_rate\u001b[49m\u001b[43m)\u001b[49m\u001b[38;5;241;43m.\u001b[39;49m\u001b[43mfit\u001b[49m\u001b[43m(\u001b[49m\u001b[43mX_train\u001b[49m\u001b[43m,\u001b[49m\u001b[43m \u001b[49m\u001b[43my_train\u001b[49m\u001b[43m)\u001b[49m\n\u001b[1;32m     20\u001b[0m         \u001b[38;5;66;03m# Train 데이터에 대한 결과 확인\u001b[39;00m\n\u001b[1;32m     21\u001b[0m         train_predict \u001b[38;5;241m=\u001b[39m model\u001b[38;5;241m.\u001b[39mpredict(X_train)\n",
      "File \u001b[0;32m~/miniforge3/envs/ml_env/lib/python3.8/site-packages/xgboost/core.py:575\u001b[0m, in \u001b[0;36m_deprecate_positional_args.<locals>.inner_f\u001b[0;34m(*args, **kwargs)\u001b[0m\n\u001b[1;32m    <a href='file:///home/jongwook95.lee/miniforge3/envs/ml_env/lib/python3.8/site-packages/xgboost/core.py?line=572'>573</a>\u001b[0m \u001b[39mfor\u001b[39;00m k, arg \u001b[39min\u001b[39;00m \u001b[39mzip\u001b[39m(sig\u001b[39m.\u001b[39mparameters, args):\n\u001b[1;32m    <a href='file:///home/jongwook95.lee/miniforge3/envs/ml_env/lib/python3.8/site-packages/xgboost/core.py?line=573'>574</a>\u001b[0m     kwargs[k] \u001b[39m=\u001b[39m arg\n\u001b[0;32m--> <a href='file:///home/jongwook95.lee/miniforge3/envs/ml_env/lib/python3.8/site-packages/xgboost/core.py?line=574'>575</a>\u001b[0m \u001b[39mreturn\u001b[39;00m f(\u001b[39m*\u001b[39;49m\u001b[39m*\u001b[39;49mkwargs)\n",
      "File \u001b[0;32m~/miniforge3/envs/ml_env/lib/python3.8/site-packages/xgboost/sklearn.py:1400\u001b[0m, in \u001b[0;36mXGBClassifier.fit\u001b[0;34m(self, X, y, sample_weight, base_margin, eval_set, eval_metric, early_stopping_rounds, verbose, xgb_model, sample_weight_eval_set, base_margin_eval_set, feature_weights, callbacks)\u001b[0m\n\u001b[1;32m   <a href='file:///home/jongwook95.lee/miniforge3/envs/ml_env/lib/python3.8/site-packages/xgboost/sklearn.py?line=1378'>1379</a>\u001b[0m model, metric, params, early_stopping_rounds, callbacks \u001b[39m=\u001b[39m \u001b[39mself\u001b[39m\u001b[39m.\u001b[39m_configure_fit(\n\u001b[1;32m   <a href='file:///home/jongwook95.lee/miniforge3/envs/ml_env/lib/python3.8/site-packages/xgboost/sklearn.py?line=1379'>1380</a>\u001b[0m     xgb_model, eval_metric, params, early_stopping_rounds, callbacks\n\u001b[1;32m   <a href='file:///home/jongwook95.lee/miniforge3/envs/ml_env/lib/python3.8/site-packages/xgboost/sklearn.py?line=1380'>1381</a>\u001b[0m )\n\u001b[1;32m   <a href='file:///home/jongwook95.lee/miniforge3/envs/ml_env/lib/python3.8/site-packages/xgboost/sklearn.py?line=1381'>1382</a>\u001b[0m train_dmatrix, evals \u001b[39m=\u001b[39m _wrap_evaluation_matrices(\n\u001b[1;32m   <a href='file:///home/jongwook95.lee/miniforge3/envs/ml_env/lib/python3.8/site-packages/xgboost/sklearn.py?line=1382'>1383</a>\u001b[0m     missing\u001b[39m=\u001b[39m\u001b[39mself\u001b[39m\u001b[39m.\u001b[39mmissing,\n\u001b[1;32m   <a href='file:///home/jongwook95.lee/miniforge3/envs/ml_env/lib/python3.8/site-packages/xgboost/sklearn.py?line=1383'>1384</a>\u001b[0m     X\u001b[39m=\u001b[39mX,\n\u001b[0;32m   (...)\u001b[0m\n\u001b[1;32m   <a href='file:///home/jongwook95.lee/miniforge3/envs/ml_env/lib/python3.8/site-packages/xgboost/sklearn.py?line=1396'>1397</a>\u001b[0m     enable_categorical\u001b[39m=\u001b[39m\u001b[39mself\u001b[39m\u001b[39m.\u001b[39menable_categorical,\n\u001b[1;32m   <a href='file:///home/jongwook95.lee/miniforge3/envs/ml_env/lib/python3.8/site-packages/xgboost/sklearn.py?line=1397'>1398</a>\u001b[0m )\n\u001b[0;32m-> <a href='file:///home/jongwook95.lee/miniforge3/envs/ml_env/lib/python3.8/site-packages/xgboost/sklearn.py?line=1399'>1400</a>\u001b[0m \u001b[39mself\u001b[39m\u001b[39m.\u001b[39m_Booster \u001b[39m=\u001b[39m train(\n\u001b[1;32m   <a href='file:///home/jongwook95.lee/miniforge3/envs/ml_env/lib/python3.8/site-packages/xgboost/sklearn.py?line=1400'>1401</a>\u001b[0m     params,\n\u001b[1;32m   <a href='file:///home/jongwook95.lee/miniforge3/envs/ml_env/lib/python3.8/site-packages/xgboost/sklearn.py?line=1401'>1402</a>\u001b[0m     train_dmatrix,\n\u001b[1;32m   <a href='file:///home/jongwook95.lee/miniforge3/envs/ml_env/lib/python3.8/site-packages/xgboost/sklearn.py?line=1402'>1403</a>\u001b[0m     \u001b[39mself\u001b[39;49m\u001b[39m.\u001b[39;49mget_num_boosting_rounds(),\n\u001b[1;32m   <a href='file:///home/jongwook95.lee/miniforge3/envs/ml_env/lib/python3.8/site-packages/xgboost/sklearn.py?line=1403'>1404</a>\u001b[0m     evals\u001b[39m=\u001b[39;49mevals,\n\u001b[1;32m   <a href='file:///home/jongwook95.lee/miniforge3/envs/ml_env/lib/python3.8/site-packages/xgboost/sklearn.py?line=1404'>1405</a>\u001b[0m     early_stopping_rounds\u001b[39m=\u001b[39;49mearly_stopping_rounds,\n\u001b[1;32m   <a href='file:///home/jongwook95.lee/miniforge3/envs/ml_env/lib/python3.8/site-packages/xgboost/sklearn.py?line=1405'>1406</a>\u001b[0m     evals_result\u001b[39m=\u001b[39;49mevals_result,\n\u001b[1;32m   <a href='file:///home/jongwook95.lee/miniforge3/envs/ml_env/lib/python3.8/site-packages/xgboost/sklearn.py?line=1406'>1407</a>\u001b[0m     obj\u001b[39m=\u001b[39;49mobj,\n\u001b[1;32m   <a href='file:///home/jongwook95.lee/miniforge3/envs/ml_env/lib/python3.8/site-packages/xgboost/sklearn.py?line=1407'>1408</a>\u001b[0m     custom_metric\u001b[39m=\u001b[39;49mmetric,\n\u001b[1;32m   <a href='file:///home/jongwook95.lee/miniforge3/envs/ml_env/lib/python3.8/site-packages/xgboost/sklearn.py?line=1408'>1409</a>\u001b[0m     verbose_eval\u001b[39m=\u001b[39;49mverbose,\n\u001b[1;32m   <a href='file:///home/jongwook95.lee/miniforge3/envs/ml_env/lib/python3.8/site-packages/xgboost/sklearn.py?line=1409'>1410</a>\u001b[0m     xgb_model\u001b[39m=\u001b[39;49mmodel,\n\u001b[1;32m   <a href='file:///home/jongwook95.lee/miniforge3/envs/ml_env/lib/python3.8/site-packages/xgboost/sklearn.py?line=1410'>1411</a>\u001b[0m     callbacks\u001b[39m=\u001b[39;49mcallbacks,\n\u001b[1;32m   <a href='file:///home/jongwook95.lee/miniforge3/envs/ml_env/lib/python3.8/site-packages/xgboost/sklearn.py?line=1411'>1412</a>\u001b[0m )\n\u001b[1;32m   <a href='file:///home/jongwook95.lee/miniforge3/envs/ml_env/lib/python3.8/site-packages/xgboost/sklearn.py?line=1413'>1414</a>\u001b[0m \u001b[39mif\u001b[39;00m \u001b[39mnot\u001b[39;00m callable(\u001b[39mself\u001b[39m\u001b[39m.\u001b[39mobjective):\n\u001b[1;32m   <a href='file:///home/jongwook95.lee/miniforge3/envs/ml_env/lib/python3.8/site-packages/xgboost/sklearn.py?line=1414'>1415</a>\u001b[0m     \u001b[39mself\u001b[39m\u001b[39m.\u001b[39mobjective \u001b[39m=\u001b[39m params[\u001b[39m\"\u001b[39m\u001b[39mobjective\u001b[39m\u001b[39m\"\u001b[39m]\n",
      "File \u001b[0;32m~/miniforge3/envs/ml_env/lib/python3.8/site-packages/xgboost/core.py:575\u001b[0m, in \u001b[0;36m_deprecate_positional_args.<locals>.inner_f\u001b[0;34m(*args, **kwargs)\u001b[0m\n\u001b[1;32m    <a href='file:///home/jongwook95.lee/miniforge3/envs/ml_env/lib/python3.8/site-packages/xgboost/core.py?line=572'>573</a>\u001b[0m \u001b[39mfor\u001b[39;00m k, arg \u001b[39min\u001b[39;00m \u001b[39mzip\u001b[39m(sig\u001b[39m.\u001b[39mparameters, args):\n\u001b[1;32m    <a href='file:///home/jongwook95.lee/miniforge3/envs/ml_env/lib/python3.8/site-packages/xgboost/core.py?line=573'>574</a>\u001b[0m     kwargs[k] \u001b[39m=\u001b[39m arg\n\u001b[0;32m--> <a href='file:///home/jongwook95.lee/miniforge3/envs/ml_env/lib/python3.8/site-packages/xgboost/core.py?line=574'>575</a>\u001b[0m \u001b[39mreturn\u001b[39;00m f(\u001b[39m*\u001b[39;49m\u001b[39m*\u001b[39;49mkwargs)\n",
      "File \u001b[0;32m~/miniforge3/envs/ml_env/lib/python3.8/site-packages/xgboost/training.py:181\u001b[0m, in \u001b[0;36mtrain\u001b[0;34m(params, dtrain, num_boost_round, evals, obj, feval, maximize, early_stopping_rounds, evals_result, verbose_eval, xgb_model, callbacks, custom_metric)\u001b[0m\n\u001b[1;32m    <a href='file:///home/jongwook95.lee/miniforge3/envs/ml_env/lib/python3.8/site-packages/xgboost/training.py?line=178'>179</a>\u001b[0m \u001b[39mif\u001b[39;00m cb_container\u001b[39m.\u001b[39mbefore_iteration(bst, i, dtrain, evals):\n\u001b[1;32m    <a href='file:///home/jongwook95.lee/miniforge3/envs/ml_env/lib/python3.8/site-packages/xgboost/training.py?line=179'>180</a>\u001b[0m     \u001b[39mbreak\u001b[39;00m\n\u001b[0;32m--> <a href='file:///home/jongwook95.lee/miniforge3/envs/ml_env/lib/python3.8/site-packages/xgboost/training.py?line=180'>181</a>\u001b[0m bst\u001b[39m.\u001b[39;49mupdate(dtrain, i, obj)\n\u001b[1;32m    <a href='file:///home/jongwook95.lee/miniforge3/envs/ml_env/lib/python3.8/site-packages/xgboost/training.py?line=181'>182</a>\u001b[0m \u001b[39mif\u001b[39;00m cb_container\u001b[39m.\u001b[39mafter_iteration(bst, i, dtrain, evals):\n\u001b[1;32m    <a href='file:///home/jongwook95.lee/miniforge3/envs/ml_env/lib/python3.8/site-packages/xgboost/training.py?line=182'>183</a>\u001b[0m     \u001b[39mbreak\u001b[39;00m\n",
      "File \u001b[0;32m~/miniforge3/envs/ml_env/lib/python3.8/site-packages/xgboost/core.py:1778\u001b[0m, in \u001b[0;36mBooster.update\u001b[0;34m(self, dtrain, iteration, fobj)\u001b[0m\n\u001b[1;32m   <a href='file:///home/jongwook95.lee/miniforge3/envs/ml_env/lib/python3.8/site-packages/xgboost/core.py?line=1774'>1775</a>\u001b[0m \u001b[39mself\u001b[39m\u001b[39m.\u001b[39m_validate_features(dtrain)\n\u001b[1;32m   <a href='file:///home/jongwook95.lee/miniforge3/envs/ml_env/lib/python3.8/site-packages/xgboost/core.py?line=1776'>1777</a>\u001b[0m \u001b[39mif\u001b[39;00m fobj \u001b[39mis\u001b[39;00m \u001b[39mNone\u001b[39;00m:\n\u001b[0;32m-> <a href='file:///home/jongwook95.lee/miniforge3/envs/ml_env/lib/python3.8/site-packages/xgboost/core.py?line=1777'>1778</a>\u001b[0m     _check_call(_LIB\u001b[39m.\u001b[39;49mXGBoosterUpdateOneIter(\u001b[39mself\u001b[39;49m\u001b[39m.\u001b[39;49mhandle,\n\u001b[1;32m   <a href='file:///home/jongwook95.lee/miniforge3/envs/ml_env/lib/python3.8/site-packages/xgboost/core.py?line=1778'>1779</a>\u001b[0m                                             ctypes\u001b[39m.\u001b[39;49mc_int(iteration),\n\u001b[1;32m   <a href='file:///home/jongwook95.lee/miniforge3/envs/ml_env/lib/python3.8/site-packages/xgboost/core.py?line=1779'>1780</a>\u001b[0m                                             dtrain\u001b[39m.\u001b[39;49mhandle))\n\u001b[1;32m   <a href='file:///home/jongwook95.lee/miniforge3/envs/ml_env/lib/python3.8/site-packages/xgboost/core.py?line=1780'>1781</a>\u001b[0m \u001b[39melse\u001b[39;00m:\n\u001b[1;32m   <a href='file:///home/jongwook95.lee/miniforge3/envs/ml_env/lib/python3.8/site-packages/xgboost/core.py?line=1781'>1782</a>\u001b[0m     pred \u001b[39m=\u001b[39m \u001b[39mself\u001b[39m\u001b[39m.\u001b[39mpredict(dtrain, output_margin\u001b[39m=\u001b[39m\u001b[39mTrue\u001b[39;00m, training\u001b[39m=\u001b[39m\u001b[39mTrue\u001b[39;00m)\n",
      "\u001b[0;31mKeyboardInterrupt\u001b[0m: "
     ]
    }
   ],
   "source": [
    "n_estimators_candidate = [100, 200, 300,400,500, 1000]\n",
    "max_depth_candidate = [3, 5, 7, 9]\n",
    "learning_rate_candidate = [0.1, 0.01, 0.001, 0.0001]\n",
    "\n",
    "# 결과를 저장할 빈 리스트 생성\n",
    "n_estimators_list = []\n",
    "max_depth_list = []\n",
    "learning_rate_list = []\n",
    "train_score_list = []\n",
    "val_score_list = []\n",
    "\n",
    "# XGBoost의 n_estimators 파라미터에 대해서\n",
    "for n_estimators in n_estimators_candidate:\n",
    "    # XGBoost의 max_depth 파라미터에 대해서\n",
    "    for max_depth in max_depth_candidate:\n",
    "        # XGBoost의 learning_rate 파라미터에 대해서\n",
    "        for learning_rate in learning_rate_candidate:\n",
    "            # 모델 생성 및 학습\n",
    "            model = xgb.XGBClassifier(n_estimators=n_estimators, max_depth=max_depth, learning_rate=learning_rate).fit(X_train, y_train)\n",
    "            # Train 데이터에 대한 결과 확인\n",
    "            train_predict = model.predict(X_train)\n",
    "            train_score_list.append(accuracy_score(y_train, train_predict))\n",
    "            # Test 데이터에 대한 결과 확인\n",
    "            test_predict = model.predict(X_test)\n",
    "            val_score_list.append(accuracy_score(y_test, test_predict))\n",
    "            # Parameter 저장\n",
    "            n_estimators_list.append(n_estimators)\n",
    "            max_depth_list.append(max_depth)\n",
    "            learning_rate_list.append(learning_rate)\n",
    "            \n",
    "result = pd.DataFrame({\"n_estimators\": n_estimators_list, \"max_depth\": max_depth_list, \"learning_rate\": learning_rate_list, 'Train Score': train_score_list, 'Test Score': val_score_list})\n",
    "result                    "
   ]
  },
  {
   "cell_type": "code",
   "execution_count": 38,
   "metadata": {},
   "outputs": [
    {
     "data": {
      "text/html": [
       "<div>\n",
       "<style scoped>\n",
       "    .dataframe tbody tr th:only-of-type {\n",
       "        vertical-align: middle;\n",
       "    }\n",
       "\n",
       "    .dataframe tbody tr th {\n",
       "        vertical-align: top;\n",
       "    }\n",
       "\n",
       "    .dataframe thead th {\n",
       "        text-align: right;\n",
       "    }\n",
       "</style>\n",
       "<table border=\"1\" class=\"dataframe\">\n",
       "  <thead>\n",
       "    <tr style=\"text-align: right;\">\n",
       "      <th></th>\n",
       "      <th>n_estimators</th>\n",
       "      <th>max_depth</th>\n",
       "      <th>learning_rate</th>\n",
       "      <th>Train Score</th>\n",
       "      <th>Test Score</th>\n",
       "    </tr>\n",
       "  </thead>\n",
       "  <tbody>\n",
       "    <tr>\n",
       "      <th>0</th>\n",
       "      <td>300</td>\n",
       "      <td>3</td>\n",
       "      <td>0.1</td>\n",
       "      <td>0.999167</td>\n",
       "      <td>1.0</td>\n",
       "    </tr>\n",
       "    <tr>\n",
       "      <th>1</th>\n",
       "      <td>400</td>\n",
       "      <td>3</td>\n",
       "      <td>0.1</td>\n",
       "      <td>0.999167</td>\n",
       "      <td>1.0</td>\n",
       "    </tr>\n",
       "    <tr>\n",
       "      <th>2</th>\n",
       "      <td>500</td>\n",
       "      <td>3</td>\n",
       "      <td>0.1</td>\n",
       "      <td>0.999167</td>\n",
       "      <td>1.0</td>\n",
       "    </tr>\n",
       "    <tr>\n",
       "      <th>3</th>\n",
       "      <td>1000</td>\n",
       "      <td>3</td>\n",
       "      <td>0.1</td>\n",
       "      <td>0.999167</td>\n",
       "      <td>1.0</td>\n",
       "    </tr>\n",
       "  </tbody>\n",
       "</table>\n",
       "</div>"
      ],
      "text/plain": [
       "   n_estimators  max_depth  learning_rate  Train Score  Test Score\n",
       "0           300          3            0.1     0.999167         1.0\n",
       "1           400          3            0.1     0.999167         1.0\n",
       "2           500          3            0.1     0.999167         1.0\n",
       "3          1000          3            0.1     0.999167         1.0"
      ]
     },
     "execution_count": 38,
     "metadata": {},
     "output_type": "execute_result"
    }
   ],
   "source": [
    "result = result.loc[result['Test Score'] == max(result['Test Score']), :].reset_index(drop = True)\n",
    "result"
   ]
  },
  {
   "cell_type": "code",
   "execution_count": 39,
   "metadata": {},
   "outputs": [],
   "source": [
    "model = xgb.XGBClassifier(n_estimators=result['n_estimators'][0], max_depth=result['max_depth'][0], learning_rate=result['learning_rate'][0], objective='reg:squarederror').fit(X_train, y_train)"
   ]
  },
  {
   "cell_type": "markdown",
   "metadata": {},
   "source": [
    "#### - 학습 예측 결과"
   ]
  },
  {
   "cell_type": "code",
   "execution_count": 40,
   "metadata": {},
   "outputs": [
    {
     "name": "stderr",
     "output_type": "stream",
     "text": [
      "C:\\Users\\wook\\anaconda3\\lib\\site-packages\\sklearn\\utils\\deprecation.py:87: FutureWarning: Function plot_confusion_matrix is deprecated; Function `plot_confusion_matrix` is deprecated in 1.0 and will be removed in 1.2. Use one of the class methods: ConfusionMatrixDisplay.from_predictions or ConfusionMatrixDisplay.from_estimator.\n",
      "  warnings.warn(msg, category=FutureWarning)\n"
     ]
    },
    {
     "data": {
      "text/plain": [
       "<sklearn.metrics._plot.confusion_matrix.ConfusionMatrixDisplay at 0x195495763a0>"
      ]
     },
     "execution_count": 40,
     "metadata": {},
     "output_type": "execute_result"
    },
    {
     "data": {
      "image/png": "[encoded data removed]",
      "text/plain": [
       "<Figure size 432x288 with 2 Axes>"
      ]
     },
     "metadata": {
      "needs_background": "light"
     },
     "output_type": "display_data"
    }
   ],
   "source": [
    "plot_confusion_matrix(model, X_train, y_train)"
   ]
  },
  {
   "cell_type": "code",
   "execution_count": 41,
   "metadata": {},
   "outputs": [
    {
     "name": "stdout",
     "output_type": "stream",
     "text": [
      "Train Accuracy: 0.9991666666666666\n"
     ]
    }
   ],
   "source": [
    "train_predicted = model.predict_proba(X_train)\n",
    "train_predicted = np.argmax(train_predicted, axis = 1) + 1\n",
    "print('Train Accuracy: {}'.format(accuracy_score(y_train, train_predicted)))"
   ]
  },
  {
   "cell_type": "code",
   "execution_count": 42,
   "metadata": {},
   "outputs": [
    {
     "name": "stderr",
     "output_type": "stream",
     "text": [
      "C:\\Users\\wook\\anaconda3\\lib\\site-packages\\sklearn\\utils\\deprecation.py:87: FutureWarning: Function plot_confusion_matrix is deprecated; Function `plot_confusion_matrix` is deprecated in 1.0 and will be removed in 1.2. Use one of the class methods: ConfusionMatrixDisplay.from_predictions or ConfusionMatrixDisplay.from_estimator.\n",
      "  warnings.warn(msg, category=FutureWarning)\n"
     ]
    },
    {
     "data": {
      "text/plain": [
       "<sklearn.metrics._plot.confusion_matrix.ConfusionMatrixDisplay at 0x1955d0e37f0>"
      ]
     },
     "execution_count": 42,
     "metadata": {},
     "output_type": "execute_result"
    },
    {
     "data": {
      "image/png": "[encoded data removed]",
      "text/plain": [
       "<Figure size 432x288 with 2 Axes>"
      ]
     },
     "metadata": {
      "needs_background": "light"
     },
     "output_type": "display_data"
    }
   ],
   "source": [
    "plot_confusion_matrix(model, X_test, y_test)"
   ]
  },
  {
   "cell_type": "code",
   "execution_count": 43,
   "metadata": {},
   "outputs": [
    {
     "name": "stdout",
     "output_type": "stream",
     "text": [
      "Test Accuracy: 1.0\n"
     ]
    }
   ],
   "source": [
    "test_predicted = model.predict_proba(X_test)\n",
    "test_predicted = np.argmax(test_predicted, axis = 1) + 1\n",
    "print('Test Accuracy: {}'.format(accuracy_score(y_test, test_predicted)))"
   ]
  },
  {
   "cell_type": "markdown",
   "metadata": {},
   "source": [
    "### (3) Type"
   ]
  },
  {
   "cell_type": "code",
   "execution_count": 20,
   "metadata": {},
   "outputs": [],
   "source": [
    "from sklearn.preprocessing import LabelEncoder\n",
    "\n",
    "le = LabelEncoder()\n",
    "result = le.fit_transform(y_Type)"
   ]
  },
  {
   "cell_type": "code",
   "execution_count": 22,
   "metadata": {},
   "outputs": [
    {
     "data": {
      "text/plain": [
       "array([0, 4, 7, 8])"
      ]
     },
     "execution_count": 22,
     "metadata": {},
     "output_type": "execute_result"
    }
   ],
   "source": [
    "le.classes_"
   ]
  },
  {
   "cell_type": "code",
   "execution_count": 23,
   "metadata": {},
   "outputs": [],
   "source": [
    "X_train, X_test, y_train, y_test = train_test_split(X, result, test_size=0.2, random_state=777, stratify=y_Type) "
   ]
  },
  {
   "cell_type": "markdown",
   "metadata": {},
   "source": [
    "#### - 하이퍼 파라미터 튜닝"
   ]
  },
  {
   "cell_type": "code",
   "execution_count": 24,
   "metadata": {},
   "outputs": [
    {
     "data": {
      "text/html": [
       "<div>\n",
       "<style scoped>\n",
       "    .dataframe tbody tr th:only-of-type {\n",
       "        vertical-align: middle;\n",
       "    }\n",
       "\n",
       "    .dataframe tbody tr th {\n",
       "        vertical-align: top;\n",
       "    }\n",
       "\n",
       "    .dataframe thead th {\n",
       "        text-align: right;\n",
       "    }\n",
       "</style>\n",
       "<table border=\"1\" class=\"dataframe\">\n",
       "  <thead>\n",
       "    <tr style=\"text-align: right;\">\n",
       "      <th></th>\n",
       "      <th>n_estimators</th>\n",
       "      <th>max_depth</th>\n",
       "      <th>learning_rate</th>\n",
       "      <th>Train Score</th>\n",
       "      <th>Test Score</th>\n",
       "    </tr>\n",
       "  </thead>\n",
       "  <tbody>\n",
       "    <tr>\n",
       "      <th>0</th>\n",
       "      <td>100</td>\n",
       "      <td>3</td>\n",
       "      <td>0.1000</td>\n",
       "      <td>1.0</td>\n",
       "      <td>1.0</td>\n",
       "    </tr>\n",
       "    <tr>\n",
       "      <th>1</th>\n",
       "      <td>100</td>\n",
       "      <td>3</td>\n",
       "      <td>0.0100</td>\n",
       "      <td>1.0</td>\n",
       "      <td>1.0</td>\n",
       "    </tr>\n",
       "    <tr>\n",
       "      <th>2</th>\n",
       "      <td>100</td>\n",
       "      <td>3</td>\n",
       "      <td>0.0010</td>\n",
       "      <td>1.0</td>\n",
       "      <td>1.0</td>\n",
       "    </tr>\n",
       "    <tr>\n",
       "      <th>3</th>\n",
       "      <td>100</td>\n",
       "      <td>3</td>\n",
       "      <td>0.0001</td>\n",
       "      <td>1.0</td>\n",
       "      <td>1.0</td>\n",
       "    </tr>\n",
       "    <tr>\n",
       "      <th>4</th>\n",
       "      <td>100</td>\n",
       "      <td>5</td>\n",
       "      <td>0.1000</td>\n",
       "      <td>1.0</td>\n",
       "      <td>1.0</td>\n",
       "    </tr>\n",
       "    <tr>\n",
       "      <th>...</th>\n",
       "      <td>...</td>\n",
       "      <td>...</td>\n",
       "      <td>...</td>\n",
       "      <td>...</td>\n",
       "      <td>...</td>\n",
       "    </tr>\n",
       "    <tr>\n",
       "      <th>91</th>\n",
       "      <td>1000</td>\n",
       "      <td>7</td>\n",
       "      <td>0.0001</td>\n",
       "      <td>1.0</td>\n",
       "      <td>1.0</td>\n",
       "    </tr>\n",
       "    <tr>\n",
       "      <th>92</th>\n",
       "      <td>1000</td>\n",
       "      <td>9</td>\n",
       "      <td>0.1000</td>\n",
       "      <td>1.0</td>\n",
       "      <td>1.0</td>\n",
       "    </tr>\n",
       "    <tr>\n",
       "      <th>93</th>\n",
       "      <td>1000</td>\n",
       "      <td>9</td>\n",
       "      <td>0.0100</td>\n",
       "      <td>1.0</td>\n",
       "      <td>1.0</td>\n",
       "    </tr>\n",
       "    <tr>\n",
       "      <th>94</th>\n",
       "      <td>1000</td>\n",
       "      <td>9</td>\n",
       "      <td>0.0010</td>\n",
       "      <td>1.0</td>\n",
       "      <td>1.0</td>\n",
       "    </tr>\n",
       "    <tr>\n",
       "      <th>95</th>\n",
       "      <td>1000</td>\n",
       "      <td>9</td>\n",
       "      <td>0.0001</td>\n",
       "      <td>1.0</td>\n",
       "      <td>1.0</td>\n",
       "    </tr>\n",
       "  </tbody>\n",
       "</table>\n",
       "<p>96 rows × 5 columns</p>\n",
       "</div>"
      ],
      "text/plain": [
       "    n_estimators  max_depth  learning_rate  Train Score  Test Score\n",
       "0            100          3         0.1000          1.0         1.0\n",
       "1            100          3         0.0100          1.0         1.0\n",
       "2            100          3         0.0010          1.0         1.0\n",
       "3            100          3         0.0001          1.0         1.0\n",
       "4            100          5         0.1000          1.0         1.0\n",
       "..           ...        ...            ...          ...         ...\n",
       "91          1000          7         0.0001          1.0         1.0\n",
       "92          1000          9         0.1000          1.0         1.0\n",
       "93          1000          9         0.0100          1.0         1.0\n",
       "94          1000          9         0.0010          1.0         1.0\n",
       "95          1000          9         0.0001          1.0         1.0\n",
       "\n",
       "[96 rows x 5 columns]"
      ]
     },
     "execution_count": 24,
     "metadata": {},
     "output_type": "execute_result"
    }
   ],
   "source": [
    "n_estimators_candidate = [100, 200, 300,400,500, 1000]\n",
    "max_depth_candidate = [3, 5, 7, 9]\n",
    "learning_rate_candidate = [0.1, 0.01, 0.001, 0.0001]\n",
    "\n",
    "# 결과를 저장할 빈 리스트 생성\n",
    "n_estimators_list = []\n",
    "max_depth_list = []\n",
    "learning_rate_list = []\n",
    "train_score_list = []\n",
    "val_score_list = []\n",
    "\n",
    "# XGBoost의 n_estimators 파라미터에 대해서\n",
    "for n_estimators in n_estimators_candidate:\n",
    "    # XGBoost의 max_depth 파라미터에 대해서\n",
    "    for max_depth in max_depth_candidate:\n",
    "        # XGBoost의 learning_rate 파라미터에 대해서\n",
    "        for learning_rate in learning_rate_candidate:\n",
    "            # 모델 생성 및 학습\n",
    "            model = xgb.XGBClassifier(n_estimators=n_estimators, max_depth=max_depth, learning_rate=learning_rate).fit(X_train, y_train)\n",
    "            # Train 데이터에 대한 결과 확인\n",
    "            train_predict = model.predict(X_train)\n",
    "            train_score_list.append(accuracy_score(y_train, train_predict))\n",
    "            # Test 데이터에 대한 결과 확인\n",
    "            test_predict = model.predict(X_test)\n",
    "            val_score_list.append(accuracy_score(y_test, test_predict))\n",
    "            # Parameter 저장\n",
    "            n_estimators_list.append(n_estimators)\n",
    "            max_depth_list.append(max_depth)\n",
    "            learning_rate_list.append(learning_rate)\n",
    "            \n",
    "result = pd.DataFrame({\"n_estimators\": n_estimators_list, \"max_depth\": max_depth_list, \"learning_rate\": learning_rate_list, 'Train Score': train_score_list, 'Test Score': val_score_list})\n",
    "result                    "
   ]
  },
  {
   "cell_type": "code",
   "execution_count": 25,
   "metadata": {},
   "outputs": [
    {
     "data": {
      "text/html": [
       "<div>\n",
       "<style scoped>\n",
       "    .dataframe tbody tr th:only-of-type {\n",
       "        vertical-align: middle;\n",
       "    }\n",
       "\n",
       "    .dataframe tbody tr th {\n",
       "        vertical-align: top;\n",
       "    }\n",
       "\n",
       "    .dataframe thead th {\n",
       "        text-align: right;\n",
       "    }\n",
       "</style>\n",
       "<table border=\"1\" class=\"dataframe\">\n",
       "  <thead>\n",
       "    <tr style=\"text-align: right;\">\n",
       "      <th></th>\n",
       "      <th>n_estimators</th>\n",
       "      <th>max_depth</th>\n",
       "      <th>learning_rate</th>\n",
       "      <th>Train Score</th>\n",
       "      <th>Test Score</th>\n",
       "    </tr>\n",
       "  </thead>\n",
       "  <tbody>\n",
       "    <tr>\n",
       "      <th>0</th>\n",
       "      <td>100</td>\n",
       "      <td>3</td>\n",
       "      <td>0.1000</td>\n",
       "      <td>1.0</td>\n",
       "      <td>1.0</td>\n",
       "    </tr>\n",
       "    <tr>\n",
       "      <th>1</th>\n",
       "      <td>100</td>\n",
       "      <td>3</td>\n",
       "      <td>0.0100</td>\n",
       "      <td>1.0</td>\n",
       "      <td>1.0</td>\n",
       "    </tr>\n",
       "    <tr>\n",
       "      <th>2</th>\n",
       "      <td>100</td>\n",
       "      <td>3</td>\n",
       "      <td>0.0010</td>\n",
       "      <td>1.0</td>\n",
       "      <td>1.0</td>\n",
       "    </tr>\n",
       "    <tr>\n",
       "      <th>3</th>\n",
       "      <td>100</td>\n",
       "      <td>3</td>\n",
       "      <td>0.0001</td>\n",
       "      <td>1.0</td>\n",
       "      <td>1.0</td>\n",
       "    </tr>\n",
       "    <tr>\n",
       "      <th>4</th>\n",
       "      <td>100</td>\n",
       "      <td>5</td>\n",
       "      <td>0.1000</td>\n",
       "      <td>1.0</td>\n",
       "      <td>1.0</td>\n",
       "    </tr>\n",
       "    <tr>\n",
       "      <th>...</th>\n",
       "      <td>...</td>\n",
       "      <td>...</td>\n",
       "      <td>...</td>\n",
       "      <td>...</td>\n",
       "      <td>...</td>\n",
       "    </tr>\n",
       "    <tr>\n",
       "      <th>91</th>\n",
       "      <td>1000</td>\n",
       "      <td>7</td>\n",
       "      <td>0.0001</td>\n",
       "      <td>1.0</td>\n",
       "      <td>1.0</td>\n",
       "    </tr>\n",
       "    <tr>\n",
       "      <th>92</th>\n",
       "      <td>1000</td>\n",
       "      <td>9</td>\n",
       "      <td>0.1000</td>\n",
       "      <td>1.0</td>\n",
       "      <td>1.0</td>\n",
       "    </tr>\n",
       "    <tr>\n",
       "      <th>93</th>\n",
       "      <td>1000</td>\n",
       "      <td>9</td>\n",
       "      <td>0.0100</td>\n",
       "      <td>1.0</td>\n",
       "      <td>1.0</td>\n",
       "    </tr>\n",
       "    <tr>\n",
       "      <th>94</th>\n",
       "      <td>1000</td>\n",
       "      <td>9</td>\n",
       "      <td>0.0010</td>\n",
       "      <td>1.0</td>\n",
       "      <td>1.0</td>\n",
       "    </tr>\n",
       "    <tr>\n",
       "      <th>95</th>\n",
       "      <td>1000</td>\n",
       "      <td>9</td>\n",
       "      <td>0.0001</td>\n",
       "      <td>1.0</td>\n",
       "      <td>1.0</td>\n",
       "    </tr>\n",
       "  </tbody>\n",
       "</table>\n",
       "<p>96 rows × 5 columns</p>\n",
       "</div>"
      ],
      "text/plain": [
       "    n_estimators  max_depth  learning_rate  Train Score  Test Score\n",
       "0            100          3         0.1000          1.0         1.0\n",
       "1            100          3         0.0100          1.0         1.0\n",
       "2            100          3         0.0010          1.0         1.0\n",
       "3            100          3         0.0001          1.0         1.0\n",
       "4            100          5         0.1000          1.0         1.0\n",
       "..           ...        ...            ...          ...         ...\n",
       "91          1000          7         0.0001          1.0         1.0\n",
       "92          1000          9         0.1000          1.0         1.0\n",
       "93          1000          9         0.0100          1.0         1.0\n",
       "94          1000          9         0.0010          1.0         1.0\n",
       "95          1000          9         0.0001          1.0         1.0\n",
       "\n",
       "[96 rows x 5 columns]"
      ]
     },
     "execution_count": 25,
     "metadata": {},
     "output_type": "execute_result"
    }
   ],
   "source": [
    "result = result.loc[result['Test Score'] == max(result['Test Score']), :].reset_index(drop = True)\n",
    "result"
   ]
  },
  {
   "cell_type": "code",
   "execution_count": 26,
   "metadata": {},
   "outputs": [],
   "source": [
    "model = xgb.XGBClassifier(n_estimators=result['n_estimators'][0], max_depth=result['max_depth'][0], learning_rate=result['learning_rate'][0], objective='reg:squarederror').fit(X_train, y_train)"
   ]
  },
  {
   "cell_type": "markdown",
   "metadata": {},
   "source": [
    "#### - 학습 예측 결과"
   ]
  },
  {
   "cell_type": "code",
   "execution_count": 27,
   "metadata": {},
   "outputs": [
    {
     "name": "stderr",
     "output_type": "stream",
     "text": [
      "/home/jongwook95.lee/miniforge3/envs/ml_env/lib/python3.8/site-packages/sklearn/utils/deprecation.py:87: FutureWarning: Function plot_confusion_matrix is deprecated; Function `plot_confusion_matrix` is deprecated in 1.0 and will be removed in 1.2. Use one of the class methods: ConfusionMatrixDisplay.from_predictions or ConfusionMatrixDisplay.from_estimator.\n",
      "  warnings.warn(msg, category=FutureWarning)\n"
     ]
    },
    {
     "data": {
      "text/plain": [
       "<sklearn.metrics._plot.confusion_matrix.ConfusionMatrixDisplay at 0x7f8f43d986a0>"
      ]
     },
     "execution_count": 27,
     "metadata": {},
     "output_type": "execute_result"
    },
    {
     "data": {
      "image/png": "[encoded data removed]",
      "text/plain": [
       "<Figure size 640x480 with 2 Axes>"
      ]
     },
     "metadata": {},
     "output_type": "display_data"
    }
   ],
   "source": [
    "plot_confusion_matrix(model, X_train, y_train)"
   ]
  },
  {
   "cell_type": "code",
   "execution_count": 31,
   "metadata": {},
   "outputs": [
    {
     "name": "stdout",
     "output_type": "stream",
     "text": [
      "Train Accuracy: 1.0\n"
     ]
    }
   ],
   "source": [
    "train_predicted = model.predict_proba(X_train)\n",
    "train_predicted = np.argmax(train_predicted, axis = 1) \n",
    "print('Train Accuracy: {}'.format(accuracy_score(y_train, train_predicted)))"
   ]
  },
  {
   "cell_type": "code",
   "execution_count": 32,
   "metadata": {},
   "outputs": [
    {
     "name": "stderr",
     "output_type": "stream",
     "text": [
      "/home/jongwook95.lee/miniforge3/envs/ml_env/lib/python3.8/site-packages/sklearn/utils/deprecation.py:87: FutureWarning: Function plot_confusion_matrix is deprecated; Function `plot_confusion_matrix` is deprecated in 1.0 and will be removed in 1.2. Use one of the class methods: ConfusionMatrixDisplay.from_predictions or ConfusionMatrixDisplay.from_estimator.\n",
      "  warnings.warn(msg, category=FutureWarning)\n"
     ]
    },
    {
     "data": {
      "text/plain": [
       "<sklearn.metrics._plot.confusion_matrix.ConfusionMatrixDisplay at 0x7f8f43d49a90>"
      ]
     },
     "execution_count": 32,
     "metadata": {},
     "output_type": "execute_result"
    },
    {
     "data": {
      "image/png": "[encoded data removed]",
      "text/plain": [
       "<Figure size 640x480 with 2 Axes>"
      ]
     },
     "metadata": {},
     "output_type": "display_data"
    }
   ],
   "source": [
    "plot_confusion_matrix(model, X_test, y_test)"
   ]
  },
  {
   "cell_type": "code",
   "execution_count": 33,
   "metadata": {},
   "outputs": [
    {
     "name": "stdout",
     "output_type": "stream",
     "text": [
      "Test Accuracy: 1.0\n"
     ]
    }
   ],
   "source": [
    "test_predicted = model.predict_proba(X_test)\n",
    "test_predicted = np.argmax(test_predicted, axis = 1)\n",
    "print('Test Accuracy: {}'.format(accuracy_score(y_test, test_predicted)))"
   ]
  },
  {
   "cell_type": "markdown",
   "metadata": {},
   "source": [
    "## 4. Multi-tasking 동시에 해결하기"
   ]
  },
  {
   "cell_type": "markdown",
   "metadata": {},
   "source": [
    "### (1) Dataset 구성하기"
   ]
  },
  {
   "cell_type": "code",
   "execution_count": 73,
   "metadata": {},
   "outputs": [],
   "source": [
    "from sklearn.preprocessing import LabelEncoder\n",
    "\n",
    "le = LabelEncoder()\n",
    "data['type'] = le.fit_transform(data['type'])"
   ]
  },
  {
   "cell_type": "code",
   "execution_count": 74,
   "metadata": {},
   "outputs": [],
   "source": [
    "y_multi = np.array(data.loc[:, ['distance', 'type']])"
   ]
  },
  {
   "cell_type": "code",
   "execution_count": 75,
   "metadata": {},
   "outputs": [],
   "source": [
    "from sklearn.preprocessing import MinMaxScaler\n",
    "minmax_scaler = MinMaxScaler()\n",
    "minmax_scaler = minmax_scaler.fit_transform(X)"
   ]
  },
  {
   "cell_type": "code",
   "execution_count": 76,
   "metadata": {},
   "outputs": [],
   "source": [
    "label = y_multi[:,1]\n",
    "one_hot = np.zeros((label.size, label.max() + 1))\n",
    "one_hot[np.arange(label.size), label] = 1\n",
    "y_multi_onehot = np.hstack((y_multi[:, [1,0]], one_hot))[:, 1:]"
   ]
  },
  {
   "cell_type": "code",
   "execution_count": 82,
   "metadata": {},
   "outputs": [],
   "source": [
    "X_train, X_test, y_train, y_test = train_test_split(minmax_scaler, y_multi_onehot, test_size=0.2, random_state=777, stratify=y_Type) "
   ]
  },
  {
   "cell_type": "code",
   "execution_count": 83,
   "metadata": {},
   "outputs": [],
   "source": [
    "class MyDataset(data_utils.Dataset):\n",
    " \n",
    "    def __init__(self,X, y):\n",
    "        self.X=torch.tensor(X,dtype=torch.float32)\n",
    "        self.y=torch.tensor(y,dtype=torch.float32)\n",
    " \n",
    "    def __len__(self):\n",
    "        return len(self.y)\n",
    "   \n",
    "    def __getitem__(self,idx):\n",
    "        return self.X[idx],self.y[idx]"
   ]
  },
  {
   "cell_type": "code",
   "execution_count": 84,
   "metadata": {},
   "outputs": [],
   "source": [
    "train_dataset=MyDataset(np.array(X_train), np.array(y_train))\n",
    "train_dataloader=data_utils.DataLoader(train_dataset,batch_size=64,shuffle=True)"
   ]
  },
  {
   "cell_type": "code",
   "execution_count": 85,
   "metadata": {},
   "outputs": [],
   "source": [
    "test_dataset=MyDataset(np.array(X_test), np.array(y_test))\n",
    "test_dataloader=data_utils.DataLoader(test_dataset,batch_size=64,shuffle=False)"
   ]
  },
  {
   "cell_type": "markdown",
   "metadata": {},
   "source": [
    "### (2) Multi-Tasking Model 생성"
   ]
  },
  {
   "cell_type": "code",
   "execution_count": 86,
   "metadata": {},
   "outputs": [],
   "source": [
    "from collections import OrderedDict\n",
    "class Multi_tasking_model(nn.Module):\n",
    "    def __init__(self):\n",
    "        super().__init__()\n",
    "        self.linear = nn.Sequential(OrderedDict([('linear1', nn.Linear(3,24)),('relu1', nn.ReLU()),('linear2', nn.Linear(24, 12)),('relu2', nn.ReLU()),('linear3', nn.Linear(12, 6)),('relu3', nn.ReLU())]))\n",
    "        self.fc2 = nn.Sequential(OrderedDict([('linear', nn.Linear(6,6)),('relu1', nn.ReLU()),('final', nn.Linear(6, 4)), ('softmax1', nn.Softmax(dim=1))]))\n",
    "        \n",
    "    def forward(self, x):\n",
    "        feat = self.linear(x)\n",
    "        cls_head = self.fc2(self.linear(x))\n",
    "        return feat, cls_head"
   ]
  },
  {
   "cell_type": "code",
   "execution_count": 87,
   "metadata": {},
   "outputs": [
    {
     "data": {
      "text/plain": [
       "Multi_tasking_model(\n",
       "  (linear): Sequential(\n",
       "    (linear1): Linear(in_features=3, out_features=24, bias=True)\n",
       "    (relu1): ReLU()\n",
       "    (linear2): Linear(in_features=24, out_features=12, bias=True)\n",
       "    (relu2): ReLU()\n",
       "    (linear3): Linear(in_features=12, out_features=6, bias=True)\n",
       "    (relu3): ReLU()\n",
       "  )\n",
       "  (fc2): Sequential(\n",
       "    (linear): Linear(in_features=6, out_features=6, bias=True)\n",
       "    (relu1): ReLU()\n",
       "    (final): Linear(in_features=6, out_features=4, bias=True)\n",
       "    (softmax1): Softmax(dim=1)\n",
       "  )\n",
       ")"
      ]
     },
     "execution_count": 87,
     "metadata": {},
     "output_type": "execute_result"
    }
   ],
   "source": [
    "model = Multi_tasking_model()\n",
    "model"
   ]
  },
  {
   "cell_type": "markdown",
   "metadata": {},
   "source": [
    "### (3) Loss와 Optimizer 구성"
   ]
  },
  {
   "cell_type": "code",
   "execution_count": 88,
   "metadata": {},
   "outputs": [],
   "source": [
    "from torch.nn import (L1Loss, MSELoss, CrossEntropyLoss)\n",
    "from torch.optim import Adam"
   ]
  },
  {
   "cell_type": "code",
   "execution_count": 89,
   "metadata": {},
   "outputs": [],
   "source": [
    "# get loss function from LossFactory\n",
    "loss_cls = CrossEntropyLoss()\n",
    "\n",
    "# get optimizer from OptimizerFactory\n",
    "optimizer = Adam(params = model.parameters(),\n",
    "                 lr=0.01)"
   ]
  },
  {
   "cell_type": "markdown",
   "metadata": {},
   "source": [
    "### (4) 학습"
   ]
  },
  {
   "cell_type": "code",
   "execution_count": 90,
   "metadata": {},
   "outputs": [
    {
     "name": "stdout",
     "output_type": "stream",
     "text": [
      "Epoch 1 \t Training Loss: 1.0226483345031738\n",
      "Epoch 2 \t Training Loss: 0.7527530789375305\n",
      "Epoch 3 \t Training Loss: 0.7462419867515564\n",
      "Epoch 4 \t Training Loss: 0.7451454997062683\n",
      "Epoch 5 \t Training Loss: 0.7440258264541626\n",
      "Epoch 6 \t Training Loss: 0.7443406581878662\n",
      "Epoch 7 \t Training Loss: 0.7438382506370544\n",
      "Epoch 8 \t Training Loss: 0.7437936663627625\n",
      "Epoch 9 \t Training Loss: 0.7437635064125061\n",
      "Epoch 10 \t Training Loss: 0.7437570095062256\n",
      "Epoch 11 \t Training Loss: 0.7438130378723145\n",
      "Epoch 12 \t Training Loss: 0.7437107563018799\n",
      "Epoch 13 \t Training Loss: 0.7437915205955505\n",
      "Epoch 14 \t Training Loss: 0.7436989545822144\n",
      "Epoch 15 \t Training Loss: 0.7437138557434082\n",
      "Epoch 16 \t Training Loss: 0.7436816692352295\n",
      "Epoch 17 \t Training Loss: 0.7437354326248169\n",
      "Epoch 18 \t Training Loss: 0.7436992526054382\n",
      "Epoch 19 \t Training Loss: 0.7436804175376892\n",
      "Epoch 20 \t Training Loss: 0.7436943650245667\n",
      "Epoch 21 \t Training Loss: 0.7436898350715637\n",
      "Epoch 22 \t Training Loss: 0.7436911463737488\n",
      "Epoch 23 \t Training Loss: 0.743708610534668\n",
      "Epoch 24 \t Training Loss: 0.7436738610267639\n",
      "Epoch 25 \t Training Loss: 0.7436752319335938\n",
      "Epoch 26 \t Training Loss: 0.743689775466919\n",
      "Epoch 27 \t Training Loss: 0.7436801791191101\n",
      "Epoch 28 \t Training Loss: 0.743675708770752\n",
      "Epoch 29 \t Training Loss: 0.7436776757240295\n",
      "Epoch 30 \t Training Loss: 0.7436844706535339\n",
      "Epoch 31 \t Training Loss: 0.7436754703521729\n",
      "Epoch 32 \t Training Loss: 0.7436721920967102\n",
      "Epoch 33 \t Training Loss: 0.7436797618865967\n",
      "Epoch 34 \t Training Loss: 0.7436732053756714\n",
      "Epoch 35 \t Training Loss: 0.7436724305152893\n",
      "Epoch 36 \t Training Loss: 0.7436843514442444\n",
      "Epoch 37 \t Training Loss: 0.7436760663986206\n",
      "Epoch 38 \t Training Loss: 0.7436785697937012\n",
      "Epoch 39 \t Training Loss: 0.7436742186546326\n",
      "Epoch 40 \t Training Loss: 0.7436729073524475\n",
      "Epoch 41 \t Training Loss: 0.7436725497245789\n",
      "Epoch 42 \t Training Loss: 0.7436707019805908\n",
      "Epoch 43 \t Training Loss: 0.7436746954917908\n",
      "Epoch 44 \t Training Loss: 0.7436769008636475\n",
      "Epoch 45 \t Training Loss: 0.7436729073524475\n",
      "Epoch 46 \t Training Loss: 0.7436689734458923\n",
      "Epoch 47 \t Training Loss: 0.7436693906784058\n",
      "Epoch 48 \t Training Loss: 0.7436728477478027\n",
      "Epoch 49 \t Training Loss: 0.7436718344688416\n",
      "Epoch 50 \t Training Loss: 0.7436712980270386\n",
      "Epoch 51 \t Training Loss: 0.7436702251434326\n",
      "Epoch 52 \t Training Loss: 0.7436723113059998\n",
      "Epoch 53 \t Training Loss: 0.7436712384223938\n",
      "Epoch 54 \t Training Loss: 0.7436707615852356\n",
      "Epoch 55 \t Training Loss: 0.7436740398406982\n",
      "Epoch 56 \t Training Loss: 0.7436704635620117\n",
      "Epoch 57 \t Training Loss: 0.7436718940734863\n",
      "Epoch 58 \t Training Loss: 0.7436690330505371\n",
      "Epoch 59 \t Training Loss: 0.743669867515564\n",
      "Epoch 60 \t Training Loss: 0.7436716556549072\n",
      "Epoch 61 \t Training Loss: 0.7436712384223938\n",
      "Epoch 62 \t Training Loss: 0.743668794631958\n",
      "Epoch 63 \t Training Loss: 0.7436708807945251\n",
      "Epoch 64 \t Training Loss: 0.7436710596084595\n",
      "Epoch 65 \t Training Loss: 0.7436702847480774\n",
      "Epoch 66 \t Training Loss: 0.7436693906784058\n",
      "Epoch 67 \t Training Loss: 0.7436699867248535\n",
      "Epoch 68 \t Training Loss: 0.7436705231666565\n",
      "Epoch 69 \t Training Loss: 0.7436693906784058\n",
      "Epoch 70 \t Training Loss: 0.7436686754226685\n",
      "Epoch 71 \t Training Loss: 0.7436693906784058\n",
      "Epoch 72 \t Training Loss: 0.743669867515564\n",
      "Epoch 73 \t Training Loss: 0.7436690926551819\n",
      "Epoch 74 \t Training Loss: 0.7436685562133789\n",
      "Epoch 75 \t Training Loss: 0.7436704635620117\n",
      "Epoch 76 \t Training Loss: 0.7436695098876953\n",
      "Epoch 77 \t Training Loss: 0.7436692714691162\n",
      "Epoch 78 \t Training Loss: 0.7436693906784058\n",
      "Epoch 79 \t Training Loss: 0.7436685562133789\n",
      "Epoch 80 \t Training Loss: 0.7436690330505371\n",
      "Epoch 81 \t Training Loss: 0.7436690330505371\n",
      "Epoch 82 \t Training Loss: 0.7436689138412476\n",
      "Epoch 83 \t Training Loss: 0.7436686754226685\n",
      "Epoch 84 \t Training Loss: 0.7436692714691162\n",
      "Epoch 85 \t Training Loss: 0.7436688542366028\n",
      "Epoch 86 \t Training Loss: 0.7436689138412476\n",
      "Epoch 87 \t Training Loss: 0.743668794631958\n",
      "Epoch 88 \t Training Loss: 0.7436690330505371\n",
      "Epoch 89 \t Training Loss: 0.743668794631958\n",
      "Epoch 90 \t Training Loss: 0.7436691522598267\n",
      "Epoch 91 \t Training Loss: 0.7436688542366028\n",
      "Epoch 92 \t Training Loss: 0.7436686754226685\n",
      "Epoch 93 \t Training Loss: 0.7436685562133789\n",
      "Epoch 94 \t Training Loss: 0.743668794631958\n",
      "Epoch 95 \t Training Loss: 0.743668794631958\n",
      "Epoch 96 \t Training Loss: 0.7436685562133789\n",
      "Epoch 97 \t Training Loss: 0.7436686754226685\n",
      "Epoch 98 \t Training Loss: 0.7436685562133789\n",
      "Epoch 99 \t Training Loss: 0.7436685562133789\n",
      "Epoch 100 \t Training Loss: 0.7436688542366028\n",
      "Epoch 101 \t Training Loss: 0.743668794631958\n",
      "Epoch 102 \t Training Loss: 0.7436684370040894\n",
      "Epoch 103 \t Training Loss: 0.7436690926551819\n",
      "Epoch 104 \t Training Loss: 0.7436685562133789\n",
      "Epoch 105 \t Training Loss: 0.7436685562133789\n",
      "Epoch 106 \t Training Loss: 0.7436685562133789\n",
      "Epoch 107 \t Training Loss: 0.7436686754226685\n",
      "Epoch 108 \t Training Loss: 0.7436685562133789\n",
      "Epoch 109 \t Training Loss: 0.7436686754226685\n",
      "Epoch 110 \t Training Loss: 0.7436685562133789\n",
      "Epoch 111 \t Training Loss: 0.7436686158180237\n",
      "Epoch 112 \t Training Loss: 0.7436686754226685\n",
      "Epoch 113 \t Training Loss: 0.7436686754226685\n",
      "Epoch 114 \t Training Loss: 0.7436687350273132\n",
      "Epoch 115 \t Training Loss: 0.7436685562133789\n",
      "Epoch 116 \t Training Loss: 0.7436685562133789\n",
      "Epoch 117 \t Training Loss: 0.7436686754226685\n",
      "Epoch 118 \t Training Loss: 0.7436685562133789\n",
      "Epoch 119 \t Training Loss: 0.7436686754226685\n",
      "Epoch 120 \t Training Loss: 0.7436684370040894\n",
      "Epoch 121 \t Training Loss: 0.7436685562133789\n",
      "Epoch 122 \t Training Loss: 0.7436685562133789\n",
      "Epoch 123 \t Training Loss: 0.7436684370040894\n",
      "Epoch 124 \t Training Loss: 0.7436685562133789\n",
      "Epoch 125 \t Training Loss: 0.7436685562133789\n",
      "Epoch 126 \t Training Loss: 0.7436685562133789\n",
      "Epoch 127 \t Training Loss: 0.7436686158180237\n",
      "Epoch 128 \t Training Loss: 0.7436685562133789\n",
      "Epoch 129 \t Training Loss: 0.7436685562133789\n",
      "Epoch 130 \t Training Loss: 0.7436685562133789\n",
      "Epoch 131 \t Training Loss: 0.7436685562133789\n",
      "Epoch 132 \t Training Loss: 0.7436685562133789\n",
      "Epoch 133 \t Training Loss: 0.7436684966087341\n",
      "Epoch 134 \t Training Loss: 0.7436684370040894\n",
      "Epoch 135 \t Training Loss: 0.7436685562133789\n",
      "Epoch 136 \t Training Loss: 0.7436685562133789\n",
      "Epoch 137 \t Training Loss: 0.7436684966087341\n",
      "Epoch 138 \t Training Loss: 0.7436685562133789\n",
      "Epoch 139 \t Training Loss: 0.7436685562133789\n",
      "Epoch 140 \t Training Loss: 0.7436684370040894\n",
      "Epoch 141 \t Training Loss: 0.7436685562133789\n",
      "Epoch 142 \t Training Loss: 0.7436684370040894\n",
      "Epoch 143 \t Training Loss: 0.7436685562133789\n",
      "Epoch 144 \t Training Loss: 0.7436685562133789\n",
      "Epoch 145 \t Training Loss: 0.7436685562133789\n",
      "Epoch 146 \t Training Loss: 0.7436685562133789\n",
      "Epoch 147 \t Training Loss: 0.7436685562133789\n",
      "Epoch 148 \t Training Loss: 0.7436684370040894\n",
      "Epoch 149 \t Training Loss: 0.7436684370040894\n",
      "Epoch 150 \t Training Loss: 0.7436685562133789\n",
      "Epoch 151 \t Training Loss: 0.7436684370040894\n",
      "Epoch 152 \t Training Loss: 0.7436685562133789\n",
      "Epoch 153 \t Training Loss: 0.7436685562133789\n",
      "Epoch 154 \t Training Loss: 0.7436684370040894\n",
      "Epoch 155 \t Training Loss: 0.7436684370040894\n",
      "Epoch 156 \t Training Loss: 0.7436684370040894\n",
      "Epoch 157 \t Training Loss: 0.7436685562133789\n",
      "Epoch 158 \t Training Loss: 0.7436684370040894\n",
      "Epoch 159 \t Training Loss: 0.7436685562133789\n",
      "Epoch 160 \t Training Loss: 0.7436684370040894\n",
      "Epoch 161 \t Training Loss: 0.7436685562133789\n",
      "Epoch 162 \t Training Loss: 0.7436684370040894\n",
      "Epoch 163 \t Training Loss: 0.7436685562133789\n",
      "Epoch 164 \t Training Loss: 0.7436684370040894\n",
      "Epoch 165 \t Training Loss: 0.7436684370040894\n",
      "Epoch 166 \t Training Loss: 0.7436685562133789\n",
      "Epoch 167 \t Training Loss: 0.7436684370040894\n",
      "Epoch 168 \t Training Loss: 0.7436684370040894\n",
      "Epoch 169 \t Training Loss: 0.7436684370040894\n",
      "Epoch 170 \t Training Loss: 0.7436684370040894\n",
      "Epoch 171 \t Training Loss: 0.7436684370040894\n",
      "Epoch 172 \t Training Loss: 0.7436684966087341\n",
      "Epoch 173 \t Training Loss: 0.7436684966087341\n",
      "Epoch 174 \t Training Loss: 0.7436684370040894\n",
      "Epoch 175 \t Training Loss: 0.7436684370040894\n",
      "Epoch 176 \t Training Loss: 0.7436684370040894\n",
      "Epoch 177 \t Training Loss: 0.7436684370040894\n",
      "Epoch 178 \t Training Loss: 0.7436685562133789\n",
      "Epoch 179 \t Training Loss: 0.7436684370040894\n",
      "Epoch 180 \t Training Loss: 0.7436684370040894\n",
      "Epoch 181 \t Training Loss: 0.7436684370040894\n",
      "Epoch 182 \t Training Loss: 0.7436684370040894\n",
      "Epoch 183 \t Training Loss: 0.7436684370040894\n",
      "Epoch 184 \t Training Loss: 0.7436684370040894\n",
      "Epoch 185 \t Training Loss: 0.7436684966087341\n",
      "Epoch 186 \t Training Loss: 0.7436684370040894\n",
      "Epoch 187 \t Training Loss: 0.7436684370040894\n",
      "Epoch 188 \t Training Loss: 0.7436684370040894\n",
      "Epoch 189 \t Training Loss: 0.7436684370040894\n",
      "Epoch 190 \t Training Loss: 0.7436684370040894\n",
      "Epoch 191 \t Training Loss: 0.7436684370040894\n",
      "Epoch 192 \t Training Loss: 0.7436685562133789\n",
      "Epoch 193 \t Training Loss: 1.2905406951904297\n",
      "Epoch 194 \t Training Loss: 1.2905433177947998\n",
      "Epoch 195 \t Training Loss: 1.2905433177947998\n",
      "Epoch 196 \t Training Loss: 1.2905433177947998\n",
      "Epoch 197 \t Training Loss: 1.1655433177947998\n",
      "Epoch 198 \t Training Loss: 1.1499183177947998\n",
      "Epoch 199 \t Training Loss: 1.2749183177947998\n",
      "Epoch 200 \t Training Loss: 1.2124183177947998\n",
      "Epoch 201 \t Training Loss: 1.2280433177947998\n",
      "Epoch 202 \t Training Loss: 1.3217933177947998\n",
      "Epoch 203 \t Training Loss: 1.2905433177947998\n",
      "Epoch 204 \t Training Loss: 1.2280433177947998\n",
      "Epoch 205 \t Training Loss: 1.1967933177947998\n",
      "Epoch 206 \t Training Loss: 1.1811683177947998\n",
      "Epoch 207 \t Training Loss: 1.3217933177947998\n",
      "Epoch 208 \t Training Loss: 1.0717934370040894\n",
      "Epoch 209 \t Training Loss: 1.1655433177947998\n",
      "Epoch 210 \t Training Loss: 1.2592933177947998\n",
      "Epoch 211 \t Training Loss: 1.1655433177947998\n",
      "Epoch 212 \t Training Loss: 1.3530433177947998\n",
      "Epoch 213 \t Training Loss: 1.2280433177947998\n",
      "Epoch 214 \t Training Loss: 1.2436683177947998\n",
      "Epoch 215 \t Training Loss: 1.2280433177947998\n",
      "Epoch 216 \t Training Loss: 1.2280433177947998\n",
      "Epoch 217 \t Training Loss: 1.2280433177947998\n",
      "Epoch 218 \t Training Loss: 1.2124183177947998\n",
      "Epoch 219 \t Training Loss: 1.2436683177947998\n",
      "Epoch 220 \t Training Loss: 1.1499183177947998\n",
      "Epoch 221 \t Training Loss: 1.1342933177947998\n",
      "Epoch 222 \t Training Loss: 1.2124183177947998\n",
      "Epoch 223 \t Training Loss: 1.1655433177947998\n",
      "Epoch 224 \t Training Loss: 1.1342933177947998\n",
      "Epoch 225 \t Training Loss: 1.2592933177947998\n",
      "Epoch 226 \t Training Loss: 1.3061683177947998\n",
      "Epoch 227 \t Training Loss: 1.1811683177947998\n",
      "Epoch 228 \t Training Loss: 1.2124183177947998\n",
      "Epoch 229 \t Training Loss: 1.2280433177947998\n",
      "Epoch 230 \t Training Loss: 1.2592933177947998\n",
      "Epoch 231 \t Training Loss: 1.2749183177947998\n",
      "Epoch 232 \t Training Loss: 1.1967933177947998\n",
      "Epoch 233 \t Training Loss: 1.2749183177947998\n",
      "Epoch 234 \t Training Loss: 1.1499184370040894\n",
      "Epoch 235 \t Training Loss: 1.2905433177947998\n",
      "Epoch 236 \t Training Loss: 1.3061683177947998\n",
      "Epoch 237 \t Training Loss: 1.2280433177947998\n",
      "Epoch 238 \t Training Loss: 1.2436683177947998\n",
      "Epoch 239 \t Training Loss: 1.2905433177947998\n",
      "Epoch 240 \t Training Loss: 1.2749183177947998\n",
      "Epoch 241 \t Training Loss: 1.1655433177947998\n",
      "Epoch 242 \t Training Loss: 1.1811683177947998\n",
      "Epoch 243 \t Training Loss: 1.1186683177947998\n",
      "Epoch 244 \t Training Loss: 1.1811683177947998\n",
      "Epoch 245 \t Training Loss: 1.2905433177947998\n",
      "Epoch 246 \t Training Loss: 1.2905433177947998\n",
      "Epoch 247 \t Training Loss: 1.2436683177947998\n",
      "Epoch 248 \t Training Loss: 1.2749183177947998\n",
      "Epoch 249 \t Training Loss: 1.1186683177947998\n",
      "Epoch 250 \t Training Loss: 1.2436683177947998\n",
      "Epoch 251 \t Training Loss: 1.2905433177947998\n",
      "Epoch 252 \t Training Loss: 1.2280433177947998\n",
      "Epoch 253 \t Training Loss: 1.1186683177947998\n",
      "Epoch 254 \t Training Loss: 1.2592933177947998\n",
      "Epoch 255 \t Training Loss: 1.1499184370040894\n",
      "Epoch 256 \t Training Loss: 1.3530431985855103\n",
      "Epoch 257 \t Training Loss: 1.2905433177947998\n",
      "Epoch 258 \t Training Loss: 1.1967933177947998\n",
      "Epoch 259 \t Training Loss: 1.1967934370040894\n",
      "Epoch 260 \t Training Loss: 1.1967933177947998\n",
      "Epoch 261 \t Training Loss: 1.3530433177947998\n",
      "Epoch 262 \t Training Loss: 1.2436683177947998\n",
      "Epoch 263 \t Training Loss: 1.2436683177947998\n",
      "Epoch 264 \t Training Loss: 1.1967933177947998\n",
      "Epoch 265 \t Training Loss: 1.2905433177947998\n",
      "Epoch 266 \t Training Loss: 1.1811683177947998\n",
      "Epoch 267 \t Training Loss: 1.1499183177947998\n",
      "Epoch 268 \t Training Loss: 1.1967933177947998\n",
      "Epoch 269 \t Training Loss: 1.2592933177947998\n",
      "Epoch 270 \t Training Loss: 1.2905433177947998\n",
      "Epoch 271 \t Training Loss: 1.2124183177947998\n",
      "Epoch 272 \t Training Loss: 1.2592933177947998\n",
      "Epoch 273 \t Training Loss: 1.2280433177947998\n",
      "Epoch 274 \t Training Loss: 1.2436683177947998\n",
      "Epoch 275 \t Training Loss: 1.2280433177947998\n",
      "Epoch 276 \t Training Loss: 1.3061683177947998\n",
      "Epoch 277 \t Training Loss: 1.3061683177947998\n",
      "Epoch 278 \t Training Loss: 1.1811683177947998\n",
      "Epoch 279 \t Training Loss: 1.2592933177947998\n",
      "Epoch 280 \t Training Loss: 1.2436683177947998\n",
      "Epoch 281 \t Training Loss: 1.3061683177947998\n",
      "Epoch 282 \t Training Loss: 1.2124183177947998\n",
      "Epoch 283 \t Training Loss: 1.2592933177947998\n",
      "Epoch 284 \t Training Loss: 1.2124183177947998\n",
      "Epoch 285 \t Training Loss: 1.2592931985855103\n",
      "Epoch 286 \t Training Loss: 1.3217933177947998\n",
      "Epoch 287 \t Training Loss: 1.2592933177947998\n",
      "Epoch 288 \t Training Loss: 1.2749183177947998\n",
      "Epoch 289 \t Training Loss: 1.1967933177947998\n",
      "Epoch 290 \t Training Loss: 1.2436683177947998\n",
      "Epoch 291 \t Training Loss: 1.3217933177947998\n",
      "Epoch 292 \t Training Loss: 1.1967933177947998\n",
      "Epoch 293 \t Training Loss: 1.2592933177947998\n",
      "Epoch 294 \t Training Loss: 1.3374183177947998\n",
      "Epoch 295 \t Training Loss: 1.1655433177947998\n",
      "Epoch 296 \t Training Loss: 1.2749183177947998\n",
      "Epoch 297 \t Training Loss: 1.3061683177947998\n",
      "Epoch 298 \t Training Loss: 1.3061683177947998\n",
      "Epoch 299 \t Training Loss: 1.2436683177947998\n",
      "Epoch 300 \t Training Loss: 1.3530433177947998\n",
      "Best Model`s loss: 0.7436684370040894\n"
     ]
    }
   ],
   "source": [
    "epoch = 300\n",
    "min_loss = 10000000\n",
    "\n",
    "\n",
    "for e in range(epoch):\n",
    "    model.train()     # Optional when not using Model Specific layer\n",
    "    for X,y in train_dataloader:\n",
    "        X, y = X.float(), y.float()\n",
    "        \n",
    "        optimizer.zero_grad()\n",
    "        feat, out_cls = model(X)\n",
    "        true_label = torch.max(y[:, 1:],1).indices\n",
    "        loss = loss_cls(out_cls, true_label)\n",
    "        \n",
    "        if loss < min_loss:\n",
    "            torch.save(model, 'best_model.pt')\n",
    "            min_loss = loss\n",
    "        \n",
    "        loss.backward()\n",
    "        optimizer.step()\n",
    "        \n",
    "    print(f'Epoch {e+1} \\t Training Loss: {loss}')\n",
    "\n",
    "print(\"Best Model`s loss: {}\".format(min_loss))\n",
    "model = torch.load('best_model.pt')"
   ]
  },
  {
   "cell_type": "markdown",
   "metadata": {},
   "source": [
    "### (5) Regression Feature 추출"
   ]
  },
  {
   "cell_type": "code",
   "execution_count": 91,
   "metadata": {},
   "outputs": [],
   "source": [
    "feat_list = []\n",
    "y_list = []\n",
    "train_location_true = []\n",
    "train_location_pred = []\n",
    "\n",
    "with torch.no_grad():  \n",
    "    for X,y in train_dataloader:\n",
    "        X, y = X.float(), y.float()\n",
    "        feat, out_cls = model(X)\n",
    "        feat_list.append(feat.numpy())\n",
    "        y_list = y_list + list(y[:, 0].numpy())\n",
    "        true_label = torch.max(y[:, 1:],1).indices\n",
    "        pred_label = torch.max(out_cls,1).indices\n",
    "        train_location_true = train_location_true + list(true_label.numpy())\n",
    "        train_location_pred = train_location_pred + list(pred_label.numpy())"
   ]
  },
  {
   "cell_type": "code",
   "execution_count": 92,
   "metadata": {},
   "outputs": [],
   "source": [
    "X_train = np.vstack(feat_list)\n",
    "y_train = np.array(y_list)"
   ]
  },
  {
   "cell_type": "code",
   "execution_count": 93,
   "metadata": {},
   "outputs": [],
   "source": [
    "feat_list = []\n",
    "y_list = []\n",
    "test_type_true = []\n",
    "test_type_pred = []\n",
    "\n",
    "\n",
    "with torch.no_grad():  \n",
    "    for X,y in test_dataloader:\n",
    "        X, y = X.float(), y.float()\n",
    "        feat, out_cls = model(X)\n",
    "        feat_list.append(feat.numpy())\n",
    "        y_list = y_list + list(y[:, 0].numpy())\n",
    "        true_label = torch.max(y[:, 1:],1).indices\n",
    "        pred_label = torch.max(out_cls,1).indices\n",
    "        test_type_true = test_type_true + list(true_label.numpy())\n",
    "        test_type_pred = test_type_pred + list(pred_label.numpy())"
   ]
  },
  {
   "cell_type": "code",
   "execution_count": 94,
   "metadata": {},
   "outputs": [],
   "source": [
    "X_test = np.vstack(feat_list)\n",
    "y_test = np.array(y_list)"
   ]
  },
  {
   "cell_type": "code",
   "execution_count": 95,
   "metadata": {},
   "outputs": [
    {
     "data": {
      "text/html": [
       "<div>\n",
       "<style scoped>\n",
       "    .dataframe tbody tr th:only-of-type {\n",
       "        vertical-align: middle;\n",
       "    }\n",
       "\n",
       "    .dataframe tbody tr th {\n",
       "        vertical-align: top;\n",
       "    }\n",
       "\n",
       "    .dataframe thead th {\n",
       "        text-align: right;\n",
       "    }\n",
       "</style>\n",
       "<table border=\"1\" class=\"dataframe\">\n",
       "  <thead>\n",
       "    <tr style=\"text-align: right;\">\n",
       "      <th></th>\n",
       "      <th>n_estimators</th>\n",
       "      <th>max_depth</th>\n",
       "      <th>learning_rate</th>\n",
       "      <th>Train Score</th>\n",
       "      <th>Test Score</th>\n",
       "    </tr>\n",
       "  </thead>\n",
       "  <tbody>\n",
       "    <tr>\n",
       "      <th>0</th>\n",
       "      <td>100</td>\n",
       "      <td>3</td>\n",
       "      <td>0.1000</td>\n",
       "      <td>0.734452</td>\n",
       "      <td>0.723958</td>\n",
       "    </tr>\n",
       "    <tr>\n",
       "      <th>1</th>\n",
       "      <td>100</td>\n",
       "      <td>3</td>\n",
       "      <td>0.0100</td>\n",
       "      <td>-0.164575</td>\n",
       "      <td>-0.116767</td>\n",
       "    </tr>\n",
       "    <tr>\n",
       "      <th>2</th>\n",
       "      <td>100</td>\n",
       "      <td>3</td>\n",
       "      <td>0.0010</td>\n",
       "      <td>-2.469560</td>\n",
       "      <td>-2.307010</td>\n",
       "    </tr>\n",
       "    <tr>\n",
       "      <th>3</th>\n",
       "      <td>100</td>\n",
       "      <td>3</td>\n",
       "      <td>0.0001</td>\n",
       "      <td>-2.992666</td>\n",
       "      <td>-2.809048</td>\n",
       "    </tr>\n",
       "    <tr>\n",
       "      <th>4</th>\n",
       "      <td>100</td>\n",
       "      <td>5</td>\n",
       "      <td>0.1000</td>\n",
       "      <td>0.827768</td>\n",
       "      <td>0.780228</td>\n",
       "    </tr>\n",
       "    <tr>\n",
       "      <th>...</th>\n",
       "      <td>...</td>\n",
       "      <td>...</td>\n",
       "      <td>...</td>\n",
       "      <td>...</td>\n",
       "      <td>...</td>\n",
       "    </tr>\n",
       "    <tr>\n",
       "      <th>91</th>\n",
       "      <td>1000</td>\n",
       "      <td>7</td>\n",
       "      <td>0.0001</td>\n",
       "      <td>-2.417324</td>\n",
       "      <td>-2.249340</td>\n",
       "    </tr>\n",
       "    <tr>\n",
       "      <th>92</th>\n",
       "      <td>1000</td>\n",
       "      <td>9</td>\n",
       "      <td>0.1000</td>\n",
       "      <td>0.999703</td>\n",
       "      <td>0.688088</td>\n",
       "    </tr>\n",
       "    <tr>\n",
       "      <th>93</th>\n",
       "      <td>1000</td>\n",
       "      <td>9</td>\n",
       "      <td>0.0100</td>\n",
       "      <td>0.901236</td>\n",
       "      <td>0.770218</td>\n",
       "    </tr>\n",
       "    <tr>\n",
       "      <th>94</th>\n",
       "      <td>1000</td>\n",
       "      <td>9</td>\n",
       "      <td>0.0010</td>\n",
       "      <td>0.187541</td>\n",
       "      <td>0.239986</td>\n",
       "    </tr>\n",
       "    <tr>\n",
       "      <th>95</th>\n",
       "      <td>1000</td>\n",
       "      <td>9</td>\n",
       "      <td>0.0001</td>\n",
       "      <td>-2.390731</td>\n",
       "      <td>-2.228844</td>\n",
       "    </tr>\n",
       "  </tbody>\n",
       "</table>\n",
       "<p>96 rows × 5 columns</p>\n",
       "</div>"
      ],
      "text/plain": [
       "    n_estimators  max_depth  learning_rate  Train Score  Test Score\n",
       "0            100          3         0.1000     0.734452    0.723958\n",
       "1            100          3         0.0100    -0.164575   -0.116767\n",
       "2            100          3         0.0010    -2.469560   -2.307010\n",
       "3            100          3         0.0001    -2.992666   -2.809048\n",
       "4            100          5         0.1000     0.827768    0.780228\n",
       "..           ...        ...            ...          ...         ...\n",
       "91          1000          7         0.0001    -2.417324   -2.249340\n",
       "92          1000          9         0.1000     0.999703    0.688088\n",
       "93          1000          9         0.0100     0.901236    0.770218\n",
       "94          1000          9         0.0010     0.187541    0.239986\n",
       "95          1000          9         0.0001    -2.390731   -2.228844\n",
       "\n",
       "[96 rows x 5 columns]"
      ]
     },
     "execution_count": 95,
     "metadata": {},
     "output_type": "execute_result"
    }
   ],
   "source": [
    "n_estimators_candidate = [100, 200, 300,400,500, 1000]\n",
    "max_depth_candidate = [3, 5, 7, 9]\n",
    "learning_rate_candidate = [0.1, 0.01, 0.001, 0.0001]\n",
    "\n",
    "# 결과를 저장할 빈 리스트 생성\n",
    "n_estimators_list = []\n",
    "max_depth_list = []\n",
    "learning_rate_list = []\n",
    "train_score_list = []\n",
    "val_score_list = []\n",
    "\n",
    "# XGBoost의 n_estimators 파라미터에 대해서\n",
    "for n_estimators in n_estimators_candidate:\n",
    "    # XGBoost의 max_depth 파라미터에 대해서\n",
    "    for max_depth in max_depth_candidate:\n",
    "        # XGBoost의 learning_rate 파라미터에 대해서\n",
    "        for learning_rate in learning_rate_candidate:\n",
    "            # 모델 생성 및 학습\n",
    "            model = xgb.XGBRegressor(n_estimators=n_estimators, max_depth=max_depth, learning_rate=learning_rate).fit(X_train, y_train)\n",
    "            # Train 데이터에 대한 결과 확인\n",
    "            train_predict = model.predict(X_train)\n",
    "            train_score_list.append(r2_score(y_train, train_predict))\n",
    "            # Test 데이터에 대한 결과 확인\n",
    "            test_predict = model.predict(X_test)\n",
    "            val_score_list.append(r2_score(y_test, test_predict))\n",
    "            # Parameter 저장\n",
    "            n_estimators_list.append(n_estimators)\n",
    "            max_depth_list.append(max_depth)\n",
    "            learning_rate_list.append(learning_rate)\n",
    "            \n",
    "result = pd.DataFrame({\"n_estimators\": n_estimators_list, \"max_depth\": max_depth_list, \"learning_rate\": learning_rate_list, 'Train Score': train_score_list, 'Test Score': val_score_list})\n",
    "result                    "
   ]
  },
  {
   "cell_type": "code",
   "execution_count": 96,
   "metadata": {},
   "outputs": [
    {
     "data": {
      "text/html": [
       "<div>\n",
       "<style scoped>\n",
       "    .dataframe tbody tr th:only-of-type {\n",
       "        vertical-align: middle;\n",
       "    }\n",
       "\n",
       "    .dataframe tbody tr th {\n",
       "        vertical-align: top;\n",
       "    }\n",
       "\n",
       "    .dataframe thead th {\n",
       "        text-align: right;\n",
       "    }\n",
       "</style>\n",
       "<table border=\"1\" class=\"dataframe\">\n",
       "  <thead>\n",
       "    <tr style=\"text-align: right;\">\n",
       "      <th></th>\n",
       "      <th>n_estimators</th>\n",
       "      <th>max_depth</th>\n",
       "      <th>learning_rate</th>\n",
       "      <th>Train Score</th>\n",
       "      <th>Test Score</th>\n",
       "    </tr>\n",
       "  </thead>\n",
       "  <tbody>\n",
       "    <tr>\n",
       "      <th>0</th>\n",
       "      <td>500</td>\n",
       "      <td>7</td>\n",
       "      <td>0.01</td>\n",
       "      <td>0.83146</td>\n",
       "      <td>0.781747</td>\n",
       "    </tr>\n",
       "  </tbody>\n",
       "</table>\n",
       "</div>"
      ],
      "text/plain": [
       "   n_estimators  max_depth  learning_rate  Train Score  Test Score\n",
       "0           500          7           0.01      0.83146    0.781747"
      ]
     },
     "execution_count": 96,
     "metadata": {},
     "output_type": "execute_result"
    }
   ],
   "source": [
    "result = result.loc[result['Test Score'] == max(result['Test Score']), :].reset_index(drop = True)\n",
    "result"
   ]
  },
  {
   "cell_type": "code",
   "execution_count": 97,
   "metadata": {},
   "outputs": [],
   "source": [
    "model = xgb.XGBRegressor(n_estimators=result['n_estimators'][0], max_depth=result['max_depth'][0], learning_rate=result['learning_rate'][0], objective='reg:squarederror').fit(X_train, y_train)"
   ]
  },
  {
   "cell_type": "code",
   "execution_count": 98,
   "metadata": {},
   "outputs": [],
   "source": [
    "train_predicted = model.predict(X_train)\n",
    "test_predicted = model.predict(X_test)"
   ]
  },
  {
   "cell_type": "code",
   "execution_count": 99,
   "metadata": {},
   "outputs": [
    {
     "name": "stdout",
     "output_type": "stream",
     "text": [
      "Train RMSE: 354.6826477050781\n",
      "Train R2 score: 0.8314595429623566\n",
      "Train Accuracy: 1.0\n"
     ]
    }
   ],
   "source": [
    "print(\"Train RMSE: {}\".format(np.sqrt(mean_squared_error(y_train, train_predicted))))\n",
    "print(\"Train R2 score: {}\".format(r2_score(y_train, train_predicted)))\n",
    "print('Train Accuracy: {}'.format(accuracy_score(train_location_true, train_location_pred)))"
   ]
  },
  {
   "cell_type": "code",
   "execution_count": 100,
   "metadata": {},
   "outputs": [
    {
     "name": "stdout",
     "output_type": "stream",
     "text": [
      "Test RMSE: 408.2412109375\n",
      "Test R2 score: 0.7817466315740985\n",
      "Test Accuracy: 1.0\n"
     ]
    }
   ],
   "source": [
    "print(\"Test RMSE: {}\".format(np.sqrt(mean_squared_error(y_test, test_predicted))))\n",
    "print(\"Test R2 score: {}\".format(r2_score(y_test, test_predicted)))\n",
    "print('Test Accuracy: {}'.format(accuracy_score(test_type_true, test_type_pred)))"
   ]
  }
 ],
 "metadata": {
  "interpreter": {
   "hash": "4737874eba92297991c3fb6eec14ba36dab00ee1f4459fe2760d59ec4693efc4"
  },
  "kernelspec": {
   "display_name": "Python 3.8.13 ('ml_env')",
   "language": "python",
   "name": "python3"
  },
  "language_info": {
   "codemirror_mode": {
    "name": "ipython",
    "version": 3
   },
   "file_extension": ".py",
   "mimetype": "text/x-python",
   "name": "python",
   "nbconvert_exporter": "python",
   "pygments_lexer": "ipython3",
   "version": "3.8.13"
  }
 },
 "nbformat": 4,
 "nbformat_minor": 4
}
